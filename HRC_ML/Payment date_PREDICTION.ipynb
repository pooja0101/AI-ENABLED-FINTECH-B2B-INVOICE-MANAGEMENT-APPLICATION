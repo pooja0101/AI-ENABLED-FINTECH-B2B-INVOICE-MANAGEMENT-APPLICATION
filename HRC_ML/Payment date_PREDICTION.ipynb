{
  "cells": [
    {
      "cell_type": "markdown",
      "id": "wcq6dWzy1ZR0",
      "metadata": {
        "id": "wcq6dWzy1ZR0"
      },
      "source": [
        "# Payment Date Prediction "
      ]
    },
    {
      "cell_type": "markdown",
      "id": "2778654e",
      "metadata": {
        "id": "2778654e"
      },
      "source": [
        "\n",
        "### Importing related Libraries "
      ]
    },
    {
      "cell_type": "code",
      "execution_count": 1,
      "id": "304c9e38",
      "metadata": {
        "id": "304c9e38"
      },
      "outputs": [],
      "source": [
        "import numpy as np\n",
        "import pandas as pd\n",
        "import datetime as dt\n",
        "from scipy import stats\n",
        "import seaborn as sns\n",
        "import matplotlib.pyplot as plt\n",
        "%matplotlib inline \n",
        "from sklearn.model_selection import train_test_split\n",
        "from sklearn.linear_model import LinearRegression\n",
        "from sklearn import metrics\n",
        "from sklearn.ensemble import RandomForestRegressor"
      ]
    },
    {
      "cell_type": "markdown",
      "id": "97dc1543-3314-470c-8093-5faf3101e3fe",
      "metadata": {
        "id": "97dc1543-3314-470c-8093-5faf3101e3fe"
      },
      "source": [
        "### Store the dataset into the Dataframe\n"
      ]
    },
    {
      "cell_type": "code",
      "execution_count": 2,
      "id": "415db50a",
      "metadata": {
        "id": "415db50a"
      },
      "outputs": [],
      "source": [
        "df = pd.read_csv('dataset.csv')"
      ]
    },
    {
      "cell_type": "markdown",
      "id": "42e37f05",
      "metadata": {
        "id": "42e37f05"
      },
      "source": [
        "### Check the shape of the dataframe\n"
      ]
    },
    {
      "cell_type": "code",
      "execution_count": 3,
      "id": "27cc0907",
      "metadata": {
        "id": "27cc0907",
        "colab": {
          "base_uri": "https://localhost:8080/"
        },
        "outputId": "dc0053ef-dcc8-490f-c326-0807c7cb8b95"
      },
      "outputs": [
        {
          "output_type": "execute_result",
          "data": {
            "text/plain": [
              "(50000, 19)"
            ]
          },
          "metadata": {},
          "execution_count": 3
        }
      ],
      "source": [
        "df.shape"
      ]
    },
    {
      "cell_type": "markdown",
      "id": "b68c955d",
      "metadata": {
        "id": "b68c955d"
      },
      "source": [
        "### Check the Detail information of the dataframe"
      ]
    },
    {
      "cell_type": "code",
      "execution_count": 4,
      "id": "e092ec9e",
      "metadata": {
        "id": "e092ec9e",
        "colab": {
          "base_uri": "https://localhost:8080/"
        },
        "outputId": "34f8bbc7-002e-44ef-bfc2-749b73f8eeb3"
      },
      "outputs": [
        {
          "output_type": "stream",
          "name": "stdout",
          "text": [
            "<class 'pandas.core.frame.DataFrame'>\n",
            "RangeIndex: 50000 entries, 0 to 49999\n",
            "Data columns (total 19 columns):\n",
            " #   Column                  Non-Null Count  Dtype  \n",
            "---  ------                  --------------  -----  \n",
            " 0   business_code           50000 non-null  object \n",
            " 1   cust_number             50000 non-null  object \n",
            " 2   name_customer           50000 non-null  object \n",
            " 3   clear_date              40000 non-null  object \n",
            " 4   buisness_year           50000 non-null  float64\n",
            " 5   doc_id                  50000 non-null  float64\n",
            " 6   posting_date            50000 non-null  object \n",
            " 7   document_create_date    50000 non-null  int64  \n",
            " 8   document_create_date.1  50000 non-null  int64  \n",
            " 9   due_in_date             50000 non-null  float64\n",
            " 10  invoice_currency        50000 non-null  object \n",
            " 11  document type           50000 non-null  object \n",
            " 12  posting_id              50000 non-null  float64\n",
            " 13  area_business           0 non-null      float64\n",
            " 14  total_open_amount       50000 non-null  float64\n",
            " 15  baseline_create_date    50000 non-null  float64\n",
            " 16  cust_payment_terms      50000 non-null  object \n",
            " 17  invoice_id              49994 non-null  float64\n",
            " 18  isOpen                  50000 non-null  int64  \n",
            "dtypes: float64(8), int64(3), object(8)\n",
            "memory usage: 7.2+ MB\n"
          ]
        }
      ],
      "source": [
        "df.info()"
      ]
    },
    {
      "cell_type": "markdown",
      "id": "112f2d0e",
      "metadata": {
        "id": "112f2d0e"
      },
      "source": [
        "### Display All the column names"
      ]
    },
    {
      "cell_type": "code",
      "execution_count": 5,
      "id": "1416e2fd",
      "metadata": {
        "id": "1416e2fd",
        "colab": {
          "base_uri": "https://localhost:8080/"
        },
        "outputId": "5703d582-09f3-4701-cf52-9f2e4f13416c"
      },
      "outputs": [
        {
          "output_type": "execute_result",
          "data": {
            "text/plain": [
              "Index(['business_code', 'cust_number', 'name_customer', 'clear_date',\n",
              "       'buisness_year', 'doc_id', 'posting_date', 'document_create_date',\n",
              "       'document_create_date.1', 'due_in_date', 'invoice_currency',\n",
              "       'document type', 'posting_id', 'area_business', 'total_open_amount',\n",
              "       'baseline_create_date', 'cust_payment_terms', 'invoice_id', 'isOpen'],\n",
              "      dtype='object')"
            ]
          },
          "metadata": {},
          "execution_count": 5
        }
      ],
      "source": [
        "df.columns"
      ]
    },
    {
      "cell_type": "markdown",
      "id": "d465ed7a",
      "metadata": {
        "id": "d465ed7a"
      },
      "source": [
        "### Describe the entire dataset"
      ]
    },
    {
      "cell_type": "code",
      "execution_count": 6,
      "id": "25f65e1b",
      "metadata": {
        "id": "25f65e1b",
        "colab": {
          "base_uri": "https://localhost:8080/",
          "height": 493
        },
        "outputId": "55fb2396-ff8b-4ab5-d0a1-7c9177c97d2d"
      },
      "outputs": [
        {
          "output_type": "execute_result",
          "data": {
            "text/html": [
              "\n",
              "  <div id=\"df-e71e7700-9d51-49c2-af21-e684e1ab5b16\">\n",
              "    <div class=\"colab-df-container\">\n",
              "      <div>\n",
              "<style scoped>\n",
              "    .dataframe tbody tr th:only-of-type {\n",
              "        vertical-align: middle;\n",
              "    }\n",
              "\n",
              "    .dataframe tbody tr th {\n",
              "        vertical-align: top;\n",
              "    }\n",
              "\n",
              "    .dataframe thead th {\n",
              "        text-align: right;\n",
              "    }\n",
              "</style>\n",
              "<table border=\"1\" class=\"dataframe\">\n",
              "  <thead>\n",
              "    <tr style=\"text-align: right;\">\n",
              "      <th></th>\n",
              "      <th>business_code</th>\n",
              "      <th>cust_number</th>\n",
              "      <th>name_customer</th>\n",
              "      <th>clear_date</th>\n",
              "      <th>buisness_year</th>\n",
              "      <th>doc_id</th>\n",
              "      <th>posting_date</th>\n",
              "      <th>document_create_date</th>\n",
              "      <th>document_create_date.1</th>\n",
              "      <th>due_in_date</th>\n",
              "      <th>invoice_currency</th>\n",
              "      <th>document type</th>\n",
              "      <th>posting_id</th>\n",
              "      <th>area_business</th>\n",
              "      <th>total_open_amount</th>\n",
              "      <th>baseline_create_date</th>\n",
              "      <th>cust_payment_terms</th>\n",
              "      <th>invoice_id</th>\n",
              "      <th>isOpen</th>\n",
              "    </tr>\n",
              "  </thead>\n",
              "  <tbody>\n",
              "    <tr>\n",
              "      <th>count</th>\n",
              "      <td>50000</td>\n",
              "      <td>50000</td>\n",
              "      <td>50000</td>\n",
              "      <td>40000</td>\n",
              "      <td>50000.000000</td>\n",
              "      <td>5.000000e+04</td>\n",
              "      <td>50000</td>\n",
              "      <td>5.000000e+04</td>\n",
              "      <td>5.000000e+04</td>\n",
              "      <td>5.000000e+04</td>\n",
              "      <td>50000</td>\n",
              "      <td>50000</td>\n",
              "      <td>50000.0</td>\n",
              "      <td>0.0</td>\n",
              "      <td>50000.000000</td>\n",
              "      <td>5.000000e+04</td>\n",
              "      <td>50000</td>\n",
              "      <td>4.999400e+04</td>\n",
              "      <td>50000.000000</td>\n",
              "    </tr>\n",
              "    <tr>\n",
              "      <th>unique</th>\n",
              "      <td>6</td>\n",
              "      <td>1425</td>\n",
              "      <td>4197</td>\n",
              "      <td>403</td>\n",
              "      <td>NaN</td>\n",
              "      <td>NaN</td>\n",
              "      <td>506</td>\n",
              "      <td>NaN</td>\n",
              "      <td>NaN</td>\n",
              "      <td>NaN</td>\n",
              "      <td>2</td>\n",
              "      <td>2</td>\n",
              "      <td>NaN</td>\n",
              "      <td>NaN</td>\n",
              "      <td>NaN</td>\n",
              "      <td>NaN</td>\n",
              "      <td>74</td>\n",
              "      <td>NaN</td>\n",
              "      <td>NaN</td>\n",
              "    </tr>\n",
              "    <tr>\n",
              "      <th>top</th>\n",
              "      <td>U001</td>\n",
              "      <td>0200769623</td>\n",
              "      <td>WAL-MAR trust</td>\n",
              "      <td>2019-11-12 00:00:00</td>\n",
              "      <td>NaN</td>\n",
              "      <td>NaN</td>\n",
              "      <td>2020-03-24</td>\n",
              "      <td>NaN</td>\n",
              "      <td>NaN</td>\n",
              "      <td>NaN</td>\n",
              "      <td>USD</td>\n",
              "      <td>RV</td>\n",
              "      <td>NaN</td>\n",
              "      <td>NaN</td>\n",
              "      <td>NaN</td>\n",
              "      <td>NaN</td>\n",
              "      <td>NAA8</td>\n",
              "      <td>NaN</td>\n",
              "      <td>NaN</td>\n",
              "    </tr>\n",
              "    <tr>\n",
              "      <th>freq</th>\n",
              "      <td>45359</td>\n",
              "      <td>11483</td>\n",
              "      <td>1179</td>\n",
              "      <td>309</td>\n",
              "      <td>NaN</td>\n",
              "      <td>NaN</td>\n",
              "      <td>226</td>\n",
              "      <td>NaN</td>\n",
              "      <td>NaN</td>\n",
              "      <td>NaN</td>\n",
              "      <td>46081</td>\n",
              "      <td>49994</td>\n",
              "      <td>NaN</td>\n",
              "      <td>NaN</td>\n",
              "      <td>NaN</td>\n",
              "      <td>NaN</td>\n",
              "      <td>20118</td>\n",
              "      <td>NaN</td>\n",
              "      <td>NaN</td>\n",
              "    </tr>\n",
              "    <tr>\n",
              "      <th>mean</th>\n",
              "      <td>NaN</td>\n",
              "      <td>NaN</td>\n",
              "      <td>NaN</td>\n",
              "      <td>NaN</td>\n",
              "      <td>2019.305700</td>\n",
              "      <td>2.012238e+09</td>\n",
              "      <td>NaN</td>\n",
              "      <td>2.019351e+07</td>\n",
              "      <td>2.019354e+07</td>\n",
              "      <td>2.019368e+07</td>\n",
              "      <td>NaN</td>\n",
              "      <td>NaN</td>\n",
              "      <td>1.0</td>\n",
              "      <td>NaN</td>\n",
              "      <td>32337.021651</td>\n",
              "      <td>2.019354e+07</td>\n",
              "      <td>NaN</td>\n",
              "      <td>2.011340e+09</td>\n",
              "      <td>0.200000</td>\n",
              "    </tr>\n",
              "    <tr>\n",
              "      <th>std</th>\n",
              "      <td>NaN</td>\n",
              "      <td>NaN</td>\n",
              "      <td>NaN</td>\n",
              "      <td>NaN</td>\n",
              "      <td>0.460708</td>\n",
              "      <td>2.885235e+08</td>\n",
              "      <td>NaN</td>\n",
              "      <td>4.496041e+03</td>\n",
              "      <td>4.482134e+03</td>\n",
              "      <td>4.470614e+03</td>\n",
              "      <td>NaN</td>\n",
              "      <td>NaN</td>\n",
              "      <td>0.0</td>\n",
              "      <td>NaN</td>\n",
              "      <td>39205.975231</td>\n",
              "      <td>4.482701e+03</td>\n",
              "      <td>NaN</td>\n",
              "      <td>2.766335e+08</td>\n",
              "      <td>0.400004</td>\n",
              "    </tr>\n",
              "    <tr>\n",
              "      <th>min</th>\n",
              "      <td>NaN</td>\n",
              "      <td>NaN</td>\n",
              "      <td>NaN</td>\n",
              "      <td>NaN</td>\n",
              "      <td>2019.000000</td>\n",
              "      <td>1.928502e+09</td>\n",
              "      <td>NaN</td>\n",
              "      <td>2.018123e+07</td>\n",
              "      <td>2.018123e+07</td>\n",
              "      <td>2.018122e+07</td>\n",
              "      <td>NaN</td>\n",
              "      <td>NaN</td>\n",
              "      <td>1.0</td>\n",
              "      <td>NaN</td>\n",
              "      <td>0.720000</td>\n",
              "      <td>2.018121e+07</td>\n",
              "      <td>NaN</td>\n",
              "      <td>1.928502e+09</td>\n",
              "      <td>0.000000</td>\n",
              "    </tr>\n",
              "    <tr>\n",
              "      <th>25%</th>\n",
              "      <td>NaN</td>\n",
              "      <td>NaN</td>\n",
              "      <td>NaN</td>\n",
              "      <td>NaN</td>\n",
              "      <td>2019.000000</td>\n",
              "      <td>1.929342e+09</td>\n",
              "      <td>NaN</td>\n",
              "      <td>2.019050e+07</td>\n",
              "      <td>2.019051e+07</td>\n",
              "      <td>2.019052e+07</td>\n",
              "      <td>NaN</td>\n",
              "      <td>NaN</td>\n",
              "      <td>1.0</td>\n",
              "      <td>NaN</td>\n",
              "      <td>4928.312500</td>\n",
              "      <td>2.019050e+07</td>\n",
              "      <td>NaN</td>\n",
              "      <td>1.929342e+09</td>\n",
              "      <td>0.000000</td>\n",
              "    </tr>\n",
              "    <tr>\n",
              "      <th>50%</th>\n",
              "      <td>NaN</td>\n",
              "      <td>NaN</td>\n",
              "      <td>NaN</td>\n",
              "      <td>NaN</td>\n",
              "      <td>2019.000000</td>\n",
              "      <td>1.929964e+09</td>\n",
              "      <td>NaN</td>\n",
              "      <td>2.019091e+07</td>\n",
              "      <td>2.019091e+07</td>\n",
              "      <td>2.019093e+07</td>\n",
              "      <td>NaN</td>\n",
              "      <td>NaN</td>\n",
              "      <td>1.0</td>\n",
              "      <td>NaN</td>\n",
              "      <td>17609.010000</td>\n",
              "      <td>2.019091e+07</td>\n",
              "      <td>NaN</td>\n",
              "      <td>1.929964e+09</td>\n",
              "      <td>0.000000</td>\n",
              "    </tr>\n",
              "    <tr>\n",
              "      <th>75%</th>\n",
              "      <td>NaN</td>\n",
              "      <td>NaN</td>\n",
              "      <td>NaN</td>\n",
              "      <td>NaN</td>\n",
              "      <td>2020.000000</td>\n",
              "      <td>1.930619e+09</td>\n",
              "      <td>NaN</td>\n",
              "      <td>2.020013e+07</td>\n",
              "      <td>2.020013e+07</td>\n",
              "      <td>2.020022e+07</td>\n",
              "      <td>NaN</td>\n",
              "      <td>NaN</td>\n",
              "      <td>1.0</td>\n",
              "      <td>NaN</td>\n",
              "      <td>47133.635000</td>\n",
              "      <td>2.020013e+07</td>\n",
              "      <td>NaN</td>\n",
              "      <td>1.930619e+09</td>\n",
              "      <td>0.000000</td>\n",
              "    </tr>\n",
              "    <tr>\n",
              "      <th>max</th>\n",
              "      <td>NaN</td>\n",
              "      <td>NaN</td>\n",
              "      <td>NaN</td>\n",
              "      <td>NaN</td>\n",
              "      <td>2020.000000</td>\n",
              "      <td>9.500000e+09</td>\n",
              "      <td>NaN</td>\n",
              "      <td>2.020052e+07</td>\n",
              "      <td>2.020052e+07</td>\n",
              "      <td>2.020071e+07</td>\n",
              "      <td>NaN</td>\n",
              "      <td>NaN</td>\n",
              "      <td>1.0</td>\n",
              "      <td>NaN</td>\n",
              "      <td>668593.360000</td>\n",
              "      <td>2.020052e+07</td>\n",
              "      <td>NaN</td>\n",
              "      <td>2.960636e+09</td>\n",
              "      <td>1.000000</td>\n",
              "    </tr>\n",
              "  </tbody>\n",
              "</table>\n",
              "</div>\n",
              "      <button class=\"colab-df-convert\" onclick=\"convertToInteractive('df-e71e7700-9d51-49c2-af21-e684e1ab5b16')\"\n",
              "              title=\"Convert this dataframe to an interactive table.\"\n",
              "              style=\"display:none;\">\n",
              "        \n",
              "  <svg xmlns=\"http://www.w3.org/2000/svg\" height=\"24px\"viewBox=\"0 0 24 24\"\n",
              "       width=\"24px\">\n",
              "    <path d=\"M0 0h24v24H0V0z\" fill=\"none\"/>\n",
              "    <path d=\"M18.56 5.44l.94 2.06.94-2.06 2.06-.94-2.06-.94-.94-2.06-.94 2.06-2.06.94zm-11 1L8.5 8.5l.94-2.06 2.06-.94-2.06-.94L8.5 2.5l-.94 2.06-2.06.94zm10 10l.94 2.06.94-2.06 2.06-.94-2.06-.94-.94-2.06-.94 2.06-2.06.94z\"/><path d=\"M17.41 7.96l-1.37-1.37c-.4-.4-.92-.59-1.43-.59-.52 0-1.04.2-1.43.59L10.3 9.45l-7.72 7.72c-.78.78-.78 2.05 0 2.83L4 21.41c.39.39.9.59 1.41.59.51 0 1.02-.2 1.41-.59l7.78-7.78 2.81-2.81c.8-.78.8-2.07 0-2.86zM5.41 20L4 18.59l7.72-7.72 1.47 1.35L5.41 20z\"/>\n",
              "  </svg>\n",
              "      </button>\n",
              "      \n",
              "  <style>\n",
              "    .colab-df-container {\n",
              "      display:flex;\n",
              "      flex-wrap:wrap;\n",
              "      gap: 12px;\n",
              "    }\n",
              "\n",
              "    .colab-df-convert {\n",
              "      background-color: #E8F0FE;\n",
              "      border: none;\n",
              "      border-radius: 50%;\n",
              "      cursor: pointer;\n",
              "      display: none;\n",
              "      fill: #1967D2;\n",
              "      height: 32px;\n",
              "      padding: 0 0 0 0;\n",
              "      width: 32px;\n",
              "    }\n",
              "\n",
              "    .colab-df-convert:hover {\n",
              "      background-color: #E2EBFA;\n",
              "      box-shadow: 0px 1px 2px rgba(60, 64, 67, 0.3), 0px 1px 3px 1px rgba(60, 64, 67, 0.15);\n",
              "      fill: #174EA6;\n",
              "    }\n",
              "\n",
              "    [theme=dark] .colab-df-convert {\n",
              "      background-color: #3B4455;\n",
              "      fill: #D2E3FC;\n",
              "    }\n",
              "\n",
              "    [theme=dark] .colab-df-convert:hover {\n",
              "      background-color: #434B5C;\n",
              "      box-shadow: 0px 1px 3px 1px rgba(0, 0, 0, 0.15);\n",
              "      filter: drop-shadow(0px 1px 2px rgba(0, 0, 0, 0.3));\n",
              "      fill: #FFFFFF;\n",
              "    }\n",
              "  </style>\n",
              "\n",
              "      <script>\n",
              "        const buttonEl =\n",
              "          document.querySelector('#df-e71e7700-9d51-49c2-af21-e684e1ab5b16 button.colab-df-convert');\n",
              "        buttonEl.style.display =\n",
              "          google.colab.kernel.accessAllowed ? 'block' : 'none';\n",
              "\n",
              "        async function convertToInteractive(key) {\n",
              "          const element = document.querySelector('#df-e71e7700-9d51-49c2-af21-e684e1ab5b16');\n",
              "          const dataTable =\n",
              "            await google.colab.kernel.invokeFunction('convertToInteractive',\n",
              "                                                     [key], {});\n",
              "          if (!dataTable) return;\n",
              "\n",
              "          const docLinkHtml = 'Like what you see? Visit the ' +\n",
              "            '<a target=\"_blank\" href=https://colab.research.google.com/notebooks/data_table.ipynb>data table notebook</a>'\n",
              "            + ' to learn more about interactive tables.';\n",
              "          element.innerHTML = '';\n",
              "          dataTable['output_type'] = 'display_data';\n",
              "          await google.colab.output.renderOutput(dataTable, element);\n",
              "          const docLink = document.createElement('div');\n",
              "          docLink.innerHTML = docLinkHtml;\n",
              "          element.appendChild(docLink);\n",
              "        }\n",
              "      </script>\n",
              "    </div>\n",
              "  </div>\n",
              "  "
            ],
            "text/plain": [
              "       business_code cust_number  ...    invoice_id        isOpen\n",
              "count          50000       50000  ...  4.999400e+04  50000.000000\n",
              "unique             6        1425  ...           NaN           NaN\n",
              "top             U001  0200769623  ...           NaN           NaN\n",
              "freq           45359       11483  ...           NaN           NaN\n",
              "mean             NaN         NaN  ...  2.011340e+09      0.200000\n",
              "std              NaN         NaN  ...  2.766335e+08      0.400004\n",
              "min              NaN         NaN  ...  1.928502e+09      0.000000\n",
              "25%              NaN         NaN  ...  1.929342e+09      0.000000\n",
              "50%              NaN         NaN  ...  1.929964e+09      0.000000\n",
              "75%              NaN         NaN  ...  1.930619e+09      0.000000\n",
              "max              NaN         NaN  ...  2.960636e+09      1.000000\n",
              "\n",
              "[11 rows x 19 columns]"
            ]
          },
          "metadata": {},
          "execution_count": 6
        }
      ],
      "source": [
        "df.describe(include='all')\n"
      ]
    },
    {
      "cell_type": "markdown",
      "id": "0f2c8d02",
      "metadata": {
        "id": "0f2c8d02"
      },
      "source": [
        "# Data Cleaning\n",
        "\n",
        "- Show top 5 records from the dataset"
      ]
    },
    {
      "cell_type": "code",
      "execution_count": 7,
      "id": "8f876212",
      "metadata": {
        "id": "8f876212",
        "colab": {
          "base_uri": "https://localhost:8080/",
          "height": 426
        },
        "outputId": "171de515-08f6-4441-8574-4ba6bc779f4e"
      },
      "outputs": [
        {
          "output_type": "execute_result",
          "data": {
            "text/html": [
              "\n",
              "  <div id=\"df-e1963446-489f-41eb-831b-7b49be603f2d\">\n",
              "    <div class=\"colab-df-container\">\n",
              "      <div>\n",
              "<style scoped>\n",
              "    .dataframe tbody tr th:only-of-type {\n",
              "        vertical-align: middle;\n",
              "    }\n",
              "\n",
              "    .dataframe tbody tr th {\n",
              "        vertical-align: top;\n",
              "    }\n",
              "\n",
              "    .dataframe thead th {\n",
              "        text-align: right;\n",
              "    }\n",
              "</style>\n",
              "<table border=\"1\" class=\"dataframe\">\n",
              "  <thead>\n",
              "    <tr style=\"text-align: right;\">\n",
              "      <th></th>\n",
              "      <th>business_code</th>\n",
              "      <th>cust_number</th>\n",
              "      <th>name_customer</th>\n",
              "      <th>clear_date</th>\n",
              "      <th>buisness_year</th>\n",
              "      <th>doc_id</th>\n",
              "      <th>posting_date</th>\n",
              "      <th>document_create_date</th>\n",
              "      <th>document_create_date.1</th>\n",
              "      <th>due_in_date</th>\n",
              "      <th>invoice_currency</th>\n",
              "      <th>document type</th>\n",
              "      <th>posting_id</th>\n",
              "      <th>area_business</th>\n",
              "      <th>total_open_amount</th>\n",
              "      <th>baseline_create_date</th>\n",
              "      <th>cust_payment_terms</th>\n",
              "      <th>invoice_id</th>\n",
              "      <th>isOpen</th>\n",
              "    </tr>\n",
              "  </thead>\n",
              "  <tbody>\n",
              "    <tr>\n",
              "      <th>0</th>\n",
              "      <td>U001</td>\n",
              "      <td>0200769623</td>\n",
              "      <td>WAL-MAR corp</td>\n",
              "      <td>2020-02-11 00:00:00</td>\n",
              "      <td>2020.0</td>\n",
              "      <td>1.930438e+09</td>\n",
              "      <td>2020-01-26</td>\n",
              "      <td>20200125</td>\n",
              "      <td>20200126</td>\n",
              "      <td>20200210.0</td>\n",
              "      <td>USD</td>\n",
              "      <td>RV</td>\n",
              "      <td>1.0</td>\n",
              "      <td>NaN</td>\n",
              "      <td>54273.28</td>\n",
              "      <td>20200126.0</td>\n",
              "      <td>NAH4</td>\n",
              "      <td>1.930438e+09</td>\n",
              "      <td>0</td>\n",
              "    </tr>\n",
              "    <tr>\n",
              "      <th>1</th>\n",
              "      <td>U001</td>\n",
              "      <td>0200980828</td>\n",
              "      <td>BEN E</td>\n",
              "      <td>2019-08-08 00:00:00</td>\n",
              "      <td>2019.0</td>\n",
              "      <td>1.929646e+09</td>\n",
              "      <td>2019-07-22</td>\n",
              "      <td>20190722</td>\n",
              "      <td>20190722</td>\n",
              "      <td>20190811.0</td>\n",
              "      <td>USD</td>\n",
              "      <td>RV</td>\n",
              "      <td>1.0</td>\n",
              "      <td>NaN</td>\n",
              "      <td>79656.60</td>\n",
              "      <td>20190722.0</td>\n",
              "      <td>NAD1</td>\n",
              "      <td>1.929646e+09</td>\n",
              "      <td>0</td>\n",
              "    </tr>\n",
              "    <tr>\n",
              "      <th>2</th>\n",
              "      <td>U001</td>\n",
              "      <td>0200792734</td>\n",
              "      <td>MDV/ trust</td>\n",
              "      <td>2019-12-30 00:00:00</td>\n",
              "      <td>2019.0</td>\n",
              "      <td>1.929874e+09</td>\n",
              "      <td>2019-09-14</td>\n",
              "      <td>20190914</td>\n",
              "      <td>20190914</td>\n",
              "      <td>20190929.0</td>\n",
              "      <td>USD</td>\n",
              "      <td>RV</td>\n",
              "      <td>1.0</td>\n",
              "      <td>NaN</td>\n",
              "      <td>2253.86</td>\n",
              "      <td>20190914.0</td>\n",
              "      <td>NAA8</td>\n",
              "      <td>1.929874e+09</td>\n",
              "      <td>0</td>\n",
              "    </tr>\n",
              "    <tr>\n",
              "      <th>3</th>\n",
              "      <td>CA02</td>\n",
              "      <td>0140105686</td>\n",
              "      <td>SYSC llc</td>\n",
              "      <td>NaN</td>\n",
              "      <td>2020.0</td>\n",
              "      <td>2.960623e+09</td>\n",
              "      <td>2020-03-30</td>\n",
              "      <td>20200330</td>\n",
              "      <td>20200330</td>\n",
              "      <td>20200410.0</td>\n",
              "      <td>CAD</td>\n",
              "      <td>RV</td>\n",
              "      <td>1.0</td>\n",
              "      <td>NaN</td>\n",
              "      <td>3299.70</td>\n",
              "      <td>20200331.0</td>\n",
              "      <td>CA10</td>\n",
              "      <td>2.960623e+09</td>\n",
              "      <td>1</td>\n",
              "    </tr>\n",
              "    <tr>\n",
              "      <th>4</th>\n",
              "      <td>U001</td>\n",
              "      <td>0200769623</td>\n",
              "      <td>WAL-MAR foundation</td>\n",
              "      <td>2019-11-25 00:00:00</td>\n",
              "      <td>2019.0</td>\n",
              "      <td>1.930148e+09</td>\n",
              "      <td>2019-11-13</td>\n",
              "      <td>20191113</td>\n",
              "      <td>20191113</td>\n",
              "      <td>20191128.0</td>\n",
              "      <td>USD</td>\n",
              "      <td>RV</td>\n",
              "      <td>1.0</td>\n",
              "      <td>NaN</td>\n",
              "      <td>33133.29</td>\n",
              "      <td>20191113.0</td>\n",
              "      <td>NAH4</td>\n",
              "      <td>1.930148e+09</td>\n",
              "      <td>0</td>\n",
              "    </tr>\n",
              "  </tbody>\n",
              "</table>\n",
              "</div>\n",
              "      <button class=\"colab-df-convert\" onclick=\"convertToInteractive('df-e1963446-489f-41eb-831b-7b49be603f2d')\"\n",
              "              title=\"Convert this dataframe to an interactive table.\"\n",
              "              style=\"display:none;\">\n",
              "        \n",
              "  <svg xmlns=\"http://www.w3.org/2000/svg\" height=\"24px\"viewBox=\"0 0 24 24\"\n",
              "       width=\"24px\">\n",
              "    <path d=\"M0 0h24v24H0V0z\" fill=\"none\"/>\n",
              "    <path d=\"M18.56 5.44l.94 2.06.94-2.06 2.06-.94-2.06-.94-.94-2.06-.94 2.06-2.06.94zm-11 1L8.5 8.5l.94-2.06 2.06-.94-2.06-.94L8.5 2.5l-.94 2.06-2.06.94zm10 10l.94 2.06.94-2.06 2.06-.94-2.06-.94-.94-2.06-.94 2.06-2.06.94z\"/><path d=\"M17.41 7.96l-1.37-1.37c-.4-.4-.92-.59-1.43-.59-.52 0-1.04.2-1.43.59L10.3 9.45l-7.72 7.72c-.78.78-.78 2.05 0 2.83L4 21.41c.39.39.9.59 1.41.59.51 0 1.02-.2 1.41-.59l7.78-7.78 2.81-2.81c.8-.78.8-2.07 0-2.86zM5.41 20L4 18.59l7.72-7.72 1.47 1.35L5.41 20z\"/>\n",
              "  </svg>\n",
              "      </button>\n",
              "      \n",
              "  <style>\n",
              "    .colab-df-container {\n",
              "      display:flex;\n",
              "      flex-wrap:wrap;\n",
              "      gap: 12px;\n",
              "    }\n",
              "\n",
              "    .colab-df-convert {\n",
              "      background-color: #E8F0FE;\n",
              "      border: none;\n",
              "      border-radius: 50%;\n",
              "      cursor: pointer;\n",
              "      display: none;\n",
              "      fill: #1967D2;\n",
              "      height: 32px;\n",
              "      padding: 0 0 0 0;\n",
              "      width: 32px;\n",
              "    }\n",
              "\n",
              "    .colab-df-convert:hover {\n",
              "      background-color: #E2EBFA;\n",
              "      box-shadow: 0px 1px 2px rgba(60, 64, 67, 0.3), 0px 1px 3px 1px rgba(60, 64, 67, 0.15);\n",
              "      fill: #174EA6;\n",
              "    }\n",
              "\n",
              "    [theme=dark] .colab-df-convert {\n",
              "      background-color: #3B4455;\n",
              "      fill: #D2E3FC;\n",
              "    }\n",
              "\n",
              "    [theme=dark] .colab-df-convert:hover {\n",
              "      background-color: #434B5C;\n",
              "      box-shadow: 0px 1px 3px 1px rgba(0, 0, 0, 0.15);\n",
              "      filter: drop-shadow(0px 1px 2px rgba(0, 0, 0, 0.3));\n",
              "      fill: #FFFFFF;\n",
              "    }\n",
              "  </style>\n",
              "\n",
              "      <script>\n",
              "        const buttonEl =\n",
              "          document.querySelector('#df-e1963446-489f-41eb-831b-7b49be603f2d button.colab-df-convert');\n",
              "        buttonEl.style.display =\n",
              "          google.colab.kernel.accessAllowed ? 'block' : 'none';\n",
              "\n",
              "        async function convertToInteractive(key) {\n",
              "          const element = document.querySelector('#df-e1963446-489f-41eb-831b-7b49be603f2d');\n",
              "          const dataTable =\n",
              "            await google.colab.kernel.invokeFunction('convertToInteractive',\n",
              "                                                     [key], {});\n",
              "          if (!dataTable) return;\n",
              "\n",
              "          const docLinkHtml = 'Like what you see? Visit the ' +\n",
              "            '<a target=\"_blank\" href=https://colab.research.google.com/notebooks/data_table.ipynb>data table notebook</a>'\n",
              "            + ' to learn more about interactive tables.';\n",
              "          element.innerHTML = '';\n",
              "          dataTable['output_type'] = 'display_data';\n",
              "          await google.colab.output.renderOutput(dataTable, element);\n",
              "          const docLink = document.createElement('div');\n",
              "          docLink.innerHTML = docLinkHtml;\n",
              "          element.appendChild(docLink);\n",
              "        }\n",
              "      </script>\n",
              "    </div>\n",
              "  </div>\n",
              "  "
            ],
            "text/plain": [
              "  business_code cust_number  ...    invoice_id isOpen\n",
              "0          U001  0200769623  ...  1.930438e+09      0\n",
              "1          U001  0200980828  ...  1.929646e+09      0\n",
              "2          U001  0200792734  ...  1.929874e+09      0\n",
              "3          CA02  0140105686  ...  2.960623e+09      1\n",
              "4          U001  0200769623  ...  1.930148e+09      0\n",
              "\n",
              "[5 rows x 19 columns]"
            ]
          },
          "metadata": {},
          "execution_count": 7
        }
      ],
      "source": [
        "df.head()"
      ]
    },
    {
      "cell_type": "markdown",
      "id": "92b044e4",
      "metadata": {
        "id": "92b044e4"
      },
      "source": [
        "### Display the Null values percentage against every columns (compare to the total number of records)\n",
        "\n",
        "- Output expected : area_business - 100% null, clear_data = 20% null, invoice_id = 0.12% null"
      ]
    },
    {
      "cell_type": "code",
      "execution_count": 8,
      "id": "24c7b13d",
      "metadata": {
        "id": "24c7b13d",
        "colab": {
          "base_uri": "https://localhost:8080/"
        },
        "outputId": "5672bffb-dc76-410b-f137-8ae0ff992b30"
      },
      "outputs": [
        {
          "output_type": "execute_result",
          "data": {
            "text/plain": [
              "business_code               0.000\n",
              "cust_number                 0.000\n",
              "name_customer               0.000\n",
              "clear_date                 20.000\n",
              "buisness_year               0.000\n",
              "doc_id                      0.000\n",
              "posting_date                0.000\n",
              "document_create_date        0.000\n",
              "document_create_date.1      0.000\n",
              "due_in_date                 0.000\n",
              "invoice_currency            0.000\n",
              "document type               0.000\n",
              "posting_id                  0.000\n",
              "area_business             100.000\n",
              "total_open_amount           0.000\n",
              "baseline_create_date        0.000\n",
              "cust_payment_terms          0.000\n",
              "invoice_id                  0.012\n",
              "isOpen                      0.000\n",
              "dtype: float64"
            ]
          },
          "metadata": {},
          "execution_count": 8
        }
      ],
      "source": [
        "(df.isnull().sum()/len(df))*100"
      ]
    },
    {
      "cell_type": "markdown",
      "id": "2c46a98b",
      "metadata": {
        "id": "2c46a98b"
      },
      "source": [
        "### Display Invoice_id and Doc_Id\n",
        "\n",
        "- Note - Many of the would have same invoice_id and doc_id\n"
      ]
    },
    {
      "cell_type": "code",
      "execution_count": 9,
      "id": "038f24bb",
      "metadata": {
        "id": "038f24bb",
        "colab": {
          "base_uri": "https://localhost:8080/",
          "height": 424
        },
        "outputId": "faafda3c-98d5-4f46-d445-372c0440e34a"
      },
      "outputs": [
        {
          "output_type": "execute_result",
          "data": {
            "text/html": [
              "\n",
              "  <div id=\"df-3f7fb2f0-ca03-4246-a498-9370853722bb\">\n",
              "    <div class=\"colab-df-container\">\n",
              "      <div>\n",
              "<style scoped>\n",
              "    .dataframe tbody tr th:only-of-type {\n",
              "        vertical-align: middle;\n",
              "    }\n",
              "\n",
              "    .dataframe tbody tr th {\n",
              "        vertical-align: top;\n",
              "    }\n",
              "\n",
              "    .dataframe thead th {\n",
              "        text-align: right;\n",
              "    }\n",
              "</style>\n",
              "<table border=\"1\" class=\"dataframe\">\n",
              "  <thead>\n",
              "    <tr style=\"text-align: right;\">\n",
              "      <th></th>\n",
              "      <th>invoice_id</th>\n",
              "      <th>doc_id</th>\n",
              "    </tr>\n",
              "  </thead>\n",
              "  <tbody>\n",
              "    <tr>\n",
              "      <th>0</th>\n",
              "      <td>1.930438e+09</td>\n",
              "      <td>1.930438e+09</td>\n",
              "    </tr>\n",
              "    <tr>\n",
              "      <th>1</th>\n",
              "      <td>1.929646e+09</td>\n",
              "      <td>1.929646e+09</td>\n",
              "    </tr>\n",
              "    <tr>\n",
              "      <th>2</th>\n",
              "      <td>1.929874e+09</td>\n",
              "      <td>1.929874e+09</td>\n",
              "    </tr>\n",
              "    <tr>\n",
              "      <th>3</th>\n",
              "      <td>2.960623e+09</td>\n",
              "      <td>2.960623e+09</td>\n",
              "    </tr>\n",
              "    <tr>\n",
              "      <th>4</th>\n",
              "      <td>1.930148e+09</td>\n",
              "      <td>1.930148e+09</td>\n",
              "    </tr>\n",
              "    <tr>\n",
              "      <th>...</th>\n",
              "      <td>...</td>\n",
              "      <td>...</td>\n",
              "    </tr>\n",
              "    <tr>\n",
              "      <th>49995</th>\n",
              "      <td>1.930797e+09</td>\n",
              "      <td>1.930797e+09</td>\n",
              "    </tr>\n",
              "    <tr>\n",
              "      <th>49996</th>\n",
              "      <td>1.929744e+09</td>\n",
              "      <td>1.929744e+09</td>\n",
              "    </tr>\n",
              "    <tr>\n",
              "      <th>49997</th>\n",
              "      <td>1.930537e+09</td>\n",
              "      <td>1.930537e+09</td>\n",
              "    </tr>\n",
              "    <tr>\n",
              "      <th>49998</th>\n",
              "      <td>1.930199e+09</td>\n",
              "      <td>1.930199e+09</td>\n",
              "    </tr>\n",
              "    <tr>\n",
              "      <th>49999</th>\n",
              "      <td>1.928576e+09</td>\n",
              "      <td>1.928576e+09</td>\n",
              "    </tr>\n",
              "  </tbody>\n",
              "</table>\n",
              "<p>50000 rows × 2 columns</p>\n",
              "</div>\n",
              "      <button class=\"colab-df-convert\" onclick=\"convertToInteractive('df-3f7fb2f0-ca03-4246-a498-9370853722bb')\"\n",
              "              title=\"Convert this dataframe to an interactive table.\"\n",
              "              style=\"display:none;\">\n",
              "        \n",
              "  <svg xmlns=\"http://www.w3.org/2000/svg\" height=\"24px\"viewBox=\"0 0 24 24\"\n",
              "       width=\"24px\">\n",
              "    <path d=\"M0 0h24v24H0V0z\" fill=\"none\"/>\n",
              "    <path d=\"M18.56 5.44l.94 2.06.94-2.06 2.06-.94-2.06-.94-.94-2.06-.94 2.06-2.06.94zm-11 1L8.5 8.5l.94-2.06 2.06-.94-2.06-.94L8.5 2.5l-.94 2.06-2.06.94zm10 10l.94 2.06.94-2.06 2.06-.94-2.06-.94-.94-2.06-.94 2.06-2.06.94z\"/><path d=\"M17.41 7.96l-1.37-1.37c-.4-.4-.92-.59-1.43-.59-.52 0-1.04.2-1.43.59L10.3 9.45l-7.72 7.72c-.78.78-.78 2.05 0 2.83L4 21.41c.39.39.9.59 1.41.59.51 0 1.02-.2 1.41-.59l7.78-7.78 2.81-2.81c.8-.78.8-2.07 0-2.86zM5.41 20L4 18.59l7.72-7.72 1.47 1.35L5.41 20z\"/>\n",
              "  </svg>\n",
              "      </button>\n",
              "      \n",
              "  <style>\n",
              "    .colab-df-container {\n",
              "      display:flex;\n",
              "      flex-wrap:wrap;\n",
              "      gap: 12px;\n",
              "    }\n",
              "\n",
              "    .colab-df-convert {\n",
              "      background-color: #E8F0FE;\n",
              "      border: none;\n",
              "      border-radius: 50%;\n",
              "      cursor: pointer;\n",
              "      display: none;\n",
              "      fill: #1967D2;\n",
              "      height: 32px;\n",
              "      padding: 0 0 0 0;\n",
              "      width: 32px;\n",
              "    }\n",
              "\n",
              "    .colab-df-convert:hover {\n",
              "      background-color: #E2EBFA;\n",
              "      box-shadow: 0px 1px 2px rgba(60, 64, 67, 0.3), 0px 1px 3px 1px rgba(60, 64, 67, 0.15);\n",
              "      fill: #174EA6;\n",
              "    }\n",
              "\n",
              "    [theme=dark] .colab-df-convert {\n",
              "      background-color: #3B4455;\n",
              "      fill: #D2E3FC;\n",
              "    }\n",
              "\n",
              "    [theme=dark] .colab-df-convert:hover {\n",
              "      background-color: #434B5C;\n",
              "      box-shadow: 0px 1px 3px 1px rgba(0, 0, 0, 0.15);\n",
              "      filter: drop-shadow(0px 1px 2px rgba(0, 0, 0, 0.3));\n",
              "      fill: #FFFFFF;\n",
              "    }\n",
              "  </style>\n",
              "\n",
              "      <script>\n",
              "        const buttonEl =\n",
              "          document.querySelector('#df-3f7fb2f0-ca03-4246-a498-9370853722bb button.colab-df-convert');\n",
              "        buttonEl.style.display =\n",
              "          google.colab.kernel.accessAllowed ? 'block' : 'none';\n",
              "\n",
              "        async function convertToInteractive(key) {\n",
              "          const element = document.querySelector('#df-3f7fb2f0-ca03-4246-a498-9370853722bb');\n",
              "          const dataTable =\n",
              "            await google.colab.kernel.invokeFunction('convertToInteractive',\n",
              "                                                     [key], {});\n",
              "          if (!dataTable) return;\n",
              "\n",
              "          const docLinkHtml = 'Like what you see? Visit the ' +\n",
              "            '<a target=\"_blank\" href=https://colab.research.google.com/notebooks/data_table.ipynb>data table notebook</a>'\n",
              "            + ' to learn more about interactive tables.';\n",
              "          element.innerHTML = '';\n",
              "          dataTable['output_type'] = 'display_data';\n",
              "          await google.colab.output.renderOutput(dataTable, element);\n",
              "          const docLink = document.createElement('div');\n",
              "          docLink.innerHTML = docLinkHtml;\n",
              "          element.appendChild(docLink);\n",
              "        }\n",
              "      </script>\n",
              "    </div>\n",
              "  </div>\n",
              "  "
            ],
            "text/plain": [
              "         invoice_id        doc_id\n",
              "0      1.930438e+09  1.930438e+09\n",
              "1      1.929646e+09  1.929646e+09\n",
              "2      1.929874e+09  1.929874e+09\n",
              "3      2.960623e+09  2.960623e+09\n",
              "4      1.930148e+09  1.930148e+09\n",
              "...             ...           ...\n",
              "49995  1.930797e+09  1.930797e+09\n",
              "49996  1.929744e+09  1.929744e+09\n",
              "49997  1.930537e+09  1.930537e+09\n",
              "49998  1.930199e+09  1.930199e+09\n",
              "49999  1.928576e+09  1.928576e+09\n",
              "\n",
              "[50000 rows x 2 columns]"
            ]
          },
          "metadata": {},
          "execution_count": 9
        }
      ],
      "source": [
        "df[['invoice_id', 'doc_id']]"
      ]
    },
    {
      "cell_type": "markdown",
      "id": "18cfe10a",
      "metadata": {
        "id": "18cfe10a"
      },
      "source": [
        "#### Write a code to check - 'baseline_create_date',\"document_create_date\",'document_create_date.1' - these columns are almost same.\n",
        "\n",
        "- Please note, if they are same, we need to drop them later\n",
        "\n"
      ]
    },
    {
      "cell_type": "code",
      "execution_count": 10,
      "id": "cf5b40ff",
      "metadata": {
        "id": "cf5b40ff",
        "colab": {
          "base_uri": "https://localhost:8080/"
        },
        "outputId": "c7c61bcc-585a-4db7-c334-d75ea75a199c"
      },
      "outputs": [
        {
          "output_type": "stream",
          "name": "stdout",
          "text": [
            "       baseline_create_date  document_create_date  document_create_date.1\n",
            "0                20200126.0              20200125                20200126\n",
            "1                20190722.0              20190722                20190722\n",
            "2                20190914.0              20190914                20190914\n",
            "3                20200331.0              20200330                20200330\n",
            "4                20191113.0              20191113                20191113\n",
            "...                     ...                   ...                     ...\n",
            "49995            20200421.0              20200417                20200421\n",
            "49996            20190815.0              20190814                20190815\n",
            "49997            20200219.0              20200218                20200219\n",
            "49998            20191127.0              20191126                20191127\n",
            "49999            20190101.0              20190105                20190105\n",
            "\n",
            "[50000 rows x 3 columns]\n",
            "Same/Different\n",
            "Different         34078\n",
            "Same              15922\n",
            "dtype: int64\n"
          ]
        }
      ],
      "source": [
        "print(df[['baseline_create_date','document_create_date','document_create_date.1']])\n",
        "check = np.where((df['baseline_create_date'] == df['document_create_date']) & (df['baseline_create_date'] == df['document_create_date.1']), \"Same\", \"Different\")\n",
        "check1=pd.DataFrame(check,columns=['Same/Different'])\n",
        "print(check1.value_counts())"
      ]
    },
    {
      "cell_type": "markdown",
      "id": "33110576",
      "metadata": {
        "id": "33110576"
      },
      "source": [
        "#### Please check, Column 'posting_id' is constant columns or not\n"
      ]
    },
    {
      "cell_type": "code",
      "execution_count": 11,
      "id": "ecce2664",
      "metadata": {
        "id": "ecce2664",
        "colab": {
          "base_uri": "https://localhost:8080/"
        },
        "outputId": "2cc93318-1c19-420f-fa3c-5d1ed569aad6"
      },
      "outputs": [
        {
          "output_type": "stream",
          "name": "stdout",
          "text": [
            "Unique Values in the column are [1.]\n"
          ]
        },
        {
          "output_type": "execute_result",
          "data": {
            "text/plain": [
              "1.0    50000\n",
              "Name: posting_id, dtype: int64"
            ]
          },
          "metadata": {},
          "execution_count": 11
        }
      ],
      "source": [
        "print(\"Unique Values in the column are {}\".format(df['posting_id'].unique()))\n",
        "df['posting_id'].value_counts()"
      ]
    },
    {
      "cell_type": "markdown",
      "id": "e5fb8daf",
      "metadata": {
        "id": "e5fb8daf"
      },
      "source": [
        "#### Please check 'isOpen' is a constant column and relevant column for this project or not"
      ]
    },
    {
      "cell_type": "code",
      "execution_count": 12,
      "id": "8db9956b",
      "metadata": {
        "id": "8db9956b",
        "colab": {
          "base_uri": "https://localhost:8080/"
        },
        "outputId": "349b7f54-9ddb-4978-9f58-c23782b3d076"
      },
      "outputs": [
        {
          "output_type": "stream",
          "name": "stdout",
          "text": [
            "Unique Values in the column are [0 1]\n"
          ]
        },
        {
          "output_type": "execute_result",
          "data": {
            "text/plain": [
              "0    40000\n",
              "1    10000\n",
              "Name: isOpen, dtype: int64"
            ]
          },
          "metadata": {},
          "execution_count": 12
        }
      ],
      "source": [
        "print(\"Unique Values in the column are {}\".format(df['isOpen'].unique()))\n",
        "df['isOpen'].value_counts()"
      ]
    },
    {
      "cell_type": "markdown",
      "id": "45a11a62",
      "metadata": {
        "id": "45a11a62"
      },
      "source": [
        "### Write the code to drop all the following columns from the dataframe\n",
        "\n",
        "- 'area_business'\n",
        "- \"posting_id\"\n",
        "- \"invoice_id\"\n",
        "- \"document_create_date\"\n",
        "- \"isOpen\"\n",
        "- 'document type' \n",
        "- 'document_create_date.1"
      ]
    },
    {
      "cell_type": "code",
      "execution_count": 13,
      "id": "270d85d1",
      "metadata": {
        "id": "270d85d1"
      },
      "outputs": [],
      "source": [
        "df = df.drop(['area_business', 'posting_id','invoice_id', 'document_create_date', 'isOpen', 'document type','document_create_date.1'], axis = 1)\n",
        "\n"
      ]
    },
    {
      "cell_type": "markdown",
      "id": "K5LHAM2XVGnk",
      "metadata": {
        "id": "K5LHAM2XVGnk"
      },
      "source": [
        "### Please check from the dataframe whether all the columns are removed or not "
      ]
    },
    {
      "cell_type": "code",
      "execution_count": 14,
      "id": "ef3f7d2b",
      "metadata": {
        "id": "ef3f7d2b",
        "colab": {
          "base_uri": "https://localhost:8080/"
        },
        "outputId": "68104eaf-563d-4bfe-c896-d39aa5d17186"
      },
      "outputs": [
        {
          "output_type": "stream",
          "name": "stdout",
          "text": [
            "<class 'pandas.core.frame.DataFrame'>\n",
            "RangeIndex: 50000 entries, 0 to 49999\n",
            "Data columns (total 12 columns):\n",
            " #   Column                Non-Null Count  Dtype  \n",
            "---  ------                --------------  -----  \n",
            " 0   business_code         50000 non-null  object \n",
            " 1   cust_number           50000 non-null  object \n",
            " 2   name_customer         50000 non-null  object \n",
            " 3   clear_date            40000 non-null  object \n",
            " 4   buisness_year         50000 non-null  float64\n",
            " 5   doc_id                50000 non-null  float64\n",
            " 6   posting_date          50000 non-null  object \n",
            " 7   due_in_date           50000 non-null  float64\n",
            " 8   invoice_currency      50000 non-null  object \n",
            " 9   total_open_amount     50000 non-null  float64\n",
            " 10  baseline_create_date  50000 non-null  float64\n",
            " 11  cust_payment_terms    50000 non-null  object \n",
            "dtypes: float64(5), object(7)\n",
            "memory usage: 4.6+ MB\n"
          ]
        }
      ],
      "source": [
        "df.info()"
      ]
    },
    {
      "cell_type": "markdown",
      "id": "6bc052c7",
      "metadata": {
        "id": "6bc052c7"
      },
      "source": [
        "### Show all the Duplicate rows from the dataframe"
      ]
    },
    {
      "cell_type": "code",
      "execution_count": 15,
      "id": "1ae3c7e4",
      "metadata": {
        "id": "1ae3c7e4"
      },
      "outputs": [],
      "source": [
        "duplicate = df[df.duplicated()]"
      ]
    },
    {
      "cell_type": "code",
      "execution_count": 16,
      "id": "110350fe-adb6-461d-8894-44db2ca62875",
      "metadata": {
        "colab": {
          "base_uri": "https://localhost:8080/",
          "height": 409
        },
        "id": "110350fe-adb6-461d-8894-44db2ca62875",
        "outputId": "4b20005d-57ee-4a6f-8929-1da280be6b24"
      },
      "outputs": [
        {
          "output_type": "execute_result",
          "data": {
            "text/html": [
              "\n",
              "  <div id=\"df-10602fb6-5d21-4a30-89b6-03904d7928af\">\n",
              "    <div class=\"colab-df-container\">\n",
              "      <div>\n",
              "<style scoped>\n",
              "    .dataframe tbody tr th:only-of-type {\n",
              "        vertical-align: middle;\n",
              "    }\n",
              "\n",
              "    .dataframe tbody tr th {\n",
              "        vertical-align: top;\n",
              "    }\n",
              "\n",
              "    .dataframe thead th {\n",
              "        text-align: right;\n",
              "    }\n",
              "</style>\n",
              "<table border=\"1\" class=\"dataframe\">\n",
              "  <thead>\n",
              "    <tr style=\"text-align: right;\">\n",
              "      <th></th>\n",
              "      <th>business_code</th>\n",
              "      <th>cust_number</th>\n",
              "      <th>name_customer</th>\n",
              "      <th>clear_date</th>\n",
              "      <th>buisness_year</th>\n",
              "      <th>doc_id</th>\n",
              "      <th>posting_date</th>\n",
              "      <th>due_in_date</th>\n",
              "      <th>invoice_currency</th>\n",
              "      <th>total_open_amount</th>\n",
              "      <th>baseline_create_date</th>\n",
              "      <th>cust_payment_terms</th>\n",
              "    </tr>\n",
              "  </thead>\n",
              "  <tbody>\n",
              "    <tr>\n",
              "      <th>1041</th>\n",
              "      <td>U001</td>\n",
              "      <td>0200769623</td>\n",
              "      <td>WAL-MAR in</td>\n",
              "      <td>2019-03-12 00:00:00</td>\n",
              "      <td>2019.0</td>\n",
              "      <td>1.928870e+09</td>\n",
              "      <td>2019-02-28</td>\n",
              "      <td>20190315.0</td>\n",
              "      <td>USD</td>\n",
              "      <td>19557.41</td>\n",
              "      <td>20190228.0</td>\n",
              "      <td>NAH4</td>\n",
              "    </tr>\n",
              "    <tr>\n",
              "      <th>2400</th>\n",
              "      <td>U001</td>\n",
              "      <td>0200769623</td>\n",
              "      <td>WAL-MAR trust</td>\n",
              "      <td>2019-08-28 00:00:00</td>\n",
              "      <td>2019.0</td>\n",
              "      <td>1.929758e+09</td>\n",
              "      <td>2019-08-18</td>\n",
              "      <td>20190902.0</td>\n",
              "      <td>USD</td>\n",
              "      <td>5600.41</td>\n",
              "      <td>20190818.0</td>\n",
              "      <td>NAH4</td>\n",
              "    </tr>\n",
              "    <tr>\n",
              "      <th>2584</th>\n",
              "      <td>U001</td>\n",
              "      <td>0200769623</td>\n",
              "      <td>WAL-MAR corporation</td>\n",
              "      <td>2019-12-16 00:00:00</td>\n",
              "      <td>2019.0</td>\n",
              "      <td>1.930217e+09</td>\n",
              "      <td>2019-12-04</td>\n",
              "      <td>20191219.0</td>\n",
              "      <td>USD</td>\n",
              "      <td>35352.17</td>\n",
              "      <td>20191204.0</td>\n",
              "      <td>NAH4</td>\n",
              "    </tr>\n",
              "    <tr>\n",
              "      <th>3755</th>\n",
              "      <td>U001</td>\n",
              "      <td>0200769623</td>\n",
              "      <td>WAL-MAR</td>\n",
              "      <td>2019-11-22 00:00:00</td>\n",
              "      <td>2019.0</td>\n",
              "      <td>1.930137e+09</td>\n",
              "      <td>2019-11-12</td>\n",
              "      <td>20191127.0</td>\n",
              "      <td>USD</td>\n",
              "      <td>2982.64</td>\n",
              "      <td>20191112.0</td>\n",
              "      <td>NAH4</td>\n",
              "    </tr>\n",
              "    <tr>\n",
              "      <th>3873</th>\n",
              "      <td>CA02</td>\n",
              "      <td>0140104409</td>\n",
              "      <td>LOB associates</td>\n",
              "      <td>NaN</td>\n",
              "      <td>2020.0</td>\n",
              "      <td>2.960629e+09</td>\n",
              "      <td>2020-04-14</td>\n",
              "      <td>20200425.0</td>\n",
              "      <td>CAD</td>\n",
              "      <td>82975.82</td>\n",
              "      <td>20200415.0</td>\n",
              "      <td>CA10</td>\n",
              "    </tr>\n",
              "  </tbody>\n",
              "</table>\n",
              "</div>\n",
              "      <button class=\"colab-df-convert\" onclick=\"convertToInteractive('df-10602fb6-5d21-4a30-89b6-03904d7928af')\"\n",
              "              title=\"Convert this dataframe to an interactive table.\"\n",
              "              style=\"display:none;\">\n",
              "        \n",
              "  <svg xmlns=\"http://www.w3.org/2000/svg\" height=\"24px\"viewBox=\"0 0 24 24\"\n",
              "       width=\"24px\">\n",
              "    <path d=\"M0 0h24v24H0V0z\" fill=\"none\"/>\n",
              "    <path d=\"M18.56 5.44l.94 2.06.94-2.06 2.06-.94-2.06-.94-.94-2.06-.94 2.06-2.06.94zm-11 1L8.5 8.5l.94-2.06 2.06-.94-2.06-.94L8.5 2.5l-.94 2.06-2.06.94zm10 10l.94 2.06.94-2.06 2.06-.94-2.06-.94-.94-2.06-.94 2.06-2.06.94z\"/><path d=\"M17.41 7.96l-1.37-1.37c-.4-.4-.92-.59-1.43-.59-.52 0-1.04.2-1.43.59L10.3 9.45l-7.72 7.72c-.78.78-.78 2.05 0 2.83L4 21.41c.39.39.9.59 1.41.59.51 0 1.02-.2 1.41-.59l7.78-7.78 2.81-2.81c.8-.78.8-2.07 0-2.86zM5.41 20L4 18.59l7.72-7.72 1.47 1.35L5.41 20z\"/>\n",
              "  </svg>\n",
              "      </button>\n",
              "      \n",
              "  <style>\n",
              "    .colab-df-container {\n",
              "      display:flex;\n",
              "      flex-wrap:wrap;\n",
              "      gap: 12px;\n",
              "    }\n",
              "\n",
              "    .colab-df-convert {\n",
              "      background-color: #E8F0FE;\n",
              "      border: none;\n",
              "      border-radius: 50%;\n",
              "      cursor: pointer;\n",
              "      display: none;\n",
              "      fill: #1967D2;\n",
              "      height: 32px;\n",
              "      padding: 0 0 0 0;\n",
              "      width: 32px;\n",
              "    }\n",
              "\n",
              "    .colab-df-convert:hover {\n",
              "      background-color: #E2EBFA;\n",
              "      box-shadow: 0px 1px 2px rgba(60, 64, 67, 0.3), 0px 1px 3px 1px rgba(60, 64, 67, 0.15);\n",
              "      fill: #174EA6;\n",
              "    }\n",
              "\n",
              "    [theme=dark] .colab-df-convert {\n",
              "      background-color: #3B4455;\n",
              "      fill: #D2E3FC;\n",
              "    }\n",
              "\n",
              "    [theme=dark] .colab-df-convert:hover {\n",
              "      background-color: #434B5C;\n",
              "      box-shadow: 0px 1px 3px 1px rgba(0, 0, 0, 0.15);\n",
              "      filter: drop-shadow(0px 1px 2px rgba(0, 0, 0, 0.3));\n",
              "      fill: #FFFFFF;\n",
              "    }\n",
              "  </style>\n",
              "\n",
              "      <script>\n",
              "        const buttonEl =\n",
              "          document.querySelector('#df-10602fb6-5d21-4a30-89b6-03904d7928af button.colab-df-convert');\n",
              "        buttonEl.style.display =\n",
              "          google.colab.kernel.accessAllowed ? 'block' : 'none';\n",
              "\n",
              "        async function convertToInteractive(key) {\n",
              "          const element = document.querySelector('#df-10602fb6-5d21-4a30-89b6-03904d7928af');\n",
              "          const dataTable =\n",
              "            await google.colab.kernel.invokeFunction('convertToInteractive',\n",
              "                                                     [key], {});\n",
              "          if (!dataTable) return;\n",
              "\n",
              "          const docLinkHtml = 'Like what you see? Visit the ' +\n",
              "            '<a target=\"_blank\" href=https://colab.research.google.com/notebooks/data_table.ipynb>data table notebook</a>'\n",
              "            + ' to learn more about interactive tables.';\n",
              "          element.innerHTML = '';\n",
              "          dataTable['output_type'] = 'display_data';\n",
              "          await google.colab.output.renderOutput(dataTable, element);\n",
              "          const docLink = document.createElement('div');\n",
              "          docLink.innerHTML = docLinkHtml;\n",
              "          element.appendChild(docLink);\n",
              "        }\n",
              "      </script>\n",
              "    </div>\n",
              "  </div>\n",
              "  "
            ],
            "text/plain": [
              "     business_code cust_number  ... baseline_create_date cust_payment_terms\n",
              "1041          U001  0200769623  ...           20190228.0               NAH4\n",
              "2400          U001  0200769623  ...           20190818.0               NAH4\n",
              "2584          U001  0200769623  ...           20191204.0               NAH4\n",
              "3755          U001  0200769623  ...           20191112.0               NAH4\n",
              "3873          CA02  0140104409  ...           20200415.0               CA10\n",
              "\n",
              "[5 rows x 12 columns]"
            ]
          },
          "metadata": {},
          "execution_count": 16
        }
      ],
      "source": [
        "duplicate.head()"
      ]
    },
    {
      "cell_type": "markdown",
      "id": "464fab09",
      "metadata": {
        "id": "464fab09"
      },
      "source": [
        "### Display the Number of Duplicate Rows"
      ]
    },
    {
      "cell_type": "code",
      "execution_count": 17,
      "id": "b1ea2397",
      "metadata": {
        "id": "b1ea2397",
        "colab": {
          "base_uri": "https://localhost:8080/"
        },
        "outputId": "3e0ad4cc-dd81-4ba5-e225-b5280d4c77ed"
      },
      "outputs": [
        {
          "output_type": "execute_result",
          "data": {
            "text/plain": [
              "1161"
            ]
          },
          "metadata": {},
          "execution_count": 17
        }
      ],
      "source": [
        "len(duplicate)"
      ]
    },
    {
      "cell_type": "markdown",
      "id": "827a6718",
      "metadata": {
        "id": "827a6718"
      },
      "source": [
        "### Drop all the Duplicate Rows"
      ]
    },
    {
      "cell_type": "code",
      "execution_count": 18,
      "id": "5d10151c",
      "metadata": {
        "id": "5d10151c"
      },
      "outputs": [],
      "source": [
        "df = df.drop_duplicates()"
      ]
    },
    {
      "cell_type": "markdown",
      "id": "7e5d1f9b",
      "metadata": {
        "id": "7e5d1f9b"
      },
      "source": [
        "#### Now check for all duplicate rows now\n",
        "\n",
        "- Note - It must be 0 by now"
      ]
    },
    {
      "cell_type": "code",
      "execution_count": 19,
      "id": "9accc9fc",
      "metadata": {
        "id": "9accc9fc",
        "colab": {
          "base_uri": "https://localhost:8080/"
        },
        "outputId": "f08b85eb-e206-4eb9-c6ba-d8ad53e1c889"
      },
      "outputs": [
        {
          "output_type": "execute_result",
          "data": {
            "text/plain": [
              "0"
            ]
          },
          "metadata": {},
          "execution_count": 19
        }
      ],
      "source": [
        "len(df[df.duplicated()])"
      ]
    },
    {
      "cell_type": "markdown",
      "id": "d0704898",
      "metadata": {
        "id": "d0704898"
      },
      "source": [
        "### Check for the number of Rows and Columns in your dataset"
      ]
    },
    {
      "cell_type": "code",
      "execution_count": 20,
      "id": "582748a8",
      "metadata": {
        "id": "582748a8",
        "colab": {
          "base_uri": "https://localhost:8080/"
        },
        "outputId": "eb5834c3-a028-4202-af3a-20caef9526f7"
      },
      "outputs": [
        {
          "output_type": "execute_result",
          "data": {
            "text/plain": [
              "(48839, 12)"
            ]
          },
          "metadata": {},
          "execution_count": 20
        }
      ],
      "source": [
        "df.shape"
      ]
    },
    {
      "cell_type": "markdown",
      "id": "4o9c5UodWRtl",
      "metadata": {
        "id": "4o9c5UodWRtl"
      },
      "source": [
        "### Find out the total count of null values in each columns"
      ]
    },
    {
      "cell_type": "code",
      "execution_count": 21,
      "id": "b0612cb5",
      "metadata": {
        "id": "b0612cb5",
        "colab": {
          "base_uri": "https://localhost:8080/"
        },
        "outputId": "ea643e4f-c333-46f7-fad7-48587e92dc15"
      },
      "outputs": [
        {
          "output_type": "execute_result",
          "data": {
            "text/plain": [
              "business_code              0\n",
              "cust_number                0\n",
              "name_customer              0\n",
              "clear_date              9681\n",
              "buisness_year              0\n",
              "doc_id                     0\n",
              "posting_date               0\n",
              "due_in_date                0\n",
              "invoice_currency           0\n",
              "total_open_amount          0\n",
              "baseline_create_date       0\n",
              "cust_payment_terms         0\n",
              "dtype: int64"
            ]
          },
          "metadata": {},
          "execution_count": 21
        }
      ],
      "source": [
        "df.isna().sum()"
      ]
    },
    {
      "cell_type": "markdown",
      "id": "7abdb98b",
      "metadata": {
        "id": "7abdb98b"
      },
      "source": [
        "#Data type Conversion "
      ]
    },
    {
      "cell_type": "markdown",
      "id": "LPfSUSp-WpPj",
      "metadata": {
        "id": "LPfSUSp-WpPj"
      },
      "source": [
        "### Please check the data type of each column of the dataframe"
      ]
    },
    {
      "cell_type": "code",
      "execution_count": 22,
      "id": "689c8592",
      "metadata": {
        "id": "689c8592",
        "colab": {
          "base_uri": "https://localhost:8080/"
        },
        "outputId": "ea9a8378-d9ab-4c70-fb6b-05bb12fef55c"
      },
      "outputs": [
        {
          "output_type": "execute_result",
          "data": {
            "text/plain": [
              "business_code            object\n",
              "cust_number              object\n",
              "name_customer            object\n",
              "clear_date               object\n",
              "buisness_year           float64\n",
              "doc_id                  float64\n",
              "posting_date             object\n",
              "due_in_date             float64\n",
              "invoice_currency         object\n",
              "total_open_amount       float64\n",
              "baseline_create_date    float64\n",
              "cust_payment_terms       object\n",
              "dtype: object"
            ]
          },
          "metadata": {},
          "execution_count": 22
        }
      ],
      "source": [
        "df.dtypes"
      ]
    },
    {
      "cell_type": "markdown",
      "id": "0nsem0_3XzOt",
      "metadata": {
        "id": "0nsem0_3XzOt"
      },
      "source": [
        "### Check the datatype format of below columns\n",
        "\n",
        "- clear_date  \n",
        "- posting_date\n",
        "- due_in_date \n",
        "- baseline_create_date"
      ]
    },
    {
      "cell_type": "code",
      "execution_count": 23,
      "id": "-yyODyW3X6pL",
      "metadata": {
        "id": "-yyODyW3X6pL",
        "colab": {
          "base_uri": "https://localhost:8080/"
        },
        "outputId": "d4e4da4d-6873-43c3-ce1c-f87a327c74a7"
      },
      "outputs": [
        {
          "output_type": "execute_result",
          "data": {
            "text/plain": [
              "clear_date               object\n",
              "posting_date             object\n",
              "due_in_date             float64\n",
              "baseline_create_date    float64\n",
              "dtype: object"
            ]
          },
          "metadata": {},
          "execution_count": 23
        }
      ],
      "source": [
        "df.dtypes[['clear_date','posting_date','due_in_date','baseline_create_date']]"
      ]
    },
    {
      "cell_type": "markdown",
      "id": "11cf9478",
      "metadata": {
        "id": "11cf9478"
      },
      "source": [
        "### converting date columns into date time formats\n",
        "\n",
        "- clear_date  \n",
        "- posting_date\n",
        "- due_in_date \n",
        "- baseline_create_date\n",
        "\n",
        "\n",
        "- **Note - You have to convert all these above columns into \"%Y%m%d\" format**"
      ]
    },
    {
      "cell_type": "code",
      "execution_count": 24,
      "id": "9a8c6c71",
      "metadata": {
        "id": "9a8c6c71"
      },
      "outputs": [],
      "source": [
        "def change_date(x_type):\n",
        "    x = str(x_type)\n",
        "    year = int(x[0:4])\n",
        "    month = int(x[4:6])\n",
        "    day = int(x[6:8])\n",
        "    return dt.datetime(year, month, day)\n",
        "df['due_in_date'] = df['due_in_date'].apply(change_date)\n",
        "df['clear_date']= pd.to_datetime(df['clear_date']) \n",
        "df['posting_date'] = pd.to_datetime(df['posting_date'])\n",
        "df['baseline_create_date'] = df['baseline_create_date'].apply(change_date)"
      ]
    },
    {
      "cell_type": "markdown",
      "id": "7adq0wSIYSCS",
      "metadata": {
        "id": "7adq0wSIYSCS"
      },
      "source": [
        "### Please check the datatype of all the columns after conversion of the above 4 columns"
      ]
    },
    {
      "cell_type": "code",
      "execution_count": 25,
      "id": "fd028c61",
      "metadata": {
        "id": "fd028c61",
        "colab": {
          "base_uri": "https://localhost:8080/"
        },
        "outputId": "4a8301c4-a13f-44ab-c073-b2ffc2bd9146"
      },
      "outputs": [
        {
          "output_type": "execute_result",
          "data": {
            "text/plain": [
              "business_code                   object\n",
              "cust_number                     object\n",
              "name_customer                   object\n",
              "clear_date              datetime64[ns]\n",
              "buisness_year                  float64\n",
              "doc_id                         float64\n",
              "posting_date            datetime64[ns]\n",
              "due_in_date             datetime64[ns]\n",
              "invoice_currency                object\n",
              "total_open_amount              float64\n",
              "baseline_create_date    datetime64[ns]\n",
              "cust_payment_terms              object\n",
              "dtype: object"
            ]
          },
          "metadata": {},
          "execution_count": 25
        }
      ],
      "source": [
        "df.dtypes"
      ]
    },
    {
      "cell_type": "markdown",
      "id": "8c9882fa",
      "metadata": {
        "id": "8c9882fa"
      },
      "source": [
        "#### the invoice_currency column contains two different categories, USD and CAD\n",
        "\n",
        "- Please do a count of each currency "
      ]
    },
    {
      "cell_type": "code",
      "execution_count": 26,
      "id": "72085397",
      "metadata": {
        "id": "72085397",
        "colab": {
          "base_uri": "https://localhost:8080/"
        },
        "outputId": "060b497a-5ca6-48ea-c8e1-8d64be879300"
      },
      "outputs": [
        {
          "output_type": "execute_result",
          "data": {
            "text/plain": [
              "USD    45011\n",
              "CAD     3828\n",
              "Name: invoice_currency, dtype: int64"
            ]
          },
          "metadata": {},
          "execution_count": 26
        }
      ],
      "source": [
        "df['invoice_currency'].value_counts()"
      ]
    },
    {
      "cell_type": "markdown",
      "id": "6cbe26ee",
      "metadata": {
        "id": "6cbe26ee"
      },
      "source": [
        "#### display the \"total_open_amount\" column value"
      ]
    },
    {
      "cell_type": "code",
      "execution_count": 27,
      "id": "6c49f2ab",
      "metadata": {
        "id": "6c49f2ab",
        "colab": {
          "base_uri": "https://localhost:8080/"
        },
        "outputId": "d96d8a47-1b97-4d56-ae35-05662c520eb6"
      },
      "outputs": [
        {
          "output_type": "execute_result",
          "data": {
            "text/plain": [
              "0    54273.28\n",
              "1    79656.60\n",
              "2     2253.86\n",
              "3     3299.70\n",
              "4    33133.29\n",
              "Name: total_open_amount, dtype: float64"
            ]
          },
          "metadata": {},
          "execution_count": 27
        }
      ],
      "source": [
        "df['total_open_amount'].head()"
      ]
    },
    {
      "cell_type": "markdown",
      "id": "df899966",
      "metadata": {
        "id": "df899966"
      },
      "source": [
        "### Convert all CAD into USD currency of \"total_open_amount\" column\n",
        "\n",
        "- 1 CAD = 0.7 USD\n",
        "- Create a new column i.e \"converted_usd\" and store USD and convered CAD to USD"
      ]
    },
    {
      "cell_type": "code",
      "execution_count": 28,
      "id": "8eb2f1c5",
      "metadata": {
        "id": "8eb2f1c5"
      },
      "outputs": [],
      "source": [
        "def convert(arr):\n",
        "    if(arr['invoice_currency']=='CAD'):\n",
        "        arr['converted_usd']=arr['total_open_amount'] * 0.7\n",
        "    else:\n",
        "        arr['converted_usd']=arr['total_open_amount']\n",
        "    return arr"
      ]
    },
    {
      "cell_type": "code",
      "execution_count": 29,
      "id": "39d0c976-4713-470a-8673-4e5b74730ac7",
      "metadata": {
        "id": "39d0c976-4713-470a-8673-4e5b74730ac7"
      },
      "outputs": [],
      "source": [
        "df= df.apply(convert,axis='columns')"
      ]
    },
    {
      "cell_type": "markdown",
      "id": "f9f6ef1d",
      "metadata": {
        "id": "f9f6ef1d"
      },
      "source": [
        "### Display the new \"converted_usd\" column values"
      ]
    },
    {
      "cell_type": "code",
      "execution_count": 30,
      "id": "1fc1a178",
      "metadata": {
        "id": "1fc1a178",
        "colab": {
          "base_uri": "https://localhost:8080/"
        },
        "outputId": "4685aa56-6aa2-4c1d-e149-51884f67e89e"
      },
      "outputs": [
        {
          "output_type": "execute_result",
          "data": {
            "text/plain": [
              "0    54273.28\n",
              "1    79656.60\n",
              "2     2253.86\n",
              "3     2309.79\n",
              "4    33133.29\n",
              "Name: converted_usd, dtype: float64"
            ]
          },
          "metadata": {},
          "execution_count": 30
        }
      ],
      "source": [
        "df['converted_usd'].head()"
      ]
    },
    {
      "cell_type": "markdown",
      "id": "6XLXX17kayuy",
      "metadata": {
        "id": "6XLXX17kayuy"
      },
      "source": [
        "### Display year wise total number of record \n",
        "\n",
        "- Note -  use \"buisness_year\" column for this "
      ]
    },
    {
      "cell_type": "code",
      "execution_count": 31,
      "id": "00c9f6ee",
      "metadata": {
        "id": "00c9f6ee",
        "colab": {
          "base_uri": "https://localhost:8080/"
        },
        "outputId": "168ba573-e54c-4b95-ab7b-3fd5f2772443"
      },
      "outputs": [
        {
          "output_type": "execute_result",
          "data": {
            "text/plain": [
              "buisness_year\n",
              "2019.0    33975\n",
              "2020.0    14864\n",
              "Name: buisness_year, dtype: int64"
            ]
          },
          "metadata": {},
          "execution_count": 31
        }
      ],
      "source": [
        "df.groupby('buisness_year').agg('count')\n",
        "df['buisness_year'].groupby(df.buisness_year).agg('count')"
      ]
    },
    {
      "cell_type": "markdown",
      "id": "05c35904",
      "metadata": {
        "id": "05c35904"
      },
      "source": [
        "### Write the code to delete the following columns \n",
        "\n",
        "- 'invoice_currency'\n",
        "- 'total_open_amount', "
      ]
    },
    {
      "cell_type": "code",
      "execution_count": 32,
      "id": "4ac28aa5",
      "metadata": {
        "id": "4ac28aa5"
      },
      "outputs": [],
      "source": [
        "df = df.drop(['invoice_currency', 'total_open_amount'], axis = 1)"
      ]
    },
    {
      "cell_type": "markdown",
      "id": "bDBJ_Kvwc086",
      "metadata": {
        "id": "bDBJ_Kvwc086"
      },
      "source": [
        "### Write a code to check the number of columns in dataframe"
      ]
    },
    {
      "cell_type": "code",
      "execution_count": 33,
      "id": "ea360a8c",
      "metadata": {
        "id": "ea360a8c",
        "colab": {
          "base_uri": "https://localhost:8080/"
        },
        "outputId": "8a599df9-746b-4f52-e418-c95c2577351c"
      },
      "outputs": [
        {
          "output_type": "stream",
          "name": "stdout",
          "text": [
            "(48839, 11)\n",
            "\n",
            "\n",
            "\n",
            "\n"
          ]
        },
        {
          "output_type": "execute_result",
          "data": {
            "text/plain": [
              "Index(['business_code', 'cust_number', 'name_customer', 'clear_date',\n",
              "       'buisness_year', 'doc_id', 'posting_date', 'due_in_date',\n",
              "       'baseline_create_date', 'cust_payment_terms', 'converted_usd'],\n",
              "      dtype='object')"
            ]
          },
          "metadata": {},
          "execution_count": 33
        }
      ],
      "source": [
        "print(df.shape)\n",
        "print(\"\\n\\n\\n\")\n",
        "df.columns"
      ]
    },
    {
      "cell_type": "markdown",
      "id": "b8f63655",
      "metadata": {
        "id": "b8f63655"
      },
      "source": [
        "# Splitting the Dataset "
      ]
    },
    {
      "cell_type": "markdown",
      "id": "a00f749d",
      "metadata": {
        "id": "a00f749d"
      },
      "source": [
        "### Look for all columns containing null value\n",
        "\n",
        "- Note - Output expected is only one column "
      ]
    },
    {
      "cell_type": "code",
      "execution_count": 34,
      "id": "148c801e",
      "metadata": {
        "id": "148c801e",
        "colab": {
          "base_uri": "https://localhost:8080/",
          "height": 424
        },
        "outputId": "2232ba83-36f8-4ef3-cd41-49a2c3bf7c97"
      },
      "outputs": [
        {
          "output_type": "execute_result",
          "data": {
            "text/html": [
              "\n",
              "  <div id=\"df-41a60360-4c5c-4a09-ae96-c87d24b84d6b\">\n",
              "    <div class=\"colab-df-container\">\n",
              "      <div>\n",
              "<style scoped>\n",
              "    .dataframe tbody tr th:only-of-type {\n",
              "        vertical-align: middle;\n",
              "    }\n",
              "\n",
              "    .dataframe tbody tr th {\n",
              "        vertical-align: top;\n",
              "    }\n",
              "\n",
              "    .dataframe thead th {\n",
              "        text-align: right;\n",
              "    }\n",
              "</style>\n",
              "<table border=\"1\" class=\"dataframe\">\n",
              "  <thead>\n",
              "    <tr style=\"text-align: right;\">\n",
              "      <th></th>\n",
              "      <th>clear_date</th>\n",
              "    </tr>\n",
              "  </thead>\n",
              "  <tbody>\n",
              "    <tr>\n",
              "      <th>0</th>\n",
              "      <td>2020-02-11</td>\n",
              "    </tr>\n",
              "    <tr>\n",
              "      <th>1</th>\n",
              "      <td>2019-08-08</td>\n",
              "    </tr>\n",
              "    <tr>\n",
              "      <th>2</th>\n",
              "      <td>2019-12-30</td>\n",
              "    </tr>\n",
              "    <tr>\n",
              "      <th>3</th>\n",
              "      <td>NaT</td>\n",
              "    </tr>\n",
              "    <tr>\n",
              "      <th>4</th>\n",
              "      <td>2019-11-25</td>\n",
              "    </tr>\n",
              "    <tr>\n",
              "      <th>...</th>\n",
              "      <td>...</td>\n",
              "    </tr>\n",
              "    <tr>\n",
              "      <th>49995</th>\n",
              "      <td>NaT</td>\n",
              "    </tr>\n",
              "    <tr>\n",
              "      <th>49996</th>\n",
              "      <td>2019-09-03</td>\n",
              "    </tr>\n",
              "    <tr>\n",
              "      <th>49997</th>\n",
              "      <td>2020-03-05</td>\n",
              "    </tr>\n",
              "    <tr>\n",
              "      <th>49998</th>\n",
              "      <td>2019-12-12</td>\n",
              "    </tr>\n",
              "    <tr>\n",
              "      <th>49999</th>\n",
              "      <td>2019-01-15</td>\n",
              "    </tr>\n",
              "  </tbody>\n",
              "</table>\n",
              "<p>48839 rows × 1 columns</p>\n",
              "</div>\n",
              "      <button class=\"colab-df-convert\" onclick=\"convertToInteractive('df-41a60360-4c5c-4a09-ae96-c87d24b84d6b')\"\n",
              "              title=\"Convert this dataframe to an interactive table.\"\n",
              "              style=\"display:none;\">\n",
              "        \n",
              "  <svg xmlns=\"http://www.w3.org/2000/svg\" height=\"24px\"viewBox=\"0 0 24 24\"\n",
              "       width=\"24px\">\n",
              "    <path d=\"M0 0h24v24H0V0z\" fill=\"none\"/>\n",
              "    <path d=\"M18.56 5.44l.94 2.06.94-2.06 2.06-.94-2.06-.94-.94-2.06-.94 2.06-2.06.94zm-11 1L8.5 8.5l.94-2.06 2.06-.94-2.06-.94L8.5 2.5l-.94 2.06-2.06.94zm10 10l.94 2.06.94-2.06 2.06-.94-2.06-.94-.94-2.06-.94 2.06-2.06.94z\"/><path d=\"M17.41 7.96l-1.37-1.37c-.4-.4-.92-.59-1.43-.59-.52 0-1.04.2-1.43.59L10.3 9.45l-7.72 7.72c-.78.78-.78 2.05 0 2.83L4 21.41c.39.39.9.59 1.41.59.51 0 1.02-.2 1.41-.59l7.78-7.78 2.81-2.81c.8-.78.8-2.07 0-2.86zM5.41 20L4 18.59l7.72-7.72 1.47 1.35L5.41 20z\"/>\n",
              "  </svg>\n",
              "      </button>\n",
              "      \n",
              "  <style>\n",
              "    .colab-df-container {\n",
              "      display:flex;\n",
              "      flex-wrap:wrap;\n",
              "      gap: 12px;\n",
              "    }\n",
              "\n",
              "    .colab-df-convert {\n",
              "      background-color: #E8F0FE;\n",
              "      border: none;\n",
              "      border-radius: 50%;\n",
              "      cursor: pointer;\n",
              "      display: none;\n",
              "      fill: #1967D2;\n",
              "      height: 32px;\n",
              "      padding: 0 0 0 0;\n",
              "      width: 32px;\n",
              "    }\n",
              "\n",
              "    .colab-df-convert:hover {\n",
              "      background-color: #E2EBFA;\n",
              "      box-shadow: 0px 1px 2px rgba(60, 64, 67, 0.3), 0px 1px 3px 1px rgba(60, 64, 67, 0.15);\n",
              "      fill: #174EA6;\n",
              "    }\n",
              "\n",
              "    [theme=dark] .colab-df-convert {\n",
              "      background-color: #3B4455;\n",
              "      fill: #D2E3FC;\n",
              "    }\n",
              "\n",
              "    [theme=dark] .colab-df-convert:hover {\n",
              "      background-color: #434B5C;\n",
              "      box-shadow: 0px 1px 3px 1px rgba(0, 0, 0, 0.15);\n",
              "      filter: drop-shadow(0px 1px 2px rgba(0, 0, 0, 0.3));\n",
              "      fill: #FFFFFF;\n",
              "    }\n",
              "  </style>\n",
              "\n",
              "      <script>\n",
              "        const buttonEl =\n",
              "          document.querySelector('#df-41a60360-4c5c-4a09-ae96-c87d24b84d6b button.colab-df-convert');\n",
              "        buttonEl.style.display =\n",
              "          google.colab.kernel.accessAllowed ? 'block' : 'none';\n",
              "\n",
              "        async function convertToInteractive(key) {\n",
              "          const element = document.querySelector('#df-41a60360-4c5c-4a09-ae96-c87d24b84d6b');\n",
              "          const dataTable =\n",
              "            await google.colab.kernel.invokeFunction('convertToInteractive',\n",
              "                                                     [key], {});\n",
              "          if (!dataTable) return;\n",
              "\n",
              "          const docLinkHtml = 'Like what you see? Visit the ' +\n",
              "            '<a target=\"_blank\" href=https://colab.research.google.com/notebooks/data_table.ipynb>data table notebook</a>'\n",
              "            + ' to learn more about interactive tables.';\n",
              "          element.innerHTML = '';\n",
              "          dataTable['output_type'] = 'display_data';\n",
              "          await google.colab.output.renderOutput(dataTable, element);\n",
              "          const docLink = document.createElement('div');\n",
              "          docLink.innerHTML = docLinkHtml;\n",
              "          element.appendChild(docLink);\n",
              "        }\n",
              "      </script>\n",
              "    </div>\n",
              "  </div>\n",
              "  "
            ],
            "text/plain": [
              "      clear_date\n",
              "0     2020-02-11\n",
              "1     2019-08-08\n",
              "2     2019-12-30\n",
              "3            NaT\n",
              "4     2019-11-25\n",
              "...          ...\n",
              "49995        NaT\n",
              "49996 2019-09-03\n",
              "49997 2020-03-05\n",
              "49998 2019-12-12\n",
              "49999 2019-01-15\n",
              "\n",
              "[48839 rows x 1 columns]"
            ]
          },
          "metadata": {},
          "execution_count": 34
        }
      ],
      "source": [
        "df[df.columns[df.isnull().any()]]"
      ]
    },
    {
      "cell_type": "markdown",
      "id": "a094a290",
      "metadata": {
        "id": "a094a290"
      },
      "source": [
        "#### Find out the number of null values from the column that you got from the above code"
      ]
    },
    {
      "cell_type": "code",
      "execution_count": 35,
      "id": "30bfb113",
      "metadata": {
        "id": "30bfb113",
        "colab": {
          "base_uri": "https://localhost:8080/"
        },
        "outputId": "9fd3eb17-7bcf-4404-d747-d4c185d40d0a"
      },
      "outputs": [
        {
          "output_type": "execute_result",
          "data": {
            "text/plain": [
              "9681"
            ]
          },
          "metadata": {},
          "execution_count": 35
        }
      ],
      "source": [
        "df['clear_date'].isnull().sum()"
      ]
    },
    {
      "cell_type": "markdown",
      "id": "7f6d939b",
      "metadata": {
        "id": "7f6d939b"
      },
      "source": [
        "### On basis of the above column we are spliting data into dataset\n",
        "\n",
        "- First dataframe (refer that as maindata) only containing the rows, that have NO NULL data in that column ( This is going to be our train dataset ) \n",
        "- Second dataframe (refer that as nulldata) that contains the columns, that have Null data in that column ( This is going to be our test dataset ) "
      ]
    },
    {
      "cell_type": "code",
      "execution_count": 36,
      "id": "c8764c33",
      "metadata": {
        "id": "c8764c33"
      },
      "outputs": [],
      "source": [
        "maindata = df[df['clear_date'].isnull() == False]\n",
        "nulldata = df[df['clear_date'].isnull()]"
      ]
    },
    {
      "cell_type": "markdown",
      "id": "3P8riRBHd_r6",
      "metadata": {
        "id": "3P8riRBHd_r6"
      },
      "source": [
        "### Check the number of Rows and Columns for both the dataframes "
      ]
    },
    {
      "cell_type": "code",
      "execution_count": 37,
      "id": "0693a464",
      "metadata": {
        "id": "0693a464",
        "colab": {
          "base_uri": "https://localhost:8080/"
        },
        "outputId": "634e0dd8-2279-4fb8-eab0-9ff311291c7e"
      },
      "outputs": [
        {
          "output_type": "execute_result",
          "data": {
            "text/plain": [
              "(39158, 11)"
            ]
          },
          "metadata": {},
          "execution_count": 37
        }
      ],
      "source": [
        "maindata.shape"
      ]
    },
    {
      "cell_type": "code",
      "execution_count": 38,
      "id": "7f86bc74",
      "metadata": {
        "id": "7f86bc74",
        "colab": {
          "base_uri": "https://localhost:8080/"
        },
        "outputId": "a42acf51-bf69-4f43-ff67-a0b288121f8a"
      },
      "outputs": [
        {
          "output_type": "execute_result",
          "data": {
            "text/plain": [
              "(9681, 11)"
            ]
          },
          "metadata": {},
          "execution_count": 38
        }
      ],
      "source": [
        "nulldata.shape"
      ]
    },
    {
      "cell_type": "markdown",
      "id": "0747165d",
      "metadata": {
        "id": "0747165d"
      },
      "source": [
        "### Display the 5 records from maindata and nulldata dataframes"
      ]
    },
    {
      "cell_type": "code",
      "execution_count": 39,
      "id": "dec2ec36",
      "metadata": {
        "id": "dec2ec36",
        "colab": {
          "base_uri": "https://localhost:8080/",
          "height": 357
        },
        "outputId": "adc9c4d7-e531-4081-dd56-9ea3911b02da"
      },
      "outputs": [
        {
          "output_type": "execute_result",
          "data": {
            "text/html": [
              "\n",
              "  <div id=\"df-8cd23000-a9d2-4f41-94a6-78470fe38120\">\n",
              "    <div class=\"colab-df-container\">\n",
              "      <div>\n",
              "<style scoped>\n",
              "    .dataframe tbody tr th:only-of-type {\n",
              "        vertical-align: middle;\n",
              "    }\n",
              "\n",
              "    .dataframe tbody tr th {\n",
              "        vertical-align: top;\n",
              "    }\n",
              "\n",
              "    .dataframe thead th {\n",
              "        text-align: right;\n",
              "    }\n",
              "</style>\n",
              "<table border=\"1\" class=\"dataframe\">\n",
              "  <thead>\n",
              "    <tr style=\"text-align: right;\">\n",
              "      <th></th>\n",
              "      <th>business_code</th>\n",
              "      <th>cust_number</th>\n",
              "      <th>name_customer</th>\n",
              "      <th>clear_date</th>\n",
              "      <th>buisness_year</th>\n",
              "      <th>doc_id</th>\n",
              "      <th>posting_date</th>\n",
              "      <th>due_in_date</th>\n",
              "      <th>baseline_create_date</th>\n",
              "      <th>cust_payment_terms</th>\n",
              "      <th>converted_usd</th>\n",
              "    </tr>\n",
              "  </thead>\n",
              "  <tbody>\n",
              "    <tr>\n",
              "      <th>0</th>\n",
              "      <td>U001</td>\n",
              "      <td>0200769623</td>\n",
              "      <td>WAL-MAR corp</td>\n",
              "      <td>2020-02-11</td>\n",
              "      <td>2020.0</td>\n",
              "      <td>1.930438e+09</td>\n",
              "      <td>2020-01-26</td>\n",
              "      <td>2020-02-10</td>\n",
              "      <td>2020-01-26</td>\n",
              "      <td>NAH4</td>\n",
              "      <td>54273.280</td>\n",
              "    </tr>\n",
              "    <tr>\n",
              "      <th>1</th>\n",
              "      <td>U001</td>\n",
              "      <td>0200980828</td>\n",
              "      <td>BEN E</td>\n",
              "      <td>2019-08-08</td>\n",
              "      <td>2019.0</td>\n",
              "      <td>1.929646e+09</td>\n",
              "      <td>2019-07-22</td>\n",
              "      <td>2019-08-11</td>\n",
              "      <td>2019-07-22</td>\n",
              "      <td>NAD1</td>\n",
              "      <td>79656.600</td>\n",
              "    </tr>\n",
              "    <tr>\n",
              "      <th>2</th>\n",
              "      <td>U001</td>\n",
              "      <td>0200792734</td>\n",
              "      <td>MDV/ trust</td>\n",
              "      <td>2019-12-30</td>\n",
              "      <td>2019.0</td>\n",
              "      <td>1.929874e+09</td>\n",
              "      <td>2019-09-14</td>\n",
              "      <td>2019-09-29</td>\n",
              "      <td>2019-09-14</td>\n",
              "      <td>NAA8</td>\n",
              "      <td>2253.860</td>\n",
              "    </tr>\n",
              "    <tr>\n",
              "      <th>4</th>\n",
              "      <td>U001</td>\n",
              "      <td>0200769623</td>\n",
              "      <td>WAL-MAR foundation</td>\n",
              "      <td>2019-11-25</td>\n",
              "      <td>2019.0</td>\n",
              "      <td>1.930148e+09</td>\n",
              "      <td>2019-11-13</td>\n",
              "      <td>2019-11-28</td>\n",
              "      <td>2019-11-13</td>\n",
              "      <td>NAH4</td>\n",
              "      <td>33133.290</td>\n",
              "    </tr>\n",
              "    <tr>\n",
              "      <th>5</th>\n",
              "      <td>CA02</td>\n",
              "      <td>0140106181</td>\n",
              "      <td>THE  corporation</td>\n",
              "      <td>2019-12-04</td>\n",
              "      <td>2019.0</td>\n",
              "      <td>2.960581e+09</td>\n",
              "      <td>2019-09-20</td>\n",
              "      <td>2019-10-04</td>\n",
              "      <td>2019-09-24</td>\n",
              "      <td>CA10</td>\n",
              "      <td>15558.088</td>\n",
              "    </tr>\n",
              "  </tbody>\n",
              "</table>\n",
              "</div>\n",
              "      <button class=\"colab-df-convert\" onclick=\"convertToInteractive('df-8cd23000-a9d2-4f41-94a6-78470fe38120')\"\n",
              "              title=\"Convert this dataframe to an interactive table.\"\n",
              "              style=\"display:none;\">\n",
              "        \n",
              "  <svg xmlns=\"http://www.w3.org/2000/svg\" height=\"24px\"viewBox=\"0 0 24 24\"\n",
              "       width=\"24px\">\n",
              "    <path d=\"M0 0h24v24H0V0z\" fill=\"none\"/>\n",
              "    <path d=\"M18.56 5.44l.94 2.06.94-2.06 2.06-.94-2.06-.94-.94-2.06-.94 2.06-2.06.94zm-11 1L8.5 8.5l.94-2.06 2.06-.94-2.06-.94L8.5 2.5l-.94 2.06-2.06.94zm10 10l.94 2.06.94-2.06 2.06-.94-2.06-.94-.94-2.06-.94 2.06-2.06.94z\"/><path d=\"M17.41 7.96l-1.37-1.37c-.4-.4-.92-.59-1.43-.59-.52 0-1.04.2-1.43.59L10.3 9.45l-7.72 7.72c-.78.78-.78 2.05 0 2.83L4 21.41c.39.39.9.59 1.41.59.51 0 1.02-.2 1.41-.59l7.78-7.78 2.81-2.81c.8-.78.8-2.07 0-2.86zM5.41 20L4 18.59l7.72-7.72 1.47 1.35L5.41 20z\"/>\n",
              "  </svg>\n",
              "      </button>\n",
              "      \n",
              "  <style>\n",
              "    .colab-df-container {\n",
              "      display:flex;\n",
              "      flex-wrap:wrap;\n",
              "      gap: 12px;\n",
              "    }\n",
              "\n",
              "    .colab-df-convert {\n",
              "      background-color: #E8F0FE;\n",
              "      border: none;\n",
              "      border-radius: 50%;\n",
              "      cursor: pointer;\n",
              "      display: none;\n",
              "      fill: #1967D2;\n",
              "      height: 32px;\n",
              "      padding: 0 0 0 0;\n",
              "      width: 32px;\n",
              "    }\n",
              "\n",
              "    .colab-df-convert:hover {\n",
              "      background-color: #E2EBFA;\n",
              "      box-shadow: 0px 1px 2px rgba(60, 64, 67, 0.3), 0px 1px 3px 1px rgba(60, 64, 67, 0.15);\n",
              "      fill: #174EA6;\n",
              "    }\n",
              "\n",
              "    [theme=dark] .colab-df-convert {\n",
              "      background-color: #3B4455;\n",
              "      fill: #D2E3FC;\n",
              "    }\n",
              "\n",
              "    [theme=dark] .colab-df-convert:hover {\n",
              "      background-color: #434B5C;\n",
              "      box-shadow: 0px 1px 3px 1px rgba(0, 0, 0, 0.15);\n",
              "      filter: drop-shadow(0px 1px 2px rgba(0, 0, 0, 0.3));\n",
              "      fill: #FFFFFF;\n",
              "    }\n",
              "  </style>\n",
              "\n",
              "      <script>\n",
              "        const buttonEl =\n",
              "          document.querySelector('#df-8cd23000-a9d2-4f41-94a6-78470fe38120 button.colab-df-convert');\n",
              "        buttonEl.style.display =\n",
              "          google.colab.kernel.accessAllowed ? 'block' : 'none';\n",
              "\n",
              "        async function convertToInteractive(key) {\n",
              "          const element = document.querySelector('#df-8cd23000-a9d2-4f41-94a6-78470fe38120');\n",
              "          const dataTable =\n",
              "            await google.colab.kernel.invokeFunction('convertToInteractive',\n",
              "                                                     [key], {});\n",
              "          if (!dataTable) return;\n",
              "\n",
              "          const docLinkHtml = 'Like what you see? Visit the ' +\n",
              "            '<a target=\"_blank\" href=https://colab.research.google.com/notebooks/data_table.ipynb>data table notebook</a>'\n",
              "            + ' to learn more about interactive tables.';\n",
              "          element.innerHTML = '';\n",
              "          dataTable['output_type'] = 'display_data';\n",
              "          await google.colab.output.renderOutput(dataTable, element);\n",
              "          const docLink = document.createElement('div');\n",
              "          docLink.innerHTML = docLinkHtml;\n",
              "          element.appendChild(docLink);\n",
              "        }\n",
              "      </script>\n",
              "    </div>\n",
              "  </div>\n",
              "  "
            ],
            "text/plain": [
              "  business_code cust_number  ... cust_payment_terms converted_usd\n",
              "0          U001  0200769623  ...               NAH4     54273.280\n",
              "1          U001  0200980828  ...               NAD1     79656.600\n",
              "2          U001  0200792734  ...               NAA8      2253.860\n",
              "4          U001  0200769623  ...               NAH4     33133.290\n",
              "5          CA02  0140106181  ...               CA10     15558.088\n",
              "\n",
              "[5 rows x 11 columns]"
            ]
          },
          "metadata": {},
          "execution_count": 39
        }
      ],
      "source": [
        "maindata.head()"
      ]
    },
    {
      "cell_type": "code",
      "execution_count": 40,
      "id": "eee2d68a",
      "metadata": {
        "id": "eee2d68a",
        "colab": {
          "base_uri": "https://localhost:8080/",
          "height": 288
        },
        "outputId": "c1de3ce9-4992-4d8d-e4ce-393f2b9eaf90"
      },
      "outputs": [
        {
          "output_type": "execute_result",
          "data": {
            "text/html": [
              "\n",
              "  <div id=\"df-8c6d71d5-6a40-4e01-8a24-68a3876fcde5\">\n",
              "    <div class=\"colab-df-container\">\n",
              "      <div>\n",
              "<style scoped>\n",
              "    .dataframe tbody tr th:only-of-type {\n",
              "        vertical-align: middle;\n",
              "    }\n",
              "\n",
              "    .dataframe tbody tr th {\n",
              "        vertical-align: top;\n",
              "    }\n",
              "\n",
              "    .dataframe thead th {\n",
              "        text-align: right;\n",
              "    }\n",
              "</style>\n",
              "<table border=\"1\" class=\"dataframe\">\n",
              "  <thead>\n",
              "    <tr style=\"text-align: right;\">\n",
              "      <th></th>\n",
              "      <th>business_code</th>\n",
              "      <th>cust_number</th>\n",
              "      <th>name_customer</th>\n",
              "      <th>clear_date</th>\n",
              "      <th>buisness_year</th>\n",
              "      <th>doc_id</th>\n",
              "      <th>posting_date</th>\n",
              "      <th>due_in_date</th>\n",
              "      <th>baseline_create_date</th>\n",
              "      <th>cust_payment_terms</th>\n",
              "      <th>converted_usd</th>\n",
              "    </tr>\n",
              "  </thead>\n",
              "  <tbody>\n",
              "    <tr>\n",
              "      <th>3</th>\n",
              "      <td>CA02</td>\n",
              "      <td>0140105686</td>\n",
              "      <td>SYSC llc</td>\n",
              "      <td>NaT</td>\n",
              "      <td>2020.0</td>\n",
              "      <td>2.960623e+09</td>\n",
              "      <td>2020-03-30</td>\n",
              "      <td>2020-04-10</td>\n",
              "      <td>2020-03-31</td>\n",
              "      <td>CA10</td>\n",
              "      <td>2309.79</td>\n",
              "    </tr>\n",
              "    <tr>\n",
              "      <th>7</th>\n",
              "      <td>U001</td>\n",
              "      <td>0200744019</td>\n",
              "      <td>TARG us</td>\n",
              "      <td>NaT</td>\n",
              "      <td>2020.0</td>\n",
              "      <td>1.930659e+09</td>\n",
              "      <td>2020-03-19</td>\n",
              "      <td>2020-04-03</td>\n",
              "      <td>2020-03-19</td>\n",
              "      <td>NAA8</td>\n",
              "      <td>11173.02</td>\n",
              "    </tr>\n",
              "    <tr>\n",
              "      <th>10</th>\n",
              "      <td>U001</td>\n",
              "      <td>0200418007</td>\n",
              "      <td>AM</td>\n",
              "      <td>NaT</td>\n",
              "      <td>2020.0</td>\n",
              "      <td>1.930611e+09</td>\n",
              "      <td>2020-03-11</td>\n",
              "      <td>2020-03-26</td>\n",
              "      <td>2020-03-11</td>\n",
              "      <td>NAA8</td>\n",
              "      <td>3525.59</td>\n",
              "    </tr>\n",
              "    <tr>\n",
              "      <th>14</th>\n",
              "      <td>U001</td>\n",
              "      <td>0200739534</td>\n",
              "      <td>OK systems</td>\n",
              "      <td>NaT</td>\n",
              "      <td>2020.0</td>\n",
              "      <td>1.930788e+09</td>\n",
              "      <td>2020-04-15</td>\n",
              "      <td>2020-04-30</td>\n",
              "      <td>2020-04-15</td>\n",
              "      <td>NAA8</td>\n",
              "      <td>121105.65</td>\n",
              "    </tr>\n",
              "    <tr>\n",
              "      <th>15</th>\n",
              "      <td>U001</td>\n",
              "      <td>0200353024</td>\n",
              "      <td>DECA corporation</td>\n",
              "      <td>NaT</td>\n",
              "      <td>2020.0</td>\n",
              "      <td>1.930817e+09</td>\n",
              "      <td>2020-04-23</td>\n",
              "      <td>2020-04-26</td>\n",
              "      <td>2020-04-16</td>\n",
              "      <td>NAM2</td>\n",
              "      <td>3726.06</td>\n",
              "    </tr>\n",
              "  </tbody>\n",
              "</table>\n",
              "</div>\n",
              "      <button class=\"colab-df-convert\" onclick=\"convertToInteractive('df-8c6d71d5-6a40-4e01-8a24-68a3876fcde5')\"\n",
              "              title=\"Convert this dataframe to an interactive table.\"\n",
              "              style=\"display:none;\">\n",
              "        \n",
              "  <svg xmlns=\"http://www.w3.org/2000/svg\" height=\"24px\"viewBox=\"0 0 24 24\"\n",
              "       width=\"24px\">\n",
              "    <path d=\"M0 0h24v24H0V0z\" fill=\"none\"/>\n",
              "    <path d=\"M18.56 5.44l.94 2.06.94-2.06 2.06-.94-2.06-.94-.94-2.06-.94 2.06-2.06.94zm-11 1L8.5 8.5l.94-2.06 2.06-.94-2.06-.94L8.5 2.5l-.94 2.06-2.06.94zm10 10l.94 2.06.94-2.06 2.06-.94-2.06-.94-.94-2.06-.94 2.06-2.06.94z\"/><path d=\"M17.41 7.96l-1.37-1.37c-.4-.4-.92-.59-1.43-.59-.52 0-1.04.2-1.43.59L10.3 9.45l-7.72 7.72c-.78.78-.78 2.05 0 2.83L4 21.41c.39.39.9.59 1.41.59.51 0 1.02-.2 1.41-.59l7.78-7.78 2.81-2.81c.8-.78.8-2.07 0-2.86zM5.41 20L4 18.59l7.72-7.72 1.47 1.35L5.41 20z\"/>\n",
              "  </svg>\n",
              "      </button>\n",
              "      \n",
              "  <style>\n",
              "    .colab-df-container {\n",
              "      display:flex;\n",
              "      flex-wrap:wrap;\n",
              "      gap: 12px;\n",
              "    }\n",
              "\n",
              "    .colab-df-convert {\n",
              "      background-color: #E8F0FE;\n",
              "      border: none;\n",
              "      border-radius: 50%;\n",
              "      cursor: pointer;\n",
              "      display: none;\n",
              "      fill: #1967D2;\n",
              "      height: 32px;\n",
              "      padding: 0 0 0 0;\n",
              "      width: 32px;\n",
              "    }\n",
              "\n",
              "    .colab-df-convert:hover {\n",
              "      background-color: #E2EBFA;\n",
              "      box-shadow: 0px 1px 2px rgba(60, 64, 67, 0.3), 0px 1px 3px 1px rgba(60, 64, 67, 0.15);\n",
              "      fill: #174EA6;\n",
              "    }\n",
              "\n",
              "    [theme=dark] .colab-df-convert {\n",
              "      background-color: #3B4455;\n",
              "      fill: #D2E3FC;\n",
              "    }\n",
              "\n",
              "    [theme=dark] .colab-df-convert:hover {\n",
              "      background-color: #434B5C;\n",
              "      box-shadow: 0px 1px 3px 1px rgba(0, 0, 0, 0.15);\n",
              "      filter: drop-shadow(0px 1px 2px rgba(0, 0, 0, 0.3));\n",
              "      fill: #FFFFFF;\n",
              "    }\n",
              "  </style>\n",
              "\n",
              "      <script>\n",
              "        const buttonEl =\n",
              "          document.querySelector('#df-8c6d71d5-6a40-4e01-8a24-68a3876fcde5 button.colab-df-convert');\n",
              "        buttonEl.style.display =\n",
              "          google.colab.kernel.accessAllowed ? 'block' : 'none';\n",
              "\n",
              "        async function convertToInteractive(key) {\n",
              "          const element = document.querySelector('#df-8c6d71d5-6a40-4e01-8a24-68a3876fcde5');\n",
              "          const dataTable =\n",
              "            await google.colab.kernel.invokeFunction('convertToInteractive',\n",
              "                                                     [key], {});\n",
              "          if (!dataTable) return;\n",
              "\n",
              "          const docLinkHtml = 'Like what you see? Visit the ' +\n",
              "            '<a target=\"_blank\" href=https://colab.research.google.com/notebooks/data_table.ipynb>data table notebook</a>'\n",
              "            + ' to learn more about interactive tables.';\n",
              "          element.innerHTML = '';\n",
              "          dataTable['output_type'] = 'display_data';\n",
              "          await google.colab.output.renderOutput(dataTable, element);\n",
              "          const docLink = document.createElement('div');\n",
              "          docLink.innerHTML = docLinkHtml;\n",
              "          element.appendChild(docLink);\n",
              "        }\n",
              "      </script>\n",
              "    </div>\n",
              "  </div>\n",
              "  "
            ],
            "text/plain": [
              "   business_code cust_number  ... cust_payment_terms converted_usd\n",
              "3           CA02  0140105686  ...               CA10       2309.79\n",
              "7           U001  0200744019  ...               NAA8      11173.02\n",
              "10          U001  0200418007  ...               NAA8       3525.59\n",
              "14          U001  0200739534  ...               NAA8     121105.65\n",
              "15          U001  0200353024  ...               NAM2       3726.06\n",
              "\n",
              "[5 rows x 11 columns]"
            ]
          },
          "metadata": {},
          "execution_count": 40
        }
      ],
      "source": [
        "nulldata.head()"
      ]
    },
    {
      "cell_type": "markdown",
      "id": "24aa6746",
      "metadata": {
        "id": "24aa6746"
      },
      "source": [
        "## Considering the **maindata**"
      ]
    },
    {
      "cell_type": "markdown",
      "id": "f92c4aa7",
      "metadata": {
        "id": "f92c4aa7"
      },
      "source": [
        "#### Generate a new column \"Delay\" from the existing columns\n",
        "\n",
        "- Note - You are expected to create a new column 'Delay' from two existing columns, \"clear_date\" and \"due_in_date\" \n",
        "- Formula - Delay = clear_date - due_in_date"
      ]
    },
    {
      "cell_type": "code",
      "execution_count": 41,
      "id": "8eeceb9c",
      "metadata": {
        "id": "8eeceb9c",
        "colab": {
          "base_uri": "https://localhost:8080/"
        },
        "outputId": "d3116773-de74-427e-8f51-453f2b1fd697"
      },
      "outputs": [
        {
          "output_type": "stream",
          "name": "stderr",
          "text": [
            "/usr/local/lib/python3.7/dist-packages/ipykernel_launcher.py:1: SettingWithCopyWarning: \n",
            "A value is trying to be set on a copy of a slice from a DataFrame.\n",
            "Try using .loc[row_indexer,col_indexer] = value instead\n",
            "\n",
            "See the caveats in the documentation: https://pandas.pydata.org/pandas-docs/stable/user_guide/indexing.html#returning-a-view-versus-a-copy\n",
            "  \"\"\"Entry point for launching an IPython kernel.\n"
          ]
        }
      ],
      "source": [
        "maindata['Delay'] = maindata['clear_date'] - maindata['due_in_date']"
      ]
    },
    {
      "cell_type": "code",
      "source": [
        "maindata.info()"
      ],
      "metadata": {
        "colab": {
          "base_uri": "https://localhost:8080/"
        },
        "id": "hjutTYI5Gsnb",
        "outputId": "93beff1d-09f3-4558-b1be-175210b49bc2"
      },
      "id": "hjutTYI5Gsnb",
      "execution_count": 42,
      "outputs": [
        {
          "output_type": "stream",
          "name": "stdout",
          "text": [
            "<class 'pandas.core.frame.DataFrame'>\n",
            "Int64Index: 39158 entries, 0 to 49999\n",
            "Data columns (total 12 columns):\n",
            " #   Column                Non-Null Count  Dtype          \n",
            "---  ------                --------------  -----          \n",
            " 0   business_code         39158 non-null  object         \n",
            " 1   cust_number           39158 non-null  object         \n",
            " 2   name_customer         39158 non-null  object         \n",
            " 3   clear_date            39158 non-null  datetime64[ns] \n",
            " 4   buisness_year         39158 non-null  float64        \n",
            " 5   doc_id                39158 non-null  float64        \n",
            " 6   posting_date          39158 non-null  datetime64[ns] \n",
            " 7   due_in_date           39158 non-null  datetime64[ns] \n",
            " 8   baseline_create_date  39158 non-null  datetime64[ns] \n",
            " 9   cust_payment_terms    39158 non-null  object         \n",
            " 10  converted_usd         39158 non-null  float64        \n",
            " 11  Delay                 39158 non-null  timedelta64[ns]\n",
            "dtypes: datetime64[ns](4), float64(3), object(4), timedelta64[ns](1)\n",
            "memory usage: 3.9+ MB\n"
          ]
        }
      ]
    },
    {
      "cell_type": "markdown",
      "id": "f482144e",
      "metadata": {
        "id": "f482144e"
      },
      "source": [
        "### Generate a new column \"avgdelay\" from the existing columns\n",
        "\n",
        "- Note - You are expected to make a new column \"avgdelay\" by grouping \"name_customer\" column with reapect to mean of the \"Delay\" column.\n",
        "- This new column \"avg_delay\" is meant to store \"customer_name\" wise delay\n",
        "- groupby('name_customer')['Delay'].mean(numeric_only=False)\n",
        "- Display the new \"avg_delay\" column"
      ]
    },
    {
      "cell_type": "code",
      "execution_count": 43,
      "id": "d18d2f8d",
      "metadata": {
        "id": "d18d2f8d",
        "colab": {
          "base_uri": "https://localhost:8080/"
        },
        "outputId": "dab20dd6-a042-4aa3-c117-4aebdb64d2b7"
      },
      "outputs": [
        {
          "output_type": "stream",
          "name": "stderr",
          "text": [
            "/usr/local/lib/python3.7/dist-packages/ipykernel_launcher.py:2: SettingWithCopyWarning: \n",
            "A value is trying to be set on a copy of a slice from a DataFrame.\n",
            "Try using .loc[row_indexer,col_indexer] = value instead\n",
            "\n",
            "See the caveats in the documentation: https://pandas.pydata.org/pandas-docs/stable/user_guide/indexing.html#returning-a-view-versus-a-copy\n",
            "  \n"
          ]
        }
      ],
      "source": [
        "avg_delay = maindata.groupby('name_customer')['Delay'].mean(numeric_only=False).to_dict()\n",
        "maindata['avg_delay'] = maindata['name_customer']"
      ]
    },
    {
      "cell_type": "markdown",
      "id": "64b995e8",
      "metadata": {
        "id": "64b995e8"
      },
      "source": [
        "You need to add the \"avg_delay\" column with the maindata, mapped with \"name_customer\" column\n",
        "\n",
        " - Note - You need to use map function to map the avgdelay with respect to \"name_customer\" column"
      ]
    },
    {
      "cell_type": "code",
      "execution_count": 44,
      "id": "e1e1f3d9",
      "metadata": {
        "id": "e1e1f3d9",
        "colab": {
          "base_uri": "https://localhost:8080/"
        },
        "outputId": "23a4b960-00e0-4dab-a2a1-c6fc0f83a2e1"
      },
      "outputs": [
        {
          "output_type": "stream",
          "name": "stderr",
          "text": [
            "/usr/local/lib/python3.7/dist-packages/ipykernel_launcher.py:1: SettingWithCopyWarning: \n",
            "A value is trying to be set on a copy of a slice from a DataFrame.\n",
            "Try using .loc[row_indexer,col_indexer] = value instead\n",
            "\n",
            "See the caveats in the documentation: https://pandas.pydata.org/pandas-docs/stable/user_guide/indexing.html#returning-a-view-versus-a-copy\n",
            "  \"\"\"Entry point for launching an IPython kernel.\n"
          ]
        }
      ],
      "source": [
        "maindata['avg_delay'] = maindata['avg_delay'].map(avg_delay)"
      ]
    },
    {
      "cell_type": "markdown",
      "id": "1d332525",
      "metadata": {
        "id": "1d332525"
      },
      "source": [
        "### Observe that the \"avg_delay\" column is in days format. You need to change the format into seconds\n",
        "\n",
        "- Days_format :  17 days 00:00:00\n",
        "- Format in seconds : 1641600.0"
      ]
    },
    {
      "cell_type": "code",
      "execution_count": 45,
      "id": "d5f1041e",
      "metadata": {
        "id": "d5f1041e",
        "colab": {
          "base_uri": "https://localhost:8080/"
        },
        "outputId": "34a3b218-08bb-49fc-a9e9-9893d2346364"
      },
      "outputs": [
        {
          "output_type": "stream",
          "name": "stderr",
          "text": [
            "/usr/local/lib/python3.7/dist-packages/ipykernel_launcher.py:1: SettingWithCopyWarning: \n",
            "A value is trying to be set on a copy of a slice from a DataFrame.\n",
            "Try using .loc[row_indexer,col_indexer] = value instead\n",
            "\n",
            "See the caveats in the documentation: https://pandas.pydata.org/pandas-docs/stable/user_guide/indexing.html#returning-a-view-versus-a-copy\n",
            "  \"\"\"Entry point for launching an IPython kernel.\n"
          ]
        }
      ],
      "source": [
        "maindata['avg_delay'] = maindata['avg_delay'].dt.total_seconds()"
      ]
    },
    {
      "cell_type": "markdown",
      "id": "OvgtHSsx_O-n",
      "metadata": {
        "id": "OvgtHSsx_O-n"
      },
      "source": [
        "### Display the maindata dataframe "
      ]
    },
    {
      "cell_type": "code",
      "execution_count": 46,
      "id": "97ca9c45",
      "metadata": {
        "id": "97ca9c45",
        "colab": {
          "base_uri": "https://localhost:8080/",
          "height": 357
        },
        "outputId": "f9a748a6-70e6-4cbc-f0de-9c67d89dc8ef"
      },
      "outputs": [
        {
          "output_type": "execute_result",
          "data": {
            "text/html": [
              "\n",
              "  <div id=\"df-80d02cce-1c54-4a1a-829b-0d22425bcfa4\">\n",
              "    <div class=\"colab-df-container\">\n",
              "      <div>\n",
              "<style scoped>\n",
              "    .dataframe tbody tr th:only-of-type {\n",
              "        vertical-align: middle;\n",
              "    }\n",
              "\n",
              "    .dataframe tbody tr th {\n",
              "        vertical-align: top;\n",
              "    }\n",
              "\n",
              "    .dataframe thead th {\n",
              "        text-align: right;\n",
              "    }\n",
              "</style>\n",
              "<table border=\"1\" class=\"dataframe\">\n",
              "  <thead>\n",
              "    <tr style=\"text-align: right;\">\n",
              "      <th></th>\n",
              "      <th>business_code</th>\n",
              "      <th>cust_number</th>\n",
              "      <th>name_customer</th>\n",
              "      <th>clear_date</th>\n",
              "      <th>buisness_year</th>\n",
              "      <th>doc_id</th>\n",
              "      <th>posting_date</th>\n",
              "      <th>due_in_date</th>\n",
              "      <th>baseline_create_date</th>\n",
              "      <th>cust_payment_terms</th>\n",
              "      <th>converted_usd</th>\n",
              "      <th>Delay</th>\n",
              "      <th>avg_delay</th>\n",
              "    </tr>\n",
              "  </thead>\n",
              "  <tbody>\n",
              "    <tr>\n",
              "      <th>0</th>\n",
              "      <td>U001</td>\n",
              "      <td>0200769623</td>\n",
              "      <td>WAL-MAR corp</td>\n",
              "      <td>2020-02-11</td>\n",
              "      <td>2020.0</td>\n",
              "      <td>1.930438e+09</td>\n",
              "      <td>2020-01-26</td>\n",
              "      <td>2020-02-10</td>\n",
              "      <td>2020-01-26</td>\n",
              "      <td>NAH4</td>\n",
              "      <td>54273.280</td>\n",
              "      <td>1 days</td>\n",
              "      <td>-2.334702e+05</td>\n",
              "    </tr>\n",
              "    <tr>\n",
              "      <th>1</th>\n",
              "      <td>U001</td>\n",
              "      <td>0200980828</td>\n",
              "      <td>BEN E</td>\n",
              "      <td>2019-08-08</td>\n",
              "      <td>2019.0</td>\n",
              "      <td>1.929646e+09</td>\n",
              "      <td>2019-07-22</td>\n",
              "      <td>2019-08-11</td>\n",
              "      <td>2019-07-22</td>\n",
              "      <td>NAD1</td>\n",
              "      <td>79656.600</td>\n",
              "      <td>-3 days</td>\n",
              "      <td>1.641600e+06</td>\n",
              "    </tr>\n",
              "    <tr>\n",
              "      <th>2</th>\n",
              "      <td>U001</td>\n",
              "      <td>0200792734</td>\n",
              "      <td>MDV/ trust</td>\n",
              "      <td>2019-12-30</td>\n",
              "      <td>2019.0</td>\n",
              "      <td>1.929874e+09</td>\n",
              "      <td>2019-09-14</td>\n",
              "      <td>2019-09-29</td>\n",
              "      <td>2019-09-14</td>\n",
              "      <td>NAA8</td>\n",
              "      <td>2253.860</td>\n",
              "      <td>92 days</td>\n",
              "      <td>6.990545e+05</td>\n",
              "    </tr>\n",
              "    <tr>\n",
              "      <th>4</th>\n",
              "      <td>U001</td>\n",
              "      <td>0200769623</td>\n",
              "      <td>WAL-MAR foundation</td>\n",
              "      <td>2019-11-25</td>\n",
              "      <td>2019.0</td>\n",
              "      <td>1.930148e+09</td>\n",
              "      <td>2019-11-13</td>\n",
              "      <td>2019-11-28</td>\n",
              "      <td>2019-11-13</td>\n",
              "      <td>NAH4</td>\n",
              "      <td>33133.290</td>\n",
              "      <td>-3 days</td>\n",
              "      <td>-1.887923e+05</td>\n",
              "    </tr>\n",
              "    <tr>\n",
              "      <th>5</th>\n",
              "      <td>CA02</td>\n",
              "      <td>0140106181</td>\n",
              "      <td>THE  corporation</td>\n",
              "      <td>2019-12-04</td>\n",
              "      <td>2019.0</td>\n",
              "      <td>2.960581e+09</td>\n",
              "      <td>2019-09-20</td>\n",
              "      <td>2019-10-04</td>\n",
              "      <td>2019-09-24</td>\n",
              "      <td>CA10</td>\n",
              "      <td>15558.088</td>\n",
              "      <td>61 days</td>\n",
              "      <td>6.172800e+06</td>\n",
              "    </tr>\n",
              "  </tbody>\n",
              "</table>\n",
              "</div>\n",
              "      <button class=\"colab-df-convert\" onclick=\"convertToInteractive('df-80d02cce-1c54-4a1a-829b-0d22425bcfa4')\"\n",
              "              title=\"Convert this dataframe to an interactive table.\"\n",
              "              style=\"display:none;\">\n",
              "        \n",
              "  <svg xmlns=\"http://www.w3.org/2000/svg\" height=\"24px\"viewBox=\"0 0 24 24\"\n",
              "       width=\"24px\">\n",
              "    <path d=\"M0 0h24v24H0V0z\" fill=\"none\"/>\n",
              "    <path d=\"M18.56 5.44l.94 2.06.94-2.06 2.06-.94-2.06-.94-.94-2.06-.94 2.06-2.06.94zm-11 1L8.5 8.5l.94-2.06 2.06-.94-2.06-.94L8.5 2.5l-.94 2.06-2.06.94zm10 10l.94 2.06.94-2.06 2.06-.94-2.06-.94-.94-2.06-.94 2.06-2.06.94z\"/><path d=\"M17.41 7.96l-1.37-1.37c-.4-.4-.92-.59-1.43-.59-.52 0-1.04.2-1.43.59L10.3 9.45l-7.72 7.72c-.78.78-.78 2.05 0 2.83L4 21.41c.39.39.9.59 1.41.59.51 0 1.02-.2 1.41-.59l7.78-7.78 2.81-2.81c.8-.78.8-2.07 0-2.86zM5.41 20L4 18.59l7.72-7.72 1.47 1.35L5.41 20z\"/>\n",
              "  </svg>\n",
              "      </button>\n",
              "      \n",
              "  <style>\n",
              "    .colab-df-container {\n",
              "      display:flex;\n",
              "      flex-wrap:wrap;\n",
              "      gap: 12px;\n",
              "    }\n",
              "\n",
              "    .colab-df-convert {\n",
              "      background-color: #E8F0FE;\n",
              "      border: none;\n",
              "      border-radius: 50%;\n",
              "      cursor: pointer;\n",
              "      display: none;\n",
              "      fill: #1967D2;\n",
              "      height: 32px;\n",
              "      padding: 0 0 0 0;\n",
              "      width: 32px;\n",
              "    }\n",
              "\n",
              "    .colab-df-convert:hover {\n",
              "      background-color: #E2EBFA;\n",
              "      box-shadow: 0px 1px 2px rgba(60, 64, 67, 0.3), 0px 1px 3px 1px rgba(60, 64, 67, 0.15);\n",
              "      fill: #174EA6;\n",
              "    }\n",
              "\n",
              "    [theme=dark] .colab-df-convert {\n",
              "      background-color: #3B4455;\n",
              "      fill: #D2E3FC;\n",
              "    }\n",
              "\n",
              "    [theme=dark] .colab-df-convert:hover {\n",
              "      background-color: #434B5C;\n",
              "      box-shadow: 0px 1px 3px 1px rgba(0, 0, 0, 0.15);\n",
              "      filter: drop-shadow(0px 1px 2px rgba(0, 0, 0, 0.3));\n",
              "      fill: #FFFFFF;\n",
              "    }\n",
              "  </style>\n",
              "\n",
              "      <script>\n",
              "        const buttonEl =\n",
              "          document.querySelector('#df-80d02cce-1c54-4a1a-829b-0d22425bcfa4 button.colab-df-convert');\n",
              "        buttonEl.style.display =\n",
              "          google.colab.kernel.accessAllowed ? 'block' : 'none';\n",
              "\n",
              "        async function convertToInteractive(key) {\n",
              "          const element = document.querySelector('#df-80d02cce-1c54-4a1a-829b-0d22425bcfa4');\n",
              "          const dataTable =\n",
              "            await google.colab.kernel.invokeFunction('convertToInteractive',\n",
              "                                                     [key], {});\n",
              "          if (!dataTable) return;\n",
              "\n",
              "          const docLinkHtml = 'Like what you see? Visit the ' +\n",
              "            '<a target=\"_blank\" href=https://colab.research.google.com/notebooks/data_table.ipynb>data table notebook</a>'\n",
              "            + ' to learn more about interactive tables.';\n",
              "          element.innerHTML = '';\n",
              "          dataTable['output_type'] = 'display_data';\n",
              "          await google.colab.output.renderOutput(dataTable, element);\n",
              "          const docLink = document.createElement('div');\n",
              "          docLink.innerHTML = docLinkHtml;\n",
              "          element.appendChild(docLink);\n",
              "        }\n",
              "      </script>\n",
              "    </div>\n",
              "  </div>\n",
              "  "
            ],
            "text/plain": [
              "  business_code cust_number  ...   Delay     avg_delay\n",
              "0          U001  0200769623  ...  1 days -2.334702e+05\n",
              "1          U001  0200980828  ... -3 days  1.641600e+06\n",
              "2          U001  0200792734  ... 92 days  6.990545e+05\n",
              "4          U001  0200769623  ... -3 days -1.887923e+05\n",
              "5          CA02  0140106181  ... 61 days  6.172800e+06\n",
              "\n",
              "[5 rows x 13 columns]"
            ]
          },
          "metadata": {},
          "execution_count": 46
        }
      ],
      "source": [
        "maindata.head()"
      ]
    },
    {
      "cell_type": "markdown",
      "id": "ae24c7bb",
      "metadata": {
        "id": "ae24c7bb"
      },
      "source": [
        "### Since you have created the \"avg_delay\" column from \"Delay\" and \"clear_date\" column, there is no need of these two columns anymore \n",
        "\n",
        "- You are expected to drop \"Delay\" and \"clear_date\" columns from maindata dataframe "
      ]
    },
    {
      "cell_type": "code",
      "execution_count": 47,
      "id": "78a61ab9",
      "metadata": {
        "id": "78a61ab9",
        "colab": {
          "base_uri": "https://localhost:8080/"
        },
        "outputId": "8f92fd4b-b4b5-463e-dc65-9cec70090bf4"
      },
      "outputs": [
        {
          "output_type": "stream",
          "name": "stderr",
          "text": [
            "/usr/local/lib/python3.7/dist-packages/pandas/core/frame.py:4913: SettingWithCopyWarning: \n",
            "A value is trying to be set on a copy of a slice from a DataFrame\n",
            "\n",
            "See the caveats in the documentation: https://pandas.pydata.org/pandas-docs/stable/user_guide/indexing.html#returning-a-view-versus-a-copy\n",
            "  errors=errors,\n"
          ]
        }
      ],
      "source": [
        "maindata.drop(['Delay', 'clear_date'], axis = 1, inplace = True)"
      ]
    },
    {
      "cell_type": "markdown",
      "id": "ae724bfc",
      "metadata": {
        "id": "ae724bfc"
      },
      "source": [
        "# Splitting of Train and the Test Data"
      ]
    },
    {
      "cell_type": "markdown",
      "id": "cb6f0264",
      "metadata": {
        "id": "cb6f0264"
      },
      "source": [
        "### You need to split the \"maindata\" columns into X and y dataframe\n",
        "\n",
        "- Note - y should have the target column i.e. \"avg_delay\" and the other column should be in X\n",
        "\n",
        "- X is going to hold the source fields and y will be going to hold the target fields"
      ]
    },
    {
      "cell_type": "code",
      "execution_count": 48,
      "id": "75ab29ab",
      "metadata": {
        "id": "75ab29ab",
        "colab": {
          "base_uri": "https://localhost:8080/",
          "height": 305
        },
        "outputId": "c65ae8e0-8659-4a12-c66b-0a5b0d89d27b"
      },
      "outputs": [
        {
          "output_type": "execute_result",
          "data": {
            "text/html": [
              "\n",
              "  <div id=\"df-35e5a6fd-9f9a-4de5-b671-c62c82906a67\">\n",
              "    <div class=\"colab-df-container\">\n",
              "      <div>\n",
              "<style scoped>\n",
              "    .dataframe tbody tr th:only-of-type {\n",
              "        vertical-align: middle;\n",
              "    }\n",
              "\n",
              "    .dataframe tbody tr th {\n",
              "        vertical-align: top;\n",
              "    }\n",
              "\n",
              "    .dataframe thead th {\n",
              "        text-align: right;\n",
              "    }\n",
              "</style>\n",
              "<table border=\"1\" class=\"dataframe\">\n",
              "  <thead>\n",
              "    <tr style=\"text-align: right;\">\n",
              "      <th></th>\n",
              "      <th>business_code</th>\n",
              "      <th>cust_number</th>\n",
              "      <th>name_customer</th>\n",
              "      <th>buisness_year</th>\n",
              "      <th>doc_id</th>\n",
              "      <th>posting_date</th>\n",
              "      <th>due_in_date</th>\n",
              "      <th>baseline_create_date</th>\n",
              "      <th>cust_payment_terms</th>\n",
              "      <th>converted_usd</th>\n",
              "      <th>avg_delay</th>\n",
              "    </tr>\n",
              "  </thead>\n",
              "  <tbody>\n",
              "    <tr>\n",
              "      <th>0</th>\n",
              "      <td>U001</td>\n",
              "      <td>0200769623</td>\n",
              "      <td>WAL-MAR corp</td>\n",
              "      <td>2020.0</td>\n",
              "      <td>1.930438e+09</td>\n",
              "      <td>2020-01-26</td>\n",
              "      <td>2020-02-10</td>\n",
              "      <td>2020-01-26</td>\n",
              "      <td>NAH4</td>\n",
              "      <td>54273.280</td>\n",
              "      <td>-2.334702e+05</td>\n",
              "    </tr>\n",
              "    <tr>\n",
              "      <th>1</th>\n",
              "      <td>U001</td>\n",
              "      <td>0200980828</td>\n",
              "      <td>BEN E</td>\n",
              "      <td>2019.0</td>\n",
              "      <td>1.929646e+09</td>\n",
              "      <td>2019-07-22</td>\n",
              "      <td>2019-08-11</td>\n",
              "      <td>2019-07-22</td>\n",
              "      <td>NAD1</td>\n",
              "      <td>79656.600</td>\n",
              "      <td>1.641600e+06</td>\n",
              "    </tr>\n",
              "    <tr>\n",
              "      <th>2</th>\n",
              "      <td>U001</td>\n",
              "      <td>0200792734</td>\n",
              "      <td>MDV/ trust</td>\n",
              "      <td>2019.0</td>\n",
              "      <td>1.929874e+09</td>\n",
              "      <td>2019-09-14</td>\n",
              "      <td>2019-09-29</td>\n",
              "      <td>2019-09-14</td>\n",
              "      <td>NAA8</td>\n",
              "      <td>2253.860</td>\n",
              "      <td>6.990545e+05</td>\n",
              "    </tr>\n",
              "    <tr>\n",
              "      <th>4</th>\n",
              "      <td>U001</td>\n",
              "      <td>0200769623</td>\n",
              "      <td>WAL-MAR foundation</td>\n",
              "      <td>2019.0</td>\n",
              "      <td>1.930148e+09</td>\n",
              "      <td>2019-11-13</td>\n",
              "      <td>2019-11-28</td>\n",
              "      <td>2019-11-13</td>\n",
              "      <td>NAH4</td>\n",
              "      <td>33133.290</td>\n",
              "      <td>-1.887923e+05</td>\n",
              "    </tr>\n",
              "    <tr>\n",
              "      <th>5</th>\n",
              "      <td>CA02</td>\n",
              "      <td>0140106181</td>\n",
              "      <td>THE  corporation</td>\n",
              "      <td>2019.0</td>\n",
              "      <td>2.960581e+09</td>\n",
              "      <td>2019-09-20</td>\n",
              "      <td>2019-10-04</td>\n",
              "      <td>2019-09-24</td>\n",
              "      <td>CA10</td>\n",
              "      <td>15558.088</td>\n",
              "      <td>6.172800e+06</td>\n",
              "    </tr>\n",
              "  </tbody>\n",
              "</table>\n",
              "</div>\n",
              "      <button class=\"colab-df-convert\" onclick=\"convertToInteractive('df-35e5a6fd-9f9a-4de5-b671-c62c82906a67')\"\n",
              "              title=\"Convert this dataframe to an interactive table.\"\n",
              "              style=\"display:none;\">\n",
              "        \n",
              "  <svg xmlns=\"http://www.w3.org/2000/svg\" height=\"24px\"viewBox=\"0 0 24 24\"\n",
              "       width=\"24px\">\n",
              "    <path d=\"M0 0h24v24H0V0z\" fill=\"none\"/>\n",
              "    <path d=\"M18.56 5.44l.94 2.06.94-2.06 2.06-.94-2.06-.94-.94-2.06-.94 2.06-2.06.94zm-11 1L8.5 8.5l.94-2.06 2.06-.94-2.06-.94L8.5 2.5l-.94 2.06-2.06.94zm10 10l.94 2.06.94-2.06 2.06-.94-2.06-.94-.94-2.06-.94 2.06-2.06.94z\"/><path d=\"M17.41 7.96l-1.37-1.37c-.4-.4-.92-.59-1.43-.59-.52 0-1.04.2-1.43.59L10.3 9.45l-7.72 7.72c-.78.78-.78 2.05 0 2.83L4 21.41c.39.39.9.59 1.41.59.51 0 1.02-.2 1.41-.59l7.78-7.78 2.81-2.81c.8-.78.8-2.07 0-2.86zM5.41 20L4 18.59l7.72-7.72 1.47 1.35L5.41 20z\"/>\n",
              "  </svg>\n",
              "      </button>\n",
              "      \n",
              "  <style>\n",
              "    .colab-df-container {\n",
              "      display:flex;\n",
              "      flex-wrap:wrap;\n",
              "      gap: 12px;\n",
              "    }\n",
              "\n",
              "    .colab-df-convert {\n",
              "      background-color: #E8F0FE;\n",
              "      border: none;\n",
              "      border-radius: 50%;\n",
              "      cursor: pointer;\n",
              "      display: none;\n",
              "      fill: #1967D2;\n",
              "      height: 32px;\n",
              "      padding: 0 0 0 0;\n",
              "      width: 32px;\n",
              "    }\n",
              "\n",
              "    .colab-df-convert:hover {\n",
              "      background-color: #E2EBFA;\n",
              "      box-shadow: 0px 1px 2px rgba(60, 64, 67, 0.3), 0px 1px 3px 1px rgba(60, 64, 67, 0.15);\n",
              "      fill: #174EA6;\n",
              "    }\n",
              "\n",
              "    [theme=dark] .colab-df-convert {\n",
              "      background-color: #3B4455;\n",
              "      fill: #D2E3FC;\n",
              "    }\n",
              "\n",
              "    [theme=dark] .colab-df-convert:hover {\n",
              "      background-color: #434B5C;\n",
              "      box-shadow: 0px 1px 3px 1px rgba(0, 0, 0, 0.15);\n",
              "      filter: drop-shadow(0px 1px 2px rgba(0, 0, 0, 0.3));\n",
              "      fill: #FFFFFF;\n",
              "    }\n",
              "  </style>\n",
              "\n",
              "      <script>\n",
              "        const buttonEl =\n",
              "          document.querySelector('#df-35e5a6fd-9f9a-4de5-b671-c62c82906a67 button.colab-df-convert');\n",
              "        buttonEl.style.display =\n",
              "          google.colab.kernel.accessAllowed ? 'block' : 'none';\n",
              "\n",
              "        async function convertToInteractive(key) {\n",
              "          const element = document.querySelector('#df-35e5a6fd-9f9a-4de5-b671-c62c82906a67');\n",
              "          const dataTable =\n",
              "            await google.colab.kernel.invokeFunction('convertToInteractive',\n",
              "                                                     [key], {});\n",
              "          if (!dataTable) return;\n",
              "\n",
              "          const docLinkHtml = 'Like what you see? Visit the ' +\n",
              "            '<a target=\"_blank\" href=https://colab.research.google.com/notebooks/data_table.ipynb>data table notebook</a>'\n",
              "            + ' to learn more about interactive tables.';\n",
              "          element.innerHTML = '';\n",
              "          dataTable['output_type'] = 'display_data';\n",
              "          await google.colab.output.renderOutput(dataTable, element);\n",
              "          const docLink = document.createElement('div');\n",
              "          docLink.innerHTML = docLinkHtml;\n",
              "          element.appendChild(docLink);\n",
              "        }\n",
              "      </script>\n",
              "    </div>\n",
              "  </div>\n",
              "  "
            ],
            "text/plain": [
              "  business_code cust_number  ... converted_usd     avg_delay\n",
              "0          U001  0200769623  ...     54273.280 -2.334702e+05\n",
              "1          U001  0200980828  ...     79656.600  1.641600e+06\n",
              "2          U001  0200792734  ...      2253.860  6.990545e+05\n",
              "4          U001  0200769623  ...     33133.290 -1.887923e+05\n",
              "5          CA02  0140106181  ...     15558.088  6.172800e+06\n",
              "\n",
              "[5 rows x 11 columns]"
            ]
          },
          "metadata": {},
          "execution_count": 48
        }
      ],
      "source": [
        "maindata.head()"
      ]
    },
    {
      "cell_type": "code",
      "execution_count": 49,
      "id": "6412c62b",
      "metadata": {
        "id": "6412c62b"
      },
      "outputs": [],
      "source": [
        "X = maindata.iloc[:,:-1]\n",
        "y = maindata.iloc[:, -1]\n"
      ]
    },
    {
      "cell_type": "code",
      "execution_count": 50,
      "id": "7d1e10c3-99cb-4747-87d3-f22af43d5c6f",
      "metadata": {
        "colab": {
          "base_uri": "https://localhost:8080/",
          "height": 305
        },
        "id": "7d1e10c3-99cb-4747-87d3-f22af43d5c6f",
        "outputId": "776bbe6a-b23b-493d-c17e-5709380cb703"
      },
      "outputs": [
        {
          "output_type": "execute_result",
          "data": {
            "text/html": [
              "\n",
              "  <div id=\"df-36a436c9-e5da-40f6-b8c0-0bb094fba913\">\n",
              "    <div class=\"colab-df-container\">\n",
              "      <div>\n",
              "<style scoped>\n",
              "    .dataframe tbody tr th:only-of-type {\n",
              "        vertical-align: middle;\n",
              "    }\n",
              "\n",
              "    .dataframe tbody tr th {\n",
              "        vertical-align: top;\n",
              "    }\n",
              "\n",
              "    .dataframe thead th {\n",
              "        text-align: right;\n",
              "    }\n",
              "</style>\n",
              "<table border=\"1\" class=\"dataframe\">\n",
              "  <thead>\n",
              "    <tr style=\"text-align: right;\">\n",
              "      <th></th>\n",
              "      <th>business_code</th>\n",
              "      <th>cust_number</th>\n",
              "      <th>name_customer</th>\n",
              "      <th>buisness_year</th>\n",
              "      <th>doc_id</th>\n",
              "      <th>posting_date</th>\n",
              "      <th>due_in_date</th>\n",
              "      <th>baseline_create_date</th>\n",
              "      <th>cust_payment_terms</th>\n",
              "      <th>converted_usd</th>\n",
              "    </tr>\n",
              "  </thead>\n",
              "  <tbody>\n",
              "    <tr>\n",
              "      <th>0</th>\n",
              "      <td>U001</td>\n",
              "      <td>0200769623</td>\n",
              "      <td>WAL-MAR corp</td>\n",
              "      <td>2020.0</td>\n",
              "      <td>1.930438e+09</td>\n",
              "      <td>2020-01-26</td>\n",
              "      <td>2020-02-10</td>\n",
              "      <td>2020-01-26</td>\n",
              "      <td>NAH4</td>\n",
              "      <td>54273.280</td>\n",
              "    </tr>\n",
              "    <tr>\n",
              "      <th>1</th>\n",
              "      <td>U001</td>\n",
              "      <td>0200980828</td>\n",
              "      <td>BEN E</td>\n",
              "      <td>2019.0</td>\n",
              "      <td>1.929646e+09</td>\n",
              "      <td>2019-07-22</td>\n",
              "      <td>2019-08-11</td>\n",
              "      <td>2019-07-22</td>\n",
              "      <td>NAD1</td>\n",
              "      <td>79656.600</td>\n",
              "    </tr>\n",
              "    <tr>\n",
              "      <th>2</th>\n",
              "      <td>U001</td>\n",
              "      <td>0200792734</td>\n",
              "      <td>MDV/ trust</td>\n",
              "      <td>2019.0</td>\n",
              "      <td>1.929874e+09</td>\n",
              "      <td>2019-09-14</td>\n",
              "      <td>2019-09-29</td>\n",
              "      <td>2019-09-14</td>\n",
              "      <td>NAA8</td>\n",
              "      <td>2253.860</td>\n",
              "    </tr>\n",
              "    <tr>\n",
              "      <th>4</th>\n",
              "      <td>U001</td>\n",
              "      <td>0200769623</td>\n",
              "      <td>WAL-MAR foundation</td>\n",
              "      <td>2019.0</td>\n",
              "      <td>1.930148e+09</td>\n",
              "      <td>2019-11-13</td>\n",
              "      <td>2019-11-28</td>\n",
              "      <td>2019-11-13</td>\n",
              "      <td>NAH4</td>\n",
              "      <td>33133.290</td>\n",
              "    </tr>\n",
              "    <tr>\n",
              "      <th>5</th>\n",
              "      <td>CA02</td>\n",
              "      <td>0140106181</td>\n",
              "      <td>THE  corporation</td>\n",
              "      <td>2019.0</td>\n",
              "      <td>2.960581e+09</td>\n",
              "      <td>2019-09-20</td>\n",
              "      <td>2019-10-04</td>\n",
              "      <td>2019-09-24</td>\n",
              "      <td>CA10</td>\n",
              "      <td>15558.088</td>\n",
              "    </tr>\n",
              "  </tbody>\n",
              "</table>\n",
              "</div>\n",
              "      <button class=\"colab-df-convert\" onclick=\"convertToInteractive('df-36a436c9-e5da-40f6-b8c0-0bb094fba913')\"\n",
              "              title=\"Convert this dataframe to an interactive table.\"\n",
              "              style=\"display:none;\">\n",
              "        \n",
              "  <svg xmlns=\"http://www.w3.org/2000/svg\" height=\"24px\"viewBox=\"0 0 24 24\"\n",
              "       width=\"24px\">\n",
              "    <path d=\"M0 0h24v24H0V0z\" fill=\"none\"/>\n",
              "    <path d=\"M18.56 5.44l.94 2.06.94-2.06 2.06-.94-2.06-.94-.94-2.06-.94 2.06-2.06.94zm-11 1L8.5 8.5l.94-2.06 2.06-.94-2.06-.94L8.5 2.5l-.94 2.06-2.06.94zm10 10l.94 2.06.94-2.06 2.06-.94-2.06-.94-.94-2.06-.94 2.06-2.06.94z\"/><path d=\"M17.41 7.96l-1.37-1.37c-.4-.4-.92-.59-1.43-.59-.52 0-1.04.2-1.43.59L10.3 9.45l-7.72 7.72c-.78.78-.78 2.05 0 2.83L4 21.41c.39.39.9.59 1.41.59.51 0 1.02-.2 1.41-.59l7.78-7.78 2.81-2.81c.8-.78.8-2.07 0-2.86zM5.41 20L4 18.59l7.72-7.72 1.47 1.35L5.41 20z\"/>\n",
              "  </svg>\n",
              "      </button>\n",
              "      \n",
              "  <style>\n",
              "    .colab-df-container {\n",
              "      display:flex;\n",
              "      flex-wrap:wrap;\n",
              "      gap: 12px;\n",
              "    }\n",
              "\n",
              "    .colab-df-convert {\n",
              "      background-color: #E8F0FE;\n",
              "      border: none;\n",
              "      border-radius: 50%;\n",
              "      cursor: pointer;\n",
              "      display: none;\n",
              "      fill: #1967D2;\n",
              "      height: 32px;\n",
              "      padding: 0 0 0 0;\n",
              "      width: 32px;\n",
              "    }\n",
              "\n",
              "    .colab-df-convert:hover {\n",
              "      background-color: #E2EBFA;\n",
              "      box-shadow: 0px 1px 2px rgba(60, 64, 67, 0.3), 0px 1px 3px 1px rgba(60, 64, 67, 0.15);\n",
              "      fill: #174EA6;\n",
              "    }\n",
              "\n",
              "    [theme=dark] .colab-df-convert {\n",
              "      background-color: #3B4455;\n",
              "      fill: #D2E3FC;\n",
              "    }\n",
              "\n",
              "    [theme=dark] .colab-df-convert:hover {\n",
              "      background-color: #434B5C;\n",
              "      box-shadow: 0px 1px 3px 1px rgba(0, 0, 0, 0.15);\n",
              "      filter: drop-shadow(0px 1px 2px rgba(0, 0, 0, 0.3));\n",
              "      fill: #FFFFFF;\n",
              "    }\n",
              "  </style>\n",
              "\n",
              "      <script>\n",
              "        const buttonEl =\n",
              "          document.querySelector('#df-36a436c9-e5da-40f6-b8c0-0bb094fba913 button.colab-df-convert');\n",
              "        buttonEl.style.display =\n",
              "          google.colab.kernel.accessAllowed ? 'block' : 'none';\n",
              "\n",
              "        async function convertToInteractive(key) {\n",
              "          const element = document.querySelector('#df-36a436c9-e5da-40f6-b8c0-0bb094fba913');\n",
              "          const dataTable =\n",
              "            await google.colab.kernel.invokeFunction('convertToInteractive',\n",
              "                                                     [key], {});\n",
              "          if (!dataTable) return;\n",
              "\n",
              "          const docLinkHtml = 'Like what you see? Visit the ' +\n",
              "            '<a target=\"_blank\" href=https://colab.research.google.com/notebooks/data_table.ipynb>data table notebook</a>'\n",
              "            + ' to learn more about interactive tables.';\n",
              "          element.innerHTML = '';\n",
              "          dataTable['output_type'] = 'display_data';\n",
              "          await google.colab.output.renderOutput(dataTable, element);\n",
              "          const docLink = document.createElement('div');\n",
              "          docLink.innerHTML = docLinkHtml;\n",
              "          element.appendChild(docLink);\n",
              "        }\n",
              "      </script>\n",
              "    </div>\n",
              "  </div>\n",
              "  "
            ],
            "text/plain": [
              "  business_code cust_number  ... cust_payment_terms  converted_usd\n",
              "0          U001  0200769623  ...               NAH4      54273.280\n",
              "1          U001  0200980828  ...               NAD1      79656.600\n",
              "2          U001  0200792734  ...               NAA8       2253.860\n",
              "4          U001  0200769623  ...               NAH4      33133.290\n",
              "5          CA02  0140106181  ...               CA10      15558.088\n",
              "\n",
              "[5 rows x 10 columns]"
            ]
          },
          "metadata": {},
          "execution_count": 50
        }
      ],
      "source": [
        "X.head()"
      ]
    },
    {
      "cell_type": "code",
      "execution_count": 51,
      "id": "eed2a814-bd52-42f1-80e6-1250a1ea5043",
      "metadata": {
        "colab": {
          "base_uri": "https://localhost:8080/"
        },
        "id": "eed2a814-bd52-42f1-80e6-1250a1ea5043",
        "outputId": "67b62998-d4d1-4e8a-e579-23d3e6f96998"
      },
      "outputs": [
        {
          "output_type": "execute_result",
          "data": {
            "text/plain": [
              "0   -2.334702e+05\n",
              "1    1.641600e+06\n",
              "2    6.990545e+05\n",
              "4   -1.887923e+05\n",
              "5    6.172800e+06\n",
              "Name: avg_delay, dtype: float64"
            ]
          },
          "metadata": {},
          "execution_count": 51
        }
      ],
      "source": [
        "y.head()"
      ]
    },
    {
      "cell_type": "markdown",
      "id": "1c2942bf",
      "metadata": {
        "id": "1c2942bf"
      },
      "source": [
        "#### You are expected to split both the dataframes into train and test format in 60:40 ratio \n",
        "\n",
        "- Note - The expected output should be in \"X_train\", \"X_loc_test\", \"y_train\", \"y_loc_test\" format "
      ]
    },
    {
      "cell_type": "code",
      "execution_count": 52,
      "id": "d92160a5",
      "metadata": {
        "id": "d92160a5"
      },
      "outputs": [],
      "source": [
        "X_train, X_loc_test, y_train, y_loc_test = train_test_split(X, y, test_size = 0.4)"
      ]
    },
    {
      "cell_type": "markdown",
      "id": "p4OME62pDufR",
      "metadata": {
        "id": "p4OME62pDufR"
      },
      "source": [
        "### Please check for the number of rows and columns of all the new dataframes (all 4)"
      ]
    },
    {
      "cell_type": "code",
      "execution_count": 53,
      "id": "48328d0a",
      "metadata": {
        "id": "48328d0a",
        "colab": {
          "base_uri": "https://localhost:8080/"
        },
        "outputId": "b57d6b74-f3fd-4d74-deab-cf64eca33df7"
      },
      "outputs": [
        {
          "output_type": "stream",
          "name": "stdout",
          "text": [
            "Rows and Columns in X_train = (23494, 10) \n",
            " Rows and Columns in X_train = (15664, 10) \n",
            " Rows and Columns in X_train = (23494,) \n",
            " Rows and Columns in X_train = (15664,) \n",
            "\n"
          ]
        }
      ],
      "source": [
        "print(f\"Rows and Columns in X_train = {X_train.shape} \\n Rows and Columns in X_train = {X_loc_test.shape} \\n Rows and Columns in X_train = {y_train.shape} \\n Rows and Columns in X_train = {y_loc_test.shape} \\n\")"
      ]
    },
    {
      "cell_type": "markdown",
      "id": "4a68ed71",
      "metadata": {
        "id": "4a68ed71"
      },
      "source": [
        "### Now you are expected to split the \"X_loc_test\" and \"y_loc_test\" dataset into \"Test\" and \"Validation\" (as the names given below) dataframe with 50:50 format \n",
        "\n",
        "- Note - The expected output should be in \"X_val\", \"X_test\", \"y_val\", \"y_test\" format"
      ]
    },
    {
      "cell_type": "code",
      "execution_count": 54,
      "id": "b56c62f2",
      "metadata": {
        "id": "b56c62f2"
      },
      "outputs": [],
      "source": [
        "X_val, X_test, y_val, y_test = train_test_split(X_loc_test, y_loc_test, test_size = 0.5)"
      ]
    },
    {
      "cell_type": "markdown",
      "id": "bJTSAskvERH1",
      "metadata": {
        "id": "bJTSAskvERH1"
      },
      "source": [
        "### Please check for the number of rows and columns of all the 4 dataframes "
      ]
    },
    {
      "cell_type": "code",
      "execution_count": 55,
      "id": "845d7564",
      "metadata": {
        "id": "845d7564",
        "colab": {
          "base_uri": "https://localhost:8080/"
        },
        "outputId": "4ede13a4-66b0-4e99-e491-5cb475654dc0"
      },
      "outputs": [
        {
          "output_type": "stream",
          "name": "stdout",
          "text": [
            "X_val =  (7832, 10)\n",
            "X_test =  (7832, 10)\n",
            "y_val =  (7832,)\n",
            "y_test =  (7832,)\n"
          ]
        }
      ],
      "source": [
        "print(\"X_val = \", X_val.shape)\n",
        "print(\"X_test = \", X_test.shape)\n",
        "print(\"y_val = \", y_val.shape)\n",
        "print(\"y_test = \", y_test.shape)"
      ]
    },
    {
      "cell_type": "markdown",
      "id": "110fa872",
      "metadata": {
        "id": "110fa872"
      },
      "source": [
        "# Exploratory Data Analysis (EDA) "
      ]
    },
    {
      "cell_type": "markdown",
      "id": "ffc8fe0f",
      "metadata": {
        "id": "ffc8fe0f"
      },
      "source": [
        "### Distribution Plot of the target variable (use the dataframe which contains the target field)\n",
        "\n",
        "- Note - You are expected to make a distribution plot for the target variable "
      ]
    },
    {
      "cell_type": "code",
      "execution_count": 56,
      "id": "ba2bf8ed",
      "metadata": {
        "id": "ba2bf8ed",
        "colab": {
          "base_uri": "https://localhost:8080/",
          "height": 404
        },
        "outputId": "87eeedd8-64ee-4449-ce27-e2c55c1498d9"
      },
      "outputs": [
        {
          "output_type": "execute_result",
          "data": {
            "text/plain": [
              "<seaborn.axisgrid.FacetGrid at 0x7f7d86376dd0>"
            ]
          },
          "metadata": {},
          "execution_count": 56
        },
        {
          "output_type": "display_data",
          "data": {
            "text/plain": [
              "<Figure size 1440x720 with 0 Axes>"
            ]
          },
          "metadata": {}
        },
        {
          "output_type": "display_data",
          "data": {
            "image/png": "[encoded data removed]",
            "text/plain": [
              "<Figure size 360x360 with 1 Axes>"
            ]
          },
          "metadata": {
            "needs_background": "light"
          }
        }
      ],
      "source": [
        "plt.figure(figsize = (20,10))\n",
        "sns.displot(y, kde = True)"
      ]
    },
    {
      "cell_type": "markdown",
      "id": "d0e323a3",
      "metadata": {
        "id": "d0e323a3"
      },
      "source": [
        "### You are expected to group the X_train dataset on 'name_customer' column with 'doc_id' in the x_train set\n",
        "\n",
        "### Need to store the outcome into a new dataframe \n",
        "\n",
        "- Note code given for groupby statement- X_train.groupby(by=['name_customer'], as_index=False)['doc_id'].count()"
      ]
    },
    {
      "cell_type": "code",
      "execution_count": 57,
      "id": "f7acf0ee",
      "metadata": {
        "id": "f7acf0ee"
      },
      "outputs": [],
      "source": [
        "df4 = X_train.groupby(by = ['name_customer'], as_index = False)['doc_id'].count()"
      ]
    },
    {
      "cell_type": "markdown",
      "id": "cA43bFffFt6i",
      "metadata": {
        "id": "cA43bFffFt6i"
      },
      "source": [
        "### You can make another distribution plot of the \"doc_id\" column from x_train"
      ]
    },
    {
      "cell_type": "code",
      "execution_count": 58,
      "id": "9576bf33",
      "metadata": {
        "id": "9576bf33",
        "colab": {
          "base_uri": "https://localhost:8080/",
          "height": 526
        },
        "outputId": "9c77bdec-ba2d-4451-bb2b-9dfc47f48212"
      },
      "outputs": [
        {
          "output_type": "stream",
          "name": "stderr",
          "text": [
            "/usr/local/lib/python3.7/dist-packages/seaborn/distributions.py:2619: FutureWarning: `distplot` is a deprecated function and will be removed in a future version. Please adapt your code to use either `displot` (a figure-level function with similar flexibility) or `histplot` (an axes-level function for histograms).\n",
            "  warnings.warn(msg, FutureWarning)\n"
          ]
        },
        {
          "output_type": "execute_result",
          "data": {
            "text/plain": [
              "<matplotlib.axes._subplots.AxesSubplot at 0x7f7d81b8a450>"
            ]
          },
          "metadata": {},
          "execution_count": 58
        },
        {
          "output_type": "display_data",
          "data": {
            "image/png": "[encoded data removed]",
            "text/plain": [
              "<Figure size 864x504 with 1 Axes>"
            ]
          },
          "metadata": {
            "needs_background": "light"
          }
        }
      ],
      "source": [
        "plt.figure(figsize = (12,7))\n",
        "sns.distplot(X_train['doc_id'])"
      ]
    },
    {
      "cell_type": "markdown",
      "id": "fba2c44f",
      "metadata": {
        "id": "fba2c44f"
      },
      "source": [
        "#### Create a Distribution plot only for business_year and a seperate distribution plot of \"business_year\" column along with the doc_id\" column\n"
      ]
    },
    {
      "cell_type": "code",
      "execution_count": 59,
      "id": "4fecec77",
      "metadata": {
        "id": "4fecec77",
        "colab": {
          "base_uri": "https://localhost:8080/",
          "height": 515
        },
        "outputId": "c81df5a9-0996-465d-e75f-f1ebcdc3a587"
      },
      "outputs": [
        {
          "output_type": "stream",
          "name": "stderr",
          "text": [
            "/usr/local/lib/python3.7/dist-packages/seaborn/distributions.py:2619: FutureWarning: `distplot` is a deprecated function and will be removed in a future version. Please adapt your code to use either `displot` (a figure-level function with similar flexibility) or `histplot` (an axes-level function for histograms).\n",
            "  warnings.warn(msg, FutureWarning)\n"
          ]
        },
        {
          "output_type": "execute_result",
          "data": {
            "text/plain": [
              "<matplotlib.axes._subplots.AxesSubplot at 0x7f7d82420b90>"
            ]
          },
          "metadata": {},
          "execution_count": 59
        },
        {
          "output_type": "display_data",
          "data": {
            "image/png": "[encoded data removed]",
            "text/plain": [
              "<Figure size 1080x504 with 1 Axes>"
            ]
          },
          "metadata": {
            "needs_background": "light"
          }
        }
      ],
      "source": [
        "plt.figure(figsize = (15,7))\n",
        "sns.distplot(X_train['buisness_year'], kde = True)"
      ]
    },
    {
      "cell_type": "code",
      "execution_count": 60,
      "id": "qr1jGhfOKjnw",
      "metadata": {
        "id": "qr1jGhfOKjnw",
        "colab": {
          "base_uri": "https://localhost:8080/",
          "height": 526
        },
        "outputId": "3f446c2c-5bb9-4b3c-a866-84c8e94dff68"
      },
      "outputs": [
        {
          "output_type": "stream",
          "name": "stderr",
          "text": [
            "/usr/local/lib/python3.7/dist-packages/seaborn/_decorators.py:43: FutureWarning: Pass the following variables as keyword args: x, y. From version 0.12, the only valid positional argument will be `data`, and passing other arguments without an explicit keyword will result in an error or misinterpretation.\n",
            "  FutureWarning\n"
          ]
        },
        {
          "output_type": "execute_result",
          "data": {
            "text/plain": [
              "<matplotlib.axes._subplots.AxesSubplot at 0x7f7d812da990>"
            ]
          },
          "metadata": {},
          "execution_count": 60
        },
        {
          "output_type": "display_data",
          "data": {
            "image/png": "[encoded data removed]",
            "text/plain": [
              "<Figure size 864x504 with 1 Axes>"
            ]
          },
          "metadata": {
            "needs_background": "light"
          }
        }
      ],
      "source": [
        "plt.figure(figsize = (12,7))\n",
        "sns.barplot(X_train['buisness_year'], X_train['doc_id'])"
      ]
    },
    {
      "cell_type": "markdown",
      "id": "968fbcc9",
      "metadata": {
        "id": "968fbcc9"
      },
      "source": [
        "# Feature Engineering "
      ]
    },
    {
      "cell_type": "markdown",
      "id": "jbh6CyGqH3XE",
      "metadata": {
        "id": "jbh6CyGqH3XE"
      },
      "source": [
        "### Display and describe the X_train dataframe "
      ]
    },
    {
      "cell_type": "code",
      "execution_count": 61,
      "id": "e6bcf307",
      "metadata": {
        "id": "e6bcf307",
        "colab": {
          "base_uri": "https://localhost:8080/",
          "height": 322
        },
        "outputId": "53a75bc6-9a7d-45ee-b312-df0649f2f7be"
      },
      "outputs": [
        {
          "output_type": "execute_result",
          "data": {
            "text/html": [
              "\n",
              "  <div id=\"df-8a5bf045-42b0-4422-9c76-06bdfa9baa43\">\n",
              "    <div class=\"colab-df-container\">\n",
              "      <div>\n",
              "<style scoped>\n",
              "    .dataframe tbody tr th:only-of-type {\n",
              "        vertical-align: middle;\n",
              "    }\n",
              "\n",
              "    .dataframe tbody tr th {\n",
              "        vertical-align: top;\n",
              "    }\n",
              "\n",
              "    .dataframe thead th {\n",
              "        text-align: right;\n",
              "    }\n",
              "</style>\n",
              "<table border=\"1\" class=\"dataframe\">\n",
              "  <thead>\n",
              "    <tr style=\"text-align: right;\">\n",
              "      <th></th>\n",
              "      <th>business_code</th>\n",
              "      <th>cust_number</th>\n",
              "      <th>name_customer</th>\n",
              "      <th>buisness_year</th>\n",
              "      <th>doc_id</th>\n",
              "      <th>posting_date</th>\n",
              "      <th>due_in_date</th>\n",
              "      <th>baseline_create_date</th>\n",
              "      <th>cust_payment_terms</th>\n",
              "      <th>converted_usd</th>\n",
              "    </tr>\n",
              "  </thead>\n",
              "  <tbody>\n",
              "    <tr>\n",
              "      <th>34141</th>\n",
              "      <td>U001</td>\n",
              "      <td>0200974851</td>\n",
              "      <td>RESTA corporation</td>\n",
              "      <td>2020.0</td>\n",
              "      <td>1.930343e+09</td>\n",
              "      <td>2020-01-02</td>\n",
              "      <td>2020-01-22</td>\n",
              "      <td>2020-01-02</td>\n",
              "      <td>NAD1</td>\n",
              "      <td>1652.210</td>\n",
              "    </tr>\n",
              "    <tr>\n",
              "      <th>33036</th>\n",
              "      <td>U001</td>\n",
              "      <td>0200331749</td>\n",
              "      <td>SYSC corporation</td>\n",
              "      <td>2019.0</td>\n",
              "      <td>1.930052e+09</td>\n",
              "      <td>2019-10-25</td>\n",
              "      <td>2019-11-09</td>\n",
              "      <td>2019-10-25</td>\n",
              "      <td>NAA8</td>\n",
              "      <td>2187.900</td>\n",
              "    </tr>\n",
              "    <tr>\n",
              "      <th>48578</th>\n",
              "      <td>CA02</td>\n",
              "      <td>0140106408</td>\n",
              "      <td>WAL-M trust</td>\n",
              "      <td>2019.0</td>\n",
              "      <td>2.960557e+09</td>\n",
              "      <td>2019-06-26</td>\n",
              "      <td>2019-07-06</td>\n",
              "      <td>2019-06-26</td>\n",
              "      <td>CA10</td>\n",
              "      <td>30204.503</td>\n",
              "    </tr>\n",
              "    <tr>\n",
              "      <th>29070</th>\n",
              "      <td>U001</td>\n",
              "      <td>0200769623</td>\n",
              "      <td>WAL-MAR associates</td>\n",
              "      <td>2019.0</td>\n",
              "      <td>1.928571e+09</td>\n",
              "      <td>2019-01-05</td>\n",
              "      <td>2019-01-20</td>\n",
              "      <td>2019-01-05</td>\n",
              "      <td>NAH4</td>\n",
              "      <td>242.830</td>\n",
              "    </tr>\n",
              "    <tr>\n",
              "      <th>38535</th>\n",
              "      <td>U001</td>\n",
              "      <td>0200707741</td>\n",
              "      <td>SMART &amp;  us</td>\n",
              "      <td>2020.0</td>\n",
              "      <td>1.930410e+09</td>\n",
              "      <td>2020-01-16</td>\n",
              "      <td>2020-01-31</td>\n",
              "      <td>2020-01-16</td>\n",
              "      <td>NAA8</td>\n",
              "      <td>17729.310</td>\n",
              "    </tr>\n",
              "  </tbody>\n",
              "</table>\n",
              "</div>\n",
              "      <button class=\"colab-df-convert\" onclick=\"convertToInteractive('df-8a5bf045-42b0-4422-9c76-06bdfa9baa43')\"\n",
              "              title=\"Convert this dataframe to an interactive table.\"\n",
              "              style=\"display:none;\">\n",
              "        \n",
              "  <svg xmlns=\"http://www.w3.org/2000/svg\" height=\"24px\"viewBox=\"0 0 24 24\"\n",
              "       width=\"24px\">\n",
              "    <path d=\"M0 0h24v24H0V0z\" fill=\"none\"/>\n",
              "    <path d=\"M18.56 5.44l.94 2.06.94-2.06 2.06-.94-2.06-.94-.94-2.06-.94 2.06-2.06.94zm-11 1L8.5 8.5l.94-2.06 2.06-.94-2.06-.94L8.5 2.5l-.94 2.06-2.06.94zm10 10l.94 2.06.94-2.06 2.06-.94-2.06-.94-.94-2.06-.94 2.06-2.06.94z\"/><path d=\"M17.41 7.96l-1.37-1.37c-.4-.4-.92-.59-1.43-.59-.52 0-1.04.2-1.43.59L10.3 9.45l-7.72 7.72c-.78.78-.78 2.05 0 2.83L4 21.41c.39.39.9.59 1.41.59.51 0 1.02-.2 1.41-.59l7.78-7.78 2.81-2.81c.8-.78.8-2.07 0-2.86zM5.41 20L4 18.59l7.72-7.72 1.47 1.35L5.41 20z\"/>\n",
              "  </svg>\n",
              "      </button>\n",
              "      \n",
              "  <style>\n",
              "    .colab-df-container {\n",
              "      display:flex;\n",
              "      flex-wrap:wrap;\n",
              "      gap: 12px;\n",
              "    }\n",
              "\n",
              "    .colab-df-convert {\n",
              "      background-color: #E8F0FE;\n",
              "      border: none;\n",
              "      border-radius: 50%;\n",
              "      cursor: pointer;\n",
              "      display: none;\n",
              "      fill: #1967D2;\n",
              "      height: 32px;\n",
              "      padding: 0 0 0 0;\n",
              "      width: 32px;\n",
              "    }\n",
              "\n",
              "    .colab-df-convert:hover {\n",
              "      background-color: #E2EBFA;\n",
              "      box-shadow: 0px 1px 2px rgba(60, 64, 67, 0.3), 0px 1px 3px 1px rgba(60, 64, 67, 0.15);\n",
              "      fill: #174EA6;\n",
              "    }\n",
              "\n",
              "    [theme=dark] .colab-df-convert {\n",
              "      background-color: #3B4455;\n",
              "      fill: #D2E3FC;\n",
              "    }\n",
              "\n",
              "    [theme=dark] .colab-df-convert:hover {\n",
              "      background-color: #434B5C;\n",
              "      box-shadow: 0px 1px 3px 1px rgba(0, 0, 0, 0.15);\n",
              "      filter: drop-shadow(0px 1px 2px rgba(0, 0, 0, 0.3));\n",
              "      fill: #FFFFFF;\n",
              "    }\n",
              "  </style>\n",
              "\n",
              "      <script>\n",
              "        const buttonEl =\n",
              "          document.querySelector('#df-8a5bf045-42b0-4422-9c76-06bdfa9baa43 button.colab-df-convert');\n",
              "        buttonEl.style.display =\n",
              "          google.colab.kernel.accessAllowed ? 'block' : 'none';\n",
              "\n",
              "        async function convertToInteractive(key) {\n",
              "          const element = document.querySelector('#df-8a5bf045-42b0-4422-9c76-06bdfa9baa43');\n",
              "          const dataTable =\n",
              "            await google.colab.kernel.invokeFunction('convertToInteractive',\n",
              "                                                     [key], {});\n",
              "          if (!dataTable) return;\n",
              "\n",
              "          const docLinkHtml = 'Like what you see? Visit the ' +\n",
              "            '<a target=\"_blank\" href=https://colab.research.google.com/notebooks/data_table.ipynb>data table notebook</a>'\n",
              "            + ' to learn more about interactive tables.';\n",
              "          element.innerHTML = '';\n",
              "          dataTable['output_type'] = 'display_data';\n",
              "          await google.colab.output.renderOutput(dataTable, element);\n",
              "          const docLink = document.createElement('div');\n",
              "          docLink.innerHTML = docLinkHtml;\n",
              "          element.appendChild(docLink);\n",
              "        }\n",
              "      </script>\n",
              "    </div>\n",
              "  </div>\n",
              "  "
            ],
            "text/plain": [
              "      business_code cust_number  ... cust_payment_terms  converted_usd\n",
              "34141          U001  0200974851  ...               NAD1       1652.210\n",
              "33036          U001  0200331749  ...               NAA8       2187.900\n",
              "48578          CA02  0140106408  ...               CA10      30204.503\n",
              "29070          U001  0200769623  ...               NAH4        242.830\n",
              "38535          U001  0200707741  ...               NAA8      17729.310\n",
              "\n",
              "[5 rows x 10 columns]"
            ]
          },
          "metadata": {},
          "execution_count": 61
        }
      ],
      "source": [
        "X_train.head()"
      ]
    },
    {
      "cell_type": "code",
      "execution_count": 62,
      "id": "08ccc819",
      "metadata": {
        "id": "08ccc819",
        "colab": {
          "base_uri": "https://localhost:8080/",
          "height": 608
        },
        "outputId": "a8d38777-f599-40fe-ddc0-6ac3616cea46"
      },
      "outputs": [
        {
          "output_type": "stream",
          "name": "stderr",
          "text": [
            "/usr/local/lib/python3.7/dist-packages/ipykernel_launcher.py:2: FutureWarning: Treating datetime data as categorical rather than numeric in `.describe` is deprecated and will be removed in a future version of pandas. Specify `datetime_is_numeric=True` to silence this warning and adopt the future behavior now.\n",
            "  \n"
          ]
        },
        {
          "output_type": "execute_result",
          "data": {
            "text/html": [
              "\n",
              "  <div id=\"df-5edf0f4b-855d-4082-8ebc-c5ada6a60935\">\n",
              "    <div class=\"colab-df-container\">\n",
              "      <div>\n",
              "<style scoped>\n",
              "    .dataframe tbody tr th:only-of-type {\n",
              "        vertical-align: middle;\n",
              "    }\n",
              "\n",
              "    .dataframe tbody tr th {\n",
              "        vertical-align: top;\n",
              "    }\n",
              "\n",
              "    .dataframe thead th {\n",
              "        text-align: right;\n",
              "    }\n",
              "</style>\n",
              "<table border=\"1\" class=\"dataframe\">\n",
              "  <thead>\n",
              "    <tr style=\"text-align: right;\">\n",
              "      <th></th>\n",
              "      <th>business_code</th>\n",
              "      <th>cust_number</th>\n",
              "      <th>name_customer</th>\n",
              "      <th>buisness_year</th>\n",
              "      <th>doc_id</th>\n",
              "      <th>posting_date</th>\n",
              "      <th>due_in_date</th>\n",
              "      <th>baseline_create_date</th>\n",
              "      <th>cust_payment_terms</th>\n",
              "      <th>converted_usd</th>\n",
              "    </tr>\n",
              "  </thead>\n",
              "  <tbody>\n",
              "    <tr>\n",
              "      <th>count</th>\n",
              "      <td>23494</td>\n",
              "      <td>23494</td>\n",
              "      <td>23494</td>\n",
              "      <td>23494.000000</td>\n",
              "      <td>2.349400e+04</td>\n",
              "      <td>23494</td>\n",
              "      <td>23494</td>\n",
              "      <td>23494</td>\n",
              "      <td>23494</td>\n",
              "      <td>23494.000000</td>\n",
              "    </tr>\n",
              "    <tr>\n",
              "      <th>unique</th>\n",
              "      <td>6</td>\n",
              "      <td>1122</td>\n",
              "      <td>3088</td>\n",
              "      <td>NaN</td>\n",
              "      <td>NaN</td>\n",
              "      <td>422</td>\n",
              "      <td>484</td>\n",
              "      <td>429</td>\n",
              "      <td>66</td>\n",
              "      <td>NaN</td>\n",
              "    </tr>\n",
              "    <tr>\n",
              "      <th>top</th>\n",
              "      <td>U001</td>\n",
              "      <td>0200769623</td>\n",
              "      <td>WAL-MAR trust</td>\n",
              "      <td>NaN</td>\n",
              "      <td>NaN</td>\n",
              "      <td>2019-09-20 00:00:00</td>\n",
              "      <td>2019-11-08 00:00:00</td>\n",
              "      <td>2019-05-01 00:00:00</td>\n",
              "      <td>NAA8</td>\n",
              "      <td>NaN</td>\n",
              "    </tr>\n",
              "    <tr>\n",
              "      <th>freq</th>\n",
              "      <td>21263</td>\n",
              "      <td>5253</td>\n",
              "      <td>573</td>\n",
              "      <td>NaN</td>\n",
              "      <td>NaN</td>\n",
              "      <td>98</td>\n",
              "      <td>107</td>\n",
              "      <td>134</td>\n",
              "      <td>9317</td>\n",
              "      <td>NaN</td>\n",
              "    </tr>\n",
              "    <tr>\n",
              "      <th>first</th>\n",
              "      <td>NaN</td>\n",
              "      <td>NaN</td>\n",
              "      <td>NaN</td>\n",
              "      <td>NaN</td>\n",
              "      <td>NaN</td>\n",
              "      <td>2018-12-30 00:00:00</td>\n",
              "      <td>2018-12-29 00:00:00</td>\n",
              "      <td>2018-12-14 00:00:00</td>\n",
              "      <td>NaN</td>\n",
              "      <td>NaN</td>\n",
              "    </tr>\n",
              "    <tr>\n",
              "      <th>last</th>\n",
              "      <td>NaN</td>\n",
              "      <td>NaN</td>\n",
              "      <td>NaN</td>\n",
              "      <td>NaN</td>\n",
              "      <td>NaN</td>\n",
              "      <td>2020-02-27 00:00:00</td>\n",
              "      <td>2020-05-27 00:00:00</td>\n",
              "      <td>2020-03-06 00:00:00</td>\n",
              "      <td>NaN</td>\n",
              "      <td>NaN</td>\n",
              "    </tr>\n",
              "    <tr>\n",
              "      <th>mean</th>\n",
              "      <td>NaN</td>\n",
              "      <td>NaN</td>\n",
              "      <td>NaN</td>\n",
              "      <td>2019.133353</td>\n",
              "      <td>2.013269e+09</td>\n",
              "      <td>NaN</td>\n",
              "      <td>NaN</td>\n",
              "      <td>NaN</td>\n",
              "      <td>NaN</td>\n",
              "      <td>30745.469892</td>\n",
              "    </tr>\n",
              "    <tr>\n",
              "      <th>std</th>\n",
              "      <td>NaN</td>\n",
              "      <td>NaN</td>\n",
              "      <td>NaN</td>\n",
              "      <td>0.339963</td>\n",
              "      <td>2.909705e+08</td>\n",
              "      <td>NaN</td>\n",
              "      <td>NaN</td>\n",
              "      <td>NaN</td>\n",
              "      <td>NaN</td>\n",
              "      <td>36642.563726</td>\n",
              "    </tr>\n",
              "    <tr>\n",
              "      <th>min</th>\n",
              "      <td>NaN</td>\n",
              "      <td>NaN</td>\n",
              "      <td>NaN</td>\n",
              "      <td>2019.000000</td>\n",
              "      <td>1.928509e+09</td>\n",
              "      <td>NaN</td>\n",
              "      <td>NaN</td>\n",
              "      <td>NaN</td>\n",
              "      <td>NaN</td>\n",
              "      <td>2.400000</td>\n",
              "    </tr>\n",
              "    <tr>\n",
              "      <th>25%</th>\n",
              "      <td>NaN</td>\n",
              "      <td>NaN</td>\n",
              "      <td>NaN</td>\n",
              "      <td>2019.000000</td>\n",
              "      <td>1.929187e+09</td>\n",
              "      <td>NaN</td>\n",
              "      <td>NaN</td>\n",
              "      <td>NaN</td>\n",
              "      <td>NaN</td>\n",
              "      <td>4574.575000</td>\n",
              "    </tr>\n",
              "    <tr>\n",
              "      <th>50%</th>\n",
              "      <td>NaN</td>\n",
              "      <td>NaN</td>\n",
              "      <td>NaN</td>\n",
              "      <td>2019.000000</td>\n",
              "      <td>1.929736e+09</td>\n",
              "      <td>NaN</td>\n",
              "      <td>NaN</td>\n",
              "      <td>NaN</td>\n",
              "      <td>NaN</td>\n",
              "      <td>16936.170000</td>\n",
              "    </tr>\n",
              "    <tr>\n",
              "      <th>75%</th>\n",
              "      <td>NaN</td>\n",
              "      <td>NaN</td>\n",
              "      <td>NaN</td>\n",
              "      <td>2019.000000</td>\n",
              "      <td>1.930209e+09</td>\n",
              "      <td>NaN</td>\n",
              "      <td>NaN</td>\n",
              "      <td>NaN</td>\n",
              "      <td>NaN</td>\n",
              "      <td>45543.410500</td>\n",
              "    </tr>\n",
              "    <tr>\n",
              "      <th>max</th>\n",
              "      <td>NaN</td>\n",
              "      <td>NaN</td>\n",
              "      <td>NaN</td>\n",
              "      <td>2020.000000</td>\n",
              "      <td>9.500000e+09</td>\n",
              "      <td>NaN</td>\n",
              "      <td>NaN</td>\n",
              "      <td>NaN</td>\n",
              "      <td>NaN</td>\n",
              "      <td>668593.360000</td>\n",
              "    </tr>\n",
              "  </tbody>\n",
              "</table>\n",
              "</div>\n",
              "      <button class=\"colab-df-convert\" onclick=\"convertToInteractive('df-5edf0f4b-855d-4082-8ebc-c5ada6a60935')\"\n",
              "              title=\"Convert this dataframe to an interactive table.\"\n",
              "              style=\"display:none;\">\n",
              "        \n",
              "  <svg xmlns=\"http://www.w3.org/2000/svg\" height=\"24px\"viewBox=\"0 0 24 24\"\n",
              "       width=\"24px\">\n",
              "    <path d=\"M0 0h24v24H0V0z\" fill=\"none\"/>\n",
              "    <path d=\"M18.56 5.44l.94 2.06.94-2.06 2.06-.94-2.06-.94-.94-2.06-.94 2.06-2.06.94zm-11 1L8.5 8.5l.94-2.06 2.06-.94-2.06-.94L8.5 2.5l-.94 2.06-2.06.94zm10 10l.94 2.06.94-2.06 2.06-.94-2.06-.94-.94-2.06-.94 2.06-2.06.94z\"/><path d=\"M17.41 7.96l-1.37-1.37c-.4-.4-.92-.59-1.43-.59-.52 0-1.04.2-1.43.59L10.3 9.45l-7.72 7.72c-.78.78-.78 2.05 0 2.83L4 21.41c.39.39.9.59 1.41.59.51 0 1.02-.2 1.41-.59l7.78-7.78 2.81-2.81c.8-.78.8-2.07 0-2.86zM5.41 20L4 18.59l7.72-7.72 1.47 1.35L5.41 20z\"/>\n",
              "  </svg>\n",
              "      </button>\n",
              "      \n",
              "  <style>\n",
              "    .colab-df-container {\n",
              "      display:flex;\n",
              "      flex-wrap:wrap;\n",
              "      gap: 12px;\n",
              "    }\n",
              "\n",
              "    .colab-df-convert {\n",
              "      background-color: #E8F0FE;\n",
              "      border: none;\n",
              "      border-radius: 50%;\n",
              "      cursor: pointer;\n",
              "      display: none;\n",
              "      fill: #1967D2;\n",
              "      height: 32px;\n",
              "      padding: 0 0 0 0;\n",
              "      width: 32px;\n",
              "    }\n",
              "\n",
              "    .colab-df-convert:hover {\n",
              "      background-color: #E2EBFA;\n",
              "      box-shadow: 0px 1px 2px rgba(60, 64, 67, 0.3), 0px 1px 3px 1px rgba(60, 64, 67, 0.15);\n",
              "      fill: #174EA6;\n",
              "    }\n",
              "\n",
              "    [theme=dark] .colab-df-convert {\n",
              "      background-color: #3B4455;\n",
              "      fill: #D2E3FC;\n",
              "    }\n",
              "\n",
              "    [theme=dark] .colab-df-convert:hover {\n",
              "      background-color: #434B5C;\n",
              "      box-shadow: 0px 1px 3px 1px rgba(0, 0, 0, 0.15);\n",
              "      filter: drop-shadow(0px 1px 2px rgba(0, 0, 0, 0.3));\n",
              "      fill: #FFFFFF;\n",
              "    }\n",
              "  </style>\n",
              "\n",
              "      <script>\n",
              "        const buttonEl =\n",
              "          document.querySelector('#df-5edf0f4b-855d-4082-8ebc-c5ada6a60935 button.colab-df-convert');\n",
              "        buttonEl.style.display =\n",
              "          google.colab.kernel.accessAllowed ? 'block' : 'none';\n",
              "\n",
              "        async function convertToInteractive(key) {\n",
              "          const element = document.querySelector('#df-5edf0f4b-855d-4082-8ebc-c5ada6a60935');\n",
              "          const dataTable =\n",
              "            await google.colab.kernel.invokeFunction('convertToInteractive',\n",
              "                                                     [key], {});\n",
              "          if (!dataTable) return;\n",
              "\n",
              "          const docLinkHtml = 'Like what you see? Visit the ' +\n",
              "            '<a target=\"_blank\" href=https://colab.research.google.com/notebooks/data_table.ipynb>data table notebook</a>'\n",
              "            + ' to learn more about interactive tables.';\n",
              "          element.innerHTML = '';\n",
              "          dataTable['output_type'] = 'display_data';\n",
              "          await google.colab.output.renderOutput(dataTable, element);\n",
              "          const docLink = document.createElement('div');\n",
              "          docLink.innerHTML = docLinkHtml;\n",
              "          element.appendChild(docLink);\n",
              "        }\n",
              "      </script>\n",
              "    </div>\n",
              "  </div>\n",
              "  "
            ],
            "text/plain": [
              "       business_code cust_number  ... cust_payment_terms  converted_usd\n",
              "count          23494       23494  ...              23494   23494.000000\n",
              "unique             6        1122  ...                 66            NaN\n",
              "top             U001  0200769623  ...               NAA8            NaN\n",
              "freq           21263        5253  ...               9317            NaN\n",
              "first            NaN         NaN  ...                NaN            NaN\n",
              "last             NaN         NaN  ...                NaN            NaN\n",
              "mean             NaN         NaN  ...                NaN   30745.469892\n",
              "std              NaN         NaN  ...                NaN   36642.563726\n",
              "min              NaN         NaN  ...                NaN       2.400000\n",
              "25%              NaN         NaN  ...                NaN    4574.575000\n",
              "50%              NaN         NaN  ...                NaN   16936.170000\n",
              "75%              NaN         NaN  ...                NaN   45543.410500\n",
              "max              NaN         NaN  ...                NaN  668593.360000\n",
              "\n",
              "[13 rows x 10 columns]"
            ]
          },
          "metadata": {},
          "execution_count": 62
        }
      ],
      "source": [
        "datetime_is_numeric=True\n",
        "X_train.describe(include = 'all')"
      ]
    },
    {
      "cell_type": "markdown",
      "id": "abd7ac8b",
      "metadata": {
        "id": "abd7ac8b"
      },
      "source": [
        "#### The \"business_code\" column inside X_train, is a categorical column, so you need to perform Labelencoder on that particular column\n",
        "\n",
        "- Note - call the Label Encoder from sklearn library and use the fit() function on \"business_code\" column\n",
        "- Note - Please fill in the blanks (two) to complete this code"
      ]
    },
    {
      "cell_type": "code",
      "execution_count": 63,
      "id": "7c223545",
      "metadata": {
        "id": "7c223545",
        "colab": {
          "base_uri": "https://localhost:8080/"
        },
        "outputId": "378f2a13-c985-4d6e-cddf-bd66cd0bd33b"
      },
      "outputs": [
        {
          "output_type": "execute_result",
          "data": {
            "text/plain": [
              "LabelEncoder()"
            ]
          },
          "metadata": {},
          "execution_count": 63
        }
      ],
      "source": [
        "from sklearn.preprocessing import LabelEncoder\n",
        "business_coder = LabelEncoder()\n",
        "business_coder.fit(X_train['business_code'])"
      ]
    },
    {
      "cell_type": "markdown",
      "id": "f86f7d9c",
      "metadata": {
        "id": "f86f7d9c"
      },
      "source": [
        "#### You are expected to store the value into a new column i.e. \"business_code_enc\"\n",
        "\n",
        "- Note - For Training set you are expected to use fit_trainsform()\n",
        "- Note - For Test set you are expected to use the trainsform()\n",
        "- Note - For Validation set you are expected to use the trainsform()\n",
        "\n",
        "\n",
        "- Partial code is provided, please fill in the blanks "
      ]
    },
    {
      "cell_type": "code",
      "execution_count": 64,
      "id": "4269c307",
      "metadata": {
        "id": "4269c307"
      },
      "outputs": [],
      "source": [
        "X_train['business_code_enc'] = business_coder.fit_transform(X_train['business_code'])"
      ]
    },
    {
      "cell_type": "code",
      "execution_count": 65,
      "id": "70a53712",
      "metadata": {
        "id": "70a53712"
      },
      "outputs": [],
      "source": [
        "X_val['business_code_enc'] = business_coder.transform(X_val['business_code'])\n",
        "X_test['business_code_enc'] = business_coder.transform(X_test['business_code'])"
      ]
    },
    {
      "cell_type": "markdown",
      "id": "gdNYxTkqNfmz",
      "metadata": {
        "id": "gdNYxTkqNfmz"
      },
      "source": [
        "### Display \"business_code\" and \"business_code_enc\" together from X_train dataframe "
      ]
    },
    {
      "cell_type": "code",
      "execution_count": 66,
      "id": "1196a002",
      "metadata": {
        "id": "1196a002",
        "colab": {
          "base_uri": "https://localhost:8080/",
          "height": 424
        },
        "outputId": "5f2f3353-15f7-4090-aed8-6199252f2cc3"
      },
      "outputs": [
        {
          "output_type": "execute_result",
          "data": {
            "text/html": [
              "\n",
              "  <div id=\"df-f8f1e626-7d99-4d95-ac34-f6dd24a1c85c\">\n",
              "    <div class=\"colab-df-container\">\n",
              "      <div>\n",
              "<style scoped>\n",
              "    .dataframe tbody tr th:only-of-type {\n",
              "        vertical-align: middle;\n",
              "    }\n",
              "\n",
              "    .dataframe tbody tr th {\n",
              "        vertical-align: top;\n",
              "    }\n",
              "\n",
              "    .dataframe thead th {\n",
              "        text-align: right;\n",
              "    }\n",
              "</style>\n",
              "<table border=\"1\" class=\"dataframe\">\n",
              "  <thead>\n",
              "    <tr style=\"text-align: right;\">\n",
              "      <th></th>\n",
              "      <th>business_code</th>\n",
              "      <th>business_code_enc</th>\n",
              "    </tr>\n",
              "  </thead>\n",
              "  <tbody>\n",
              "    <tr>\n",
              "      <th>34141</th>\n",
              "      <td>U001</td>\n",
              "      <td>1</td>\n",
              "    </tr>\n",
              "    <tr>\n",
              "      <th>33036</th>\n",
              "      <td>U001</td>\n",
              "      <td>1</td>\n",
              "    </tr>\n",
              "    <tr>\n",
              "      <th>48578</th>\n",
              "      <td>CA02</td>\n",
              "      <td>0</td>\n",
              "    </tr>\n",
              "    <tr>\n",
              "      <th>29070</th>\n",
              "      <td>U001</td>\n",
              "      <td>1</td>\n",
              "    </tr>\n",
              "    <tr>\n",
              "      <th>38535</th>\n",
              "      <td>U001</td>\n",
              "      <td>1</td>\n",
              "    </tr>\n",
              "    <tr>\n",
              "      <th>...</th>\n",
              "      <td>...</td>\n",
              "      <td>...</td>\n",
              "    </tr>\n",
              "    <tr>\n",
              "      <th>42394</th>\n",
              "      <td>U001</td>\n",
              "      <td>1</td>\n",
              "    </tr>\n",
              "    <tr>\n",
              "      <th>16703</th>\n",
              "      <td>U001</td>\n",
              "      <td>1</td>\n",
              "    </tr>\n",
              "    <tr>\n",
              "      <th>28724</th>\n",
              "      <td>U001</td>\n",
              "      <td>1</td>\n",
              "    </tr>\n",
              "    <tr>\n",
              "      <th>44692</th>\n",
              "      <td>U001</td>\n",
              "      <td>1</td>\n",
              "    </tr>\n",
              "    <tr>\n",
              "      <th>6231</th>\n",
              "      <td>U001</td>\n",
              "      <td>1</td>\n",
              "    </tr>\n",
              "  </tbody>\n",
              "</table>\n",
              "<p>23494 rows × 2 columns</p>\n",
              "</div>\n",
              "      <button class=\"colab-df-convert\" onclick=\"convertToInteractive('df-f8f1e626-7d99-4d95-ac34-f6dd24a1c85c')\"\n",
              "              title=\"Convert this dataframe to an interactive table.\"\n",
              "              style=\"display:none;\">\n",
              "        \n",
              "  <svg xmlns=\"http://www.w3.org/2000/svg\" height=\"24px\"viewBox=\"0 0 24 24\"\n",
              "       width=\"24px\">\n",
              "    <path d=\"M0 0h24v24H0V0z\" fill=\"none\"/>\n",
              "    <path d=\"M18.56 5.44l.94 2.06.94-2.06 2.06-.94-2.06-.94-.94-2.06-.94 2.06-2.06.94zm-11 1L8.5 8.5l.94-2.06 2.06-.94-2.06-.94L8.5 2.5l-.94 2.06-2.06.94zm10 10l.94 2.06.94-2.06 2.06-.94-2.06-.94-.94-2.06-.94 2.06-2.06.94z\"/><path d=\"M17.41 7.96l-1.37-1.37c-.4-.4-.92-.59-1.43-.59-.52 0-1.04.2-1.43.59L10.3 9.45l-7.72 7.72c-.78.78-.78 2.05 0 2.83L4 21.41c.39.39.9.59 1.41.59.51 0 1.02-.2 1.41-.59l7.78-7.78 2.81-2.81c.8-.78.8-2.07 0-2.86zM5.41 20L4 18.59l7.72-7.72 1.47 1.35L5.41 20z\"/>\n",
              "  </svg>\n",
              "      </button>\n",
              "      \n",
              "  <style>\n",
              "    .colab-df-container {\n",
              "      display:flex;\n",
              "      flex-wrap:wrap;\n",
              "      gap: 12px;\n",
              "    }\n",
              "\n",
              "    .colab-df-convert {\n",
              "      background-color: #E8F0FE;\n",
              "      border: none;\n",
              "      border-radius: 50%;\n",
              "      cursor: pointer;\n",
              "      display: none;\n",
              "      fill: #1967D2;\n",
              "      height: 32px;\n",
              "      padding: 0 0 0 0;\n",
              "      width: 32px;\n",
              "    }\n",
              "\n",
              "    .colab-df-convert:hover {\n",
              "      background-color: #E2EBFA;\n",
              "      box-shadow: 0px 1px 2px rgba(60, 64, 67, 0.3), 0px 1px 3px 1px rgba(60, 64, 67, 0.15);\n",
              "      fill: #174EA6;\n",
              "    }\n",
              "\n",
              "    [theme=dark] .colab-df-convert {\n",
              "      background-color: #3B4455;\n",
              "      fill: #D2E3FC;\n",
              "    }\n",
              "\n",
              "    [theme=dark] .colab-df-convert:hover {\n",
              "      background-color: #434B5C;\n",
              "      box-shadow: 0px 1px 3px 1px rgba(0, 0, 0, 0.15);\n",
              "      filter: drop-shadow(0px 1px 2px rgba(0, 0, 0, 0.3));\n",
              "      fill: #FFFFFF;\n",
              "    }\n",
              "  </style>\n",
              "\n",
              "      <script>\n",
              "        const buttonEl =\n",
              "          document.querySelector('#df-f8f1e626-7d99-4d95-ac34-f6dd24a1c85c button.colab-df-convert');\n",
              "        buttonEl.style.display =\n",
              "          google.colab.kernel.accessAllowed ? 'block' : 'none';\n",
              "\n",
              "        async function convertToInteractive(key) {\n",
              "          const element = document.querySelector('#df-f8f1e626-7d99-4d95-ac34-f6dd24a1c85c');\n",
              "          const dataTable =\n",
              "            await google.colab.kernel.invokeFunction('convertToInteractive',\n",
              "                                                     [key], {});\n",
              "          if (!dataTable) return;\n",
              "\n",
              "          const docLinkHtml = 'Like what you see? Visit the ' +\n",
              "            '<a target=\"_blank\" href=https://colab.research.google.com/notebooks/data_table.ipynb>data table notebook</a>'\n",
              "            + ' to learn more about interactive tables.';\n",
              "          element.innerHTML = '';\n",
              "          dataTable['output_type'] = 'display_data';\n",
              "          await google.colab.output.renderOutput(dataTable, element);\n",
              "          const docLink = document.createElement('div');\n",
              "          docLink.innerHTML = docLinkHtml;\n",
              "          element.appendChild(docLink);\n",
              "        }\n",
              "      </script>\n",
              "    </div>\n",
              "  </div>\n",
              "  "
            ],
            "text/plain": [
              "      business_code  business_code_enc\n",
              "34141          U001                  1\n",
              "33036          U001                  1\n",
              "48578          CA02                  0\n",
              "29070          U001                  1\n",
              "38535          U001                  1\n",
              "...             ...                ...\n",
              "42394          U001                  1\n",
              "16703          U001                  1\n",
              "28724          U001                  1\n",
              "44692          U001                  1\n",
              "6231           U001                  1\n",
              "\n",
              "[23494 rows x 2 columns]"
            ]
          },
          "metadata": {},
          "execution_count": 66
        }
      ],
      "source": [
        "X_train[['business_code', 'business_code_enc']]"
      ]
    },
    {
      "cell_type": "markdown",
      "id": "11477224",
      "metadata": {
        "id": "11477224"
      },
      "source": [
        "#### Create a function called \"custom\" for dropping the columns 'business_code' from train, test and validation dataframe\n",
        "\n",
        "- Note - Fill in the blank to complete the code"
      ]
    },
    {
      "cell_type": "code",
      "execution_count": 67,
      "id": "1052868a",
      "metadata": {
        "id": "1052868a"
      },
      "outputs": [],
      "source": [
        "def custom(col ,traindf = X_train,valdf = X_val,testdf = X_test):\n",
        "    traindf.drop(col, axis =1,inplace=True)\n",
        "    valdf.drop(col,axis=1 , inplace=True)\n",
        "    testdf.drop(col,axis=1 , inplace=True)\n",
        "\n",
        "    return traindf,valdf ,testdf"
      ]
    },
    {
      "cell_type": "markdown",
      "id": "rI--ZuMbNLne",
      "metadata": {
        "id": "rI--ZuMbNLne"
      },
      "source": [
        "### Call the function by passing the column name which needed to be dropped from train, test and validation dataframes. Return updated dataframes to be stored in X_train ,X_val, X_test  \n",
        "\n",
        "- Note = Fill in the blank to complete the code "
      ]
    },
    {
      "cell_type": "code",
      "execution_count": 68,
      "id": "1a0f955c",
      "metadata": {
        "id": "1a0f955c"
      },
      "outputs": [],
      "source": [
        "X_train , X_val , X_test = custom(['business_code'])"
      ]
    },
    {
      "cell_type": "markdown",
      "id": "28b5b27e",
      "metadata": {
        "id": "28b5b27e"
      },
      "source": [
        "### Manually replacing str values with numbers, Here we are trying manually replace the customer numbers with some specific values like, 'CCCA' as 1, 'CCU' as 2 and so on. Also we are converting the datatype \"cust_number\" field to int type.\n",
        "\n",
        "- We are doing it for all the three dataframes as shown below. This is fully completed code. No need to modify anything here \n",
        "\n"
      ]
    },
    {
      "cell_type": "code",
      "execution_count": 69,
      "id": "85dd129e",
      "metadata": {
        "id": "85dd129e"
      },
      "outputs": [],
      "source": [
        "X_train['cust_number'] = X_train['cust_number'].str.replace('CCCA',\"1\").str.replace('CCU',\"2\").str.replace('CC',\"3\").astype(int)\n",
        "X_test['cust_number'] = X_test['cust_number'].str.replace('CCCA',\"1\").str.replace('CCU',\"2\").str.replace('CC',\"3\").astype(int)\n",
        "X_val['cust_number'] = X_val['cust_number'].str.replace('CCCA',\"1\").str.replace('CCU',\"2\").str.replace('CC',\"3\").astype(int)\n"
      ]
    },
    {
      "cell_type": "markdown",
      "id": "U8vA-zmdPnJ8",
      "metadata": {
        "id": "U8vA-zmdPnJ8"
      },
      "source": [
        "#### It differs from LabelEncoder by handling new classes and providing a value for it [Unknown]. Unknown will be added in fit and transform will take care of new item. It gives unknown class id.\n",
        "\n",
        "#### This will fit the encoder for all the unique values and introduce unknown value\n",
        "\n",
        "- Note - Keep this code as it is, we will be using this later on.  "
      ]
    },
    {
      "cell_type": "code",
      "execution_count": 70,
      "id": "151f48ba",
      "metadata": {
        "id": "151f48ba"
      },
      "outputs": [],
      "source": [
        "#For encoding unseen labels\n",
        "class EncoderExt(object):\n",
        "    def __init__(self):\n",
        "        self.label_encoder = LabelEncoder()\n",
        "    def fit(self, data_list):\n",
        "        self.label_encoder = self.label_encoder.fit(list(data_list) + ['Unknown'])\n",
        "        self.classes_ = self.label_encoder.classes_\n",
        "        return self\n",
        "    def transform(self, data_list):\n",
        "        new_data_list = list(data_list)\n",
        "        for unique_item in np.unique(data_list):\n",
        "            if unique_item not in self.label_encoder.classes_:\n",
        "                new_data_list = ['Unknown' if x==unique_item else x for x in new_data_list]\n",
        "        return self.label_encoder.transform(new_data_list)"
      ]
    },
    {
      "cell_type": "markdown",
      "id": "254c64e6",
      "metadata": {
        "id": "254c64e6"
      },
      "source": [
        "### Use the user define Label Encoder function called \"EncoderExt\" for the \"name_customer\" column\n",
        "\n",
        "- Note - Keep the code as it is, no need to change"
      ]
    },
    {
      "cell_type": "code",
      "execution_count": 71,
      "id": "62b17eff",
      "metadata": {
        "id": "62b17eff"
      },
      "outputs": [],
      "source": [
        "label_encoder = EncoderExt()\n",
        "label_encoder.fit(X_train['name_customer'])\n",
        "X_train['name_customer_enc']=label_encoder.transform(X_train['name_customer'])\n",
        "X_val['name_customer_enc']=label_encoder.transform(X_val['name_customer'])\n",
        "X_test['name_customer_enc']=label_encoder.transform(X_test['name_customer'])"
      ]
    },
    {
      "cell_type": "markdown",
      "id": "mK7LMoy2QZhy",
      "metadata": {
        "id": "mK7LMoy2QZhy"
      },
      "source": [
        "### As we have created the a new column \"name_customer_enc\", so now drop \"name_customer\" column from all three dataframes\n",
        "\n",
        "- Note - Keep the code as it is, no need to change"
      ]
    },
    {
      "cell_type": "code",
      "execution_count": 72,
      "id": "ef85f1c0",
      "metadata": {
        "id": "ef85f1c0"
      },
      "outputs": [],
      "source": [
        "X_train ,X_val, X_test = custom(['name_customer'])"
      ]
    },
    {
      "cell_type": "markdown",
      "id": "3aa09d22",
      "metadata": {
        "id": "3aa09d22"
      },
      "source": [
        "### Using Label Encoder for the \"cust_payment_terms\" column\n",
        "\n",
        "- Note - Keep the code as it is, no need to change"
      ]
    },
    {
      "cell_type": "code",
      "execution_count": 73,
      "id": "6f9ab642",
      "metadata": {
        "id": "6f9ab642"
      },
      "outputs": [],
      "source": [
        "label_encoder1 = EncoderExt()\n",
        "label_encoder1.fit(X_train['cust_payment_terms'])\n",
        "X_train['cust_payment_terms_enc']=label_encoder1.transform(X_train['cust_payment_terms'])\n",
        "X_val['cust_payment_terms_enc']=label_encoder1.transform(X_val['cust_payment_terms'])\n",
        "X_test['cust_payment_terms_enc']=label_encoder1.transform(X_test['cust_payment_terms'])"
      ]
    },
    {
      "cell_type": "code",
      "execution_count": 74,
      "id": "55f9a7c2",
      "metadata": {
        "id": "55f9a7c2"
      },
      "outputs": [],
      "source": [
        "X_train ,X_val, X_test = custom(['cust_payment_terms'])"
      ]
    },
    {
      "cell_type": "markdown",
      "id": "0788f42b",
      "metadata": {
        "id": "0788f42b"
      },
      "source": [
        "## Check the datatype of all the columns of Train, Test and Validation dataframes realted to X\n",
        "\n",
        "- Note - You are expected yo use dtype"
      ]
    },
    {
      "cell_type": "code",
      "execution_count": 75,
      "id": "bc79a316",
      "metadata": {
        "id": "bc79a316",
        "colab": {
          "base_uri": "https://localhost:8080/"
        },
        "outputId": "c2311b0d-8bc7-4b64-ec68-f6fc561c3357"
      },
      "outputs": [
        {
          "output_type": "execute_result",
          "data": {
            "text/plain": [
              "cust_number                        int64\n",
              "buisness_year                    float64\n",
              "doc_id                           float64\n",
              "posting_date              datetime64[ns]\n",
              "due_in_date               datetime64[ns]\n",
              "baseline_create_date      datetime64[ns]\n",
              "converted_usd                    float64\n",
              "business_code_enc                  int64\n",
              "name_customer_enc                  int64\n",
              "cust_payment_terms_enc             int64\n",
              "dtype: object"
            ]
          },
          "metadata": {},
          "execution_count": 75
        }
      ],
      "source": [
        "X_train.dtypes"
      ]
    },
    {
      "cell_type": "code",
      "execution_count": 76,
      "id": "b33242d8",
      "metadata": {
        "id": "b33242d8",
        "colab": {
          "base_uri": "https://localhost:8080/"
        },
        "outputId": "47defa5a-0224-44f6-f014-00cee78964e4"
      },
      "outputs": [
        {
          "output_type": "execute_result",
          "data": {
            "text/plain": [
              "cust_number                        int64\n",
              "buisness_year                    float64\n",
              "doc_id                           float64\n",
              "posting_date              datetime64[ns]\n",
              "due_in_date               datetime64[ns]\n",
              "baseline_create_date      datetime64[ns]\n",
              "converted_usd                    float64\n",
              "business_code_enc                  int64\n",
              "name_customer_enc                  int64\n",
              "cust_payment_terms_enc             int64\n",
              "dtype: object"
            ]
          },
          "metadata": {},
          "execution_count": 76
        }
      ],
      "source": [
        "X_test.dtypes"
      ]
    },
    {
      "cell_type": "code",
      "execution_count": 77,
      "id": "6bd4da71",
      "metadata": {
        "id": "6bd4da71",
        "colab": {
          "base_uri": "https://localhost:8080/"
        },
        "outputId": "71cf4a14-bcb5-415c-d593-f106a143e4e9"
      },
      "outputs": [
        {
          "output_type": "execute_result",
          "data": {
            "text/plain": [
              "cust_number                        int64\n",
              "buisness_year                    float64\n",
              "doc_id                           float64\n",
              "posting_date              datetime64[ns]\n",
              "due_in_date               datetime64[ns]\n",
              "baseline_create_date      datetime64[ns]\n",
              "converted_usd                    float64\n",
              "business_code_enc                  int64\n",
              "name_customer_enc                  int64\n",
              "cust_payment_terms_enc             int64\n",
              "dtype: object"
            ]
          },
          "metadata": {},
          "execution_count": 77
        }
      ],
      "source": [
        "X_val.dtypes"
      ]
    },
    {
      "cell_type": "markdown",
      "id": "LVfvuPiWPeMB",
      "metadata": {
        "id": "LVfvuPiWPeMB"
      },
      "source": [
        "### From the above output you can notice their are multiple date columns with datetime format\n",
        "\n",
        "### In order to pass it into our model, we need to convert it into float format"
      ]
    },
    {
      "cell_type": "markdown",
      "id": "9d344db9",
      "metadata": {
        "id": "9d344db9"
      },
      "source": [
        "### You need to extract day, month and year from the \"posting_date\" column \n",
        "\n",
        "1.   Extract days from \"posting_date\" column and store it into a new column \"day_of_postingdate\" for train, test and validation dataset \n",
        "2.   Extract months from \"posting_date\" column and store it into a new column \"month_of_postingdate\" for train, test and validation dataset\n",
        "3.   Extract year from \"posting_date\" column and store it into a new column \"year_of_postingdate\" for train, test and validation dataset \n",
        "\n",
        "\n",
        "\n",
        "- Note - You are supposed yo use \n",
        "\n",
        "*   dt.day\n",
        "*   dt.month\n",
        "*   dt.year\n",
        "\n",
        "\n",
        "\n",
        "\n"
      ]
    },
    {
      "cell_type": "code",
      "execution_count": 78,
      "id": "6e3cdfd6",
      "metadata": {
        "id": "6e3cdfd6"
      },
      "outputs": [],
      "source": [
        "X_train['day_of_postingdate'] = X_train['posting_date'].dt.day\n",
        "X_train['month_of_postingdate'] = X_train['posting_date'].dt.month\n",
        "X_train['year_of_postingdate'] = X_train['posting_date'].dt.year\n",
        "\n",
        "X_val['day_of_postingdate'] = X_val['posting_date'].dt.day\n",
        "X_val['month_of_postingdate'] = X_val['posting_date'].dt.month\n",
        "X_val['year_of_postingdate'] = X_val['posting_date'].dt.year\n",
        "\n",
        "\n",
        "X_test['day_of_postingdate'] = X_test['posting_date'].dt.day\n",
        "X_test['month_of_postingdate'] = X_test['posting_date'].dt.month\n",
        "X_test['year_of_postingdate'] = X_test['posting_date'].dt.year\n",
        "\n"
      ]
    },
    {
      "cell_type": "markdown",
      "id": "GyI-F853Rxa7",
      "metadata": {
        "id": "GyI-F853Rxa7"
      },
      "source": [
        "### pass the \"posting_date\" column into the Custom function for train, test and validation dataset"
      ]
    },
    {
      "cell_type": "code",
      "execution_count": 79,
      "id": "FQHtQkrnRx_V",
      "metadata": {
        "id": "FQHtQkrnRx_V"
      },
      "outputs": [],
      "source": [
        "X_train ,X_val, X_test = custom(['posting_date'])"
      ]
    },
    {
      "cell_type": "markdown",
      "id": "GMnCaEcKReSw",
      "metadata": {
        "id": "GMnCaEcKReSw"
      },
      "source": [
        "### You need to extract day, month and year from the \"baseline_create_date\" column \n",
        "\n",
        "1.   Extract days from \"baseline_create_date\" column and store it into a new column \"day_of_createdate\" for train, test and validation dataset \n",
        "2.   Extract months from \"baseline_create_date\" column and store it into a new column \"month_of_createdate\" for train, test and validation dataset\n",
        "3.   Extract year from \"baseline_create_date\" column and store it into a new column \"year_of_createdate\" for train, test and validation dataset \n",
        "\n",
        "\n",
        "\n",
        "- Note - You are supposed yo use \n",
        "\n",
        "*   dt.day\n",
        "*   dt.month\n",
        "*   dt.year\n",
        "\n",
        "\n",
        "- Note - Do as it is been shown in the previous two code boxes"
      ]
    },
    {
      "cell_type": "markdown",
      "id": "ee4d83d0",
      "metadata": {
        "id": "ee4d83d0"
      },
      "source": [
        "### Extracting Day, Month, Year for 'baseline_create_date' column"
      ]
    },
    {
      "cell_type": "code",
      "execution_count": 80,
      "id": "32b240e1",
      "metadata": {
        "id": "32b240e1"
      },
      "outputs": [],
      "source": [
        "X_train['day_of_createdate'] = X_train['baseline_create_date'].dt.day\n",
        "X_train['month_of_createdate'] = X_train['baseline_create_date'].dt.month\n",
        "X_train['year_of_createdate'] = X_train['baseline_create_date'].dt.year\n",
        "\n",
        "X_val['day_of_createdate'] = X_val['baseline_create_date'].dt.day\n",
        "X_val['month_of_createdate'] = X_val['baseline_create_date'].dt.month\n",
        "X_val['year_of_createdate'] = X_val['baseline_create_date'].dt.year\n",
        "\n",
        "\n",
        "X_test['day_of_createdate'] = X_test['baseline_create_date'].dt.day\n",
        "X_test['month_of_createdate'] = X_test['baseline_create_date'].dt.month\n",
        "X_test['year_of_createdate'] = X_test['baseline_create_date'].dt.year"
      ]
    },
    {
      "cell_type": "markdown",
      "id": "cFgwkS5rSDDs",
      "metadata": {
        "id": "cFgwkS5rSDDs"
      },
      "source": [
        "### pass the \"baseline_create_date\" column into the Custom function for train, test and validation dataset"
      ]
    },
    {
      "cell_type": "code",
      "execution_count": 81,
      "id": "RGYa2BEQSDg3",
      "metadata": {
        "id": "RGYa2BEQSDg3"
      },
      "outputs": [],
      "source": [
        "X_train ,X_val, X_test = custom(['baseline_create_date'])"
      ]
    },
    {
      "cell_type": "markdown",
      "id": "77c7a0df",
      "metadata": {
        "id": "77c7a0df"
      },
      "source": [
        "### You need to extract day, month and year from the \"due_in_date\" column \n",
        "\n",
        "1.   Extract days from \"due_in_date\" column and store it into a new column \"day_of_due\" for train, test and validation dataset \n",
        "2.   Extract months from \"due_in_date\" column and store it into a new column \"month_of_due\" for train, test and validation dataset\n",
        "3.   Extract year from \"due_in_date\" column and store it into a new column \"year_of_due\" for train, test and validation dataset \n",
        "\n",
        "\n",
        "\n",
        "- Note - You are supposed yo use \n",
        "\n",
        "*   dt.day\n",
        "*   dt.month\n",
        "*   dt.year\n",
        "\n",
        "- Note - Do as it is been shown in the previous code"
      ]
    },
    {
      "cell_type": "code",
      "execution_count": 82,
      "id": "5c745547",
      "metadata": {
        "id": "5c745547"
      },
      "outputs": [],
      "source": [
        "X_train['day_of_due'] = X_train['due_in_date'].dt.day\n",
        "X_train['month_of_due'] = X_train['due_in_date'].dt.month\n",
        "X_train['year_of_due'] = X_train['due_in_date'].dt.year\n",
        "\n",
        "X_val['day_of_due'] = X_val['due_in_date'].dt.day\n",
        "X_val['month_of_due'] = X_val['due_in_date'].dt.month\n",
        "X_val['year_of_due'] = X_val['due_in_date'].dt.year\n",
        "\n",
        "\n",
        "X_test['day_of_due'] = X_test['due_in_date'].dt.day\n",
        "X_test['month_of_due'] = X_test['due_in_date'].dt.month\n",
        "X_test['year_of_due'] = X_test['due_in_date'].dt.year\n"
      ]
    },
    {
      "cell_type": "markdown",
      "id": "FYLLzulGSvRd",
      "metadata": {
        "id": "FYLLzulGSvRd"
      },
      "source": [
        "pass the \"due_in_date\" column into the Custom function for train, test and validation dataset"
      ]
    },
    {
      "cell_type": "code",
      "execution_count": 83,
      "id": "1-s6QuY9Svrh",
      "metadata": {
        "id": "1-s6QuY9Svrh"
      },
      "outputs": [],
      "source": [
        "X_train ,X_val, X_test = custom(['due_in_date'])"
      ]
    },
    {
      "cell_type": "markdown",
      "id": "1ae5d052",
      "metadata": {
        "id": "1ae5d052"
      },
      "source": [
        "### Check for the datatypes for train, test and validation set again\n",
        "\n",
        "- Note - all the data type should be in either int64 or float64 format \n"
      ]
    },
    {
      "cell_type": "code",
      "execution_count": 84,
      "id": "aee9d828",
      "metadata": {
        "id": "aee9d828",
        "colab": {
          "base_uri": "https://localhost:8080/"
        },
        "outputId": "4fb38b17-b0df-4089-e77c-e5055f72105b"
      },
      "outputs": [
        {
          "output_type": "execute_result",
          "data": {
            "text/plain": [
              "cust_number                 int64\n",
              "buisness_year             float64\n",
              "doc_id                    float64\n",
              "converted_usd             float64\n",
              "business_code_enc           int64\n",
              "name_customer_enc           int64\n",
              "cust_payment_terms_enc      int64\n",
              "day_of_postingdate          int64\n",
              "month_of_postingdate        int64\n",
              "year_of_postingdate         int64\n",
              "day_of_createdate           int64\n",
              "month_of_createdate         int64\n",
              "year_of_createdate          int64\n",
              "day_of_due                  int64\n",
              "month_of_due                int64\n",
              "year_of_due                 int64\n",
              "dtype: object"
            ]
          },
          "metadata": {},
          "execution_count": 84
        }
      ],
      "source": [
        "X_train.dtypes"
      ]
    },
    {
      "cell_type": "code",
      "execution_count": 85,
      "id": "16498f96-d2d0-469f-94f5-48161673d5ca",
      "metadata": {
        "colab": {
          "base_uri": "https://localhost:8080/"
        },
        "id": "16498f96-d2d0-469f-94f5-48161673d5ca",
        "outputId": "87dd7e67-9514-4ef0-f9d2-8cbcae9128bf"
      },
      "outputs": [
        {
          "output_type": "execute_result",
          "data": {
            "text/plain": [
              "cust_number                 int64\n",
              "buisness_year             float64\n",
              "doc_id                    float64\n",
              "converted_usd             float64\n",
              "business_code_enc           int64\n",
              "name_customer_enc           int64\n",
              "cust_payment_terms_enc      int64\n",
              "day_of_postingdate          int64\n",
              "month_of_postingdate        int64\n",
              "year_of_postingdate         int64\n",
              "day_of_createdate           int64\n",
              "month_of_createdate         int64\n",
              "year_of_createdate          int64\n",
              "day_of_due                  int64\n",
              "month_of_due                int64\n",
              "year_of_due                 int64\n",
              "dtype: object"
            ]
          },
          "metadata": {},
          "execution_count": 85
        }
      ],
      "source": [
        "X_test.dtypes"
      ]
    },
    {
      "cell_type": "code",
      "execution_count": 86,
      "id": "d4f3b30c-e56b-4a0d-b5bb-b09100e78f6d",
      "metadata": {
        "colab": {
          "base_uri": "https://localhost:8080/"
        },
        "id": "d4f3b30c-e56b-4a0d-b5bb-b09100e78f6d",
        "outputId": "f359f0e3-beab-4ee7-97f2-3897c2d58995"
      },
      "outputs": [
        {
          "output_type": "execute_result",
          "data": {
            "text/plain": [
              "cust_number                 int64\n",
              "buisness_year             float64\n",
              "doc_id                    float64\n",
              "converted_usd             float64\n",
              "business_code_enc           int64\n",
              "name_customer_enc           int64\n",
              "cust_payment_terms_enc      int64\n",
              "day_of_postingdate          int64\n",
              "month_of_postingdate        int64\n",
              "year_of_postingdate         int64\n",
              "day_of_createdate           int64\n",
              "month_of_createdate         int64\n",
              "year_of_createdate          int64\n",
              "day_of_due                  int64\n",
              "month_of_due                int64\n",
              "year_of_due                 int64\n",
              "dtype: object"
            ]
          },
          "metadata": {},
          "execution_count": 86
        }
      ],
      "source": [
        "X_val.dtypes"
      ]
    },
    {
      "cell_type": "markdown",
      "id": "65810f55",
      "metadata": {
        "id": "65810f55"
      },
      "source": [
        "# Feature Selection"
      ]
    },
    {
      "cell_type": "markdown",
      "id": "4bb1ad9f",
      "metadata": {
        "id": "4bb1ad9f"
      },
      "source": [
        "### Filter Method\n",
        "\n",
        "- Calling the VarianceThreshold Function \n",
        "- Note - Keep the code as it is, no need to change "
      ]
    },
    {
      "cell_type": "code",
      "execution_count": 87,
      "id": "e882509f",
      "metadata": {
        "id": "e882509f",
        "colab": {
          "base_uri": "https://localhost:8080/"
        },
        "outputId": "cbdba412-5185-4fdf-93ce-5d268736b92c"
      },
      "outputs": [
        {
          "output_type": "execute_result",
          "data": {
            "text/plain": [
              "16"
            ]
          },
          "metadata": {},
          "execution_count": 87
        }
      ],
      "source": [
        "from sklearn.feature_selection import VarianceThreshold\n",
        "constant_filter = VarianceThreshold(threshold=0)\n",
        "constant_filter.fit(X_train)\n",
        "len(X_train.columns[constant_filter.get_support()])"
      ]
    },
    {
      "cell_type": "markdown",
      "id": "V9531H3jR-W2",
      "metadata": {
        "id": "V9531H3jR-W2"
      },
      "source": [
        "- Note - Keep the code as it is, no need to change \n"
      ]
    },
    {
      "cell_type": "code",
      "execution_count": 88,
      "id": "c77c12e1",
      "metadata": {
        "id": "c77c12e1",
        "colab": {
          "base_uri": "https://localhost:8080/"
        },
        "outputId": "d74e65fb-659c-4728-d662-8f7892c5128b"
      },
      "outputs": [
        {
          "output_type": "stream",
          "name": "stdout",
          "text": [
            "0\n"
          ]
        }
      ],
      "source": [
        "constant_columns = [column for column in X_train.columns\n",
        "                    if column not in X_train.columns[constant_filter.get_support()]]\n",
        "print(len(constant_columns))"
      ]
    },
    {
      "cell_type": "markdown",
      "id": "6d9b8610",
      "metadata": {
        "id": "6d9b8610"
      },
      "source": [
        "- transpose the feature matrice\n",
        "- print the number of duplicated features\n",
        "- select the duplicated features columns names\n",
        "\n",
        "- Note - Keep the code as it is, no need to change \n"
      ]
    },
    {
      "cell_type": "code",
      "execution_count": 89,
      "id": "0fb7db95",
      "metadata": {
        "id": "0fb7db95",
        "colab": {
          "base_uri": "https://localhost:8080/"
        },
        "outputId": "47090eb5-929b-468a-96b5-f8a7e321c983"
      },
      "outputs": [
        {
          "output_type": "stream",
          "name": "stdout",
          "text": [
            "0\n"
          ]
        }
      ],
      "source": [
        "x_train_T = X_train.T\n",
        "print(x_train_T.duplicated().sum())\n",
        "duplicated_columns = x_train_T[x_train_T.duplicated()].index.values"
      ]
    },
    {
      "cell_type": "markdown",
      "id": "510fa831",
      "metadata": {
        "id": "510fa831"
      },
      "source": [
        "### Filtering depending upon correlation matrix value\n",
        "- We have created a function called handling correlation which is going to return fields based on the correlation matrix value with a threshold of 0.8\n",
        "\n",
        "- Note - Keep the code as it is, no need to change "
      ]
    },
    {
      "cell_type": "code",
      "execution_count": 90,
      "id": "67731abc",
      "metadata": {
        "id": "67731abc"
      },
      "outputs": [],
      "source": [
        "def handling_correlation(X_train,threshold=0.8):\n",
        "    corr_features = set()\n",
        "    corr_matrix = X_train.corr()\n",
        "    for i in range(len(corr_matrix .columns)):\n",
        "        for j in range(i):\n",
        "            if abs(corr_matrix.iloc[i, j]) >threshold:\n",
        "                colname = corr_matrix.columns[i]\n",
        "                corr_features.add(colname)\n",
        "    return list(corr_features)"
      ]
    },
    {
      "cell_type": "markdown",
      "id": "JaE_6qVgSXl3",
      "metadata": {
        "id": "JaE_6qVgSXl3"
      },
      "source": [
        "- Note : Here we are trying to find out the relevant fields, from X_train\n",
        "- Please fill in the blanks to call handling_correlation() function with a threshold value of 0.85"
      ]
    },
    {
      "cell_type": "code",
      "execution_count": 91,
      "id": "dd91d1a2",
      "metadata": {
        "id": "dd91d1a2",
        "colab": {
          "base_uri": "https://localhost:8080/"
        },
        "outputId": "f9ad7554-aedf-4e86-db2d-2601d22e24f6"
      },
      "outputs": [
        {
          "output_type": "execute_result",
          "data": {
            "text/plain": [
              "['year_of_postingdate',\n",
              " 'year_of_due',\n",
              " 'month_of_due',\n",
              " 'year_of_createdate',\n",
              " 'month_of_createdate',\n",
              " 'day_of_createdate']"
            ]
          },
          "metadata": {},
          "execution_count": 91
        }
      ],
      "source": [
        "train=X_train.copy()\n",
        "handling_correlation(train.copy(),0.85)"
      ]
    },
    {
      "cell_type": "markdown",
      "id": "154da511",
      "metadata": {
        "id": "154da511"
      },
      "source": [
        "### Heatmap for X_train\n",
        "\n",
        "- Note - Keep the code as it is, no need to change"
      ]
    },
    {
      "cell_type": "code",
      "execution_count": 92,
      "id": "2e8f2fe4",
      "metadata": {
        "id": "2e8f2fe4",
        "colab": {
          "base_uri": "https://localhost:8080/",
          "height": 859
        },
        "outputId": "7af4bec9-8158-4e62-97d7-67256ba60ac4"
      },
      "outputs": [
        {
          "output_type": "execute_result",
          "data": {
            "text/plain": [
              "<matplotlib.axes._subplots.AxesSubplot at 0x7f7d82f58490>"
            ]
          },
          "metadata": {},
          "execution_count": 92
        },
        {
          "output_type": "display_data",
          "data": {
            "image/png": "[encoded data removed]",
            "text/plain": [
              "<Figure size 1008x864 with 2 Axes>"
            ]
          },
          "metadata": {
            "needs_background": "light"
          }
        }
      ],
      "source": [
        "colormap = plt.cm.RdBu\n",
        "plt.figure(figsize=(14,12))\n",
        "plt.title('Pearson Correlation of Features', y=1.05, size=20)\n",
        "sns.heatmap(X_train.merge(y_train , on = X_train.index ).corr(),linewidths=0.1,vmax=1.0, \n",
        "            square=True, cmap='gist_rainbow_r', linecolor='white', annot=True)"
      ]
    },
    {
      "cell_type": "markdown",
      "id": "e3b0d745",
      "metadata": {
        "id": "e3b0d745"
      },
      "source": [
        "#### Calling variance threshold for threshold value = 0.8\n",
        "\n",
        "- Note -  Fill in the blanks to call the appropriate method"
      ]
    },
    {
      "cell_type": "code",
      "execution_count": 93,
      "id": "a9b2080f",
      "metadata": {
        "id": "a9b2080f",
        "colab": {
          "base_uri": "https://localhost:8080/"
        },
        "outputId": "b4ae0bce-5f2b-408c-d23a-26f0276063a4"
      },
      "outputs": [
        {
          "output_type": "execute_result",
          "data": {
            "text/plain": [
              "VarianceThreshold(threshold=0.8)"
            ]
          },
          "metadata": {},
          "execution_count": 93
        }
      ],
      "source": [
        "from sklearn.feature_selection import VarianceThreshold\n",
        "sel = VarianceThreshold(0.8)\n",
        "sel.fit(X_train)"
      ]
    },
    {
      "cell_type": "code",
      "execution_count": 94,
      "id": "6cb8c3dc",
      "metadata": {
        "id": "6cb8c3dc",
        "colab": {
          "base_uri": "https://localhost:8080/"
        },
        "outputId": "c9dabc36-82b3-4276-b6c4-ebbe37374cea"
      },
      "outputs": [
        {
          "output_type": "execute_result",
          "data": {
            "text/plain": [
              "array([1.80262613e+15, 1.15570122e-01, 8.46602281e+16, 1.34262033e+09,\n",
              "       2.78151491e-01, 1.07090599e+06, 1.36167654e+02, 7.63697863e+01,\n",
              "       1.22242813e+01, 1.16448506e-01, 7.80017151e+01, 1.22286930e+01,\n",
              "       1.16672075e-01, 7.58034492e+01, 1.20665874e+01, 1.19360124e-01])"
            ]
          },
          "metadata": {},
          "execution_count": 94
        }
      ],
      "source": [
        "sel.variances_"
      ]
    },
    {
      "cell_type": "markdown",
      "id": "62633a84",
      "metadata": {
        "id": "62633a84"
      },
      "source": [
        "### Features columns are \n",
        "- 'year_of_createdate' \n",
        "- 'year_of_due'\n",
        "- 'day_of_createdate'\n",
        "- 'year_of_postingdate'\n",
        "- 'month_of_due'\n",
        "- 'month_of_createdate'"
      ]
    },
    {
      "cell_type": "markdown",
      "id": "651f1ad0",
      "metadata": {
        "id": "651f1ad0"
      },
      "source": [
        "# Modelling \n",
        "\n",
        "#### Now you need to compare with different machine learning models, and needs to find out the best predicted model\n",
        "\n",
        "- Linear Regression\n",
        "- Decision Tree Regression\n",
        "- Random Forest Regression\n",
        "- Support Vector Regression\n",
        "- Extreme Gradient Boost Regression "
      ]
    },
    {
      "cell_type": "markdown",
      "id": "PicEhSuUUOkt",
      "metadata": {
        "id": "PicEhSuUUOkt"
      },
      "source": [
        "### You need to make different blank list for different evaluation matrix \n",
        "\n",
        "- MSE\n",
        "- R2\n",
        "- Algorithm"
      ]
    },
    {
      "cell_type": "code",
      "execution_count": 95,
      "id": "701e12b0",
      "metadata": {
        "id": "701e12b0"
      },
      "outputs": [],
      "source": [
        "MSE_Score = []\n",
        "R2_Score = []\n",
        "Algorithm = []\n",
        "from sklearn.metrics import mean_squared_error\n",
        "from sklearn.metrics import r2_score"
      ]
    },
    {
      "cell_type": "markdown",
      "id": "29310119",
      "metadata": {
        "id": "29310119"
      },
      "source": [
        "### You need to start with the baseline model Linear Regression\n",
        "\n",
        "- Step 1 : Call the Linear Regression from sklearn library\n",
        "- Step 2 : make an object of Linear Regression \n",
        "- Step 3 : fit the X_train and y_train dataframe into the object \n",
        "- Step 4 : Predict the output by passing the X_test Dataset into predict function\n",
        "\n",
        "\n",
        "\n",
        "\n",
        "- Note - Append the Algorithm name into the algorithm list for tracking purpose"
      ]
    },
    {
      "cell_type": "code",
      "execution_count": 96,
      "id": "6bdea395",
      "metadata": {
        "id": "6bdea395"
      },
      "outputs": [],
      "source": [
        "from sklearn.linear_model import LinearRegression\n",
        "Algorithm.append('LinearRegression')\n",
        "regressor = LinearRegression()\n",
        "regressor.fit(X_train, y_train)\n",
        "predicted= regressor.predict(X_test)"
      ]
    },
    {
      "cell_type": "markdown",
      "id": "G02cpnBhXJ14",
      "metadata": {
        "id": "G02cpnBhXJ14"
      },
      "source": [
        "### Check for the \n",
        "\n",
        "- Mean Square Error\n",
        "- R Square Error \n",
        "\n",
        "for y_test and predicted dataset and store those data inside respective list for comparison "
      ]
    },
    {
      "cell_type": "code",
      "execution_count": 97,
      "id": "0f69ca19",
      "metadata": {
        "id": "0f69ca19"
      },
      "outputs": [],
      "source": [
        "MSE_Score.append(mean_squared_error(y_test, predicted))\n",
        "R2_Score.append(r2_score(y_test, predicted))"
      ]
    },
    {
      "cell_type": "markdown",
      "id": "CsmScbHjYMv1",
      "metadata": {
        "id": "CsmScbHjYMv1"
      },
      "source": [
        "### Check the same for the Validation set also "
      ]
    },
    {
      "cell_type": "code",
      "execution_count": 98,
      "id": "fe653295",
      "metadata": {
        "colab": {
          "base_uri": "https://localhost:8080/"
        },
        "id": "fe653295",
        "outputId": "52323717-59d4-465d-f863-d0782590f9b3"
      },
      "outputs": [
        {
          "output_type": "execute_result",
          "data": {
            "text/plain": [
              "563321.4769046089"
            ]
          },
          "metadata": {},
          "execution_count": 98
        }
      ],
      "source": [
        "predict_test= regressor.predict(X_val)\n",
        "mean_squared_error(y_val, predict_test, squared=False)"
      ]
    },
    {
      "cell_type": "markdown",
      "id": "LokxV2LGYUVh",
      "metadata": {
        "id": "LokxV2LGYUVh"
      },
      "source": [
        "### Display The Comparison Lists"
      ]
    },
    {
      "cell_type": "code",
      "execution_count": 99,
      "id": "9c405bd3",
      "metadata": {
        "colab": {
          "base_uri": "https://localhost:8080/"
        },
        "id": "9c405bd3",
        "outputId": "e3c36245-f809-494c-e0ab-4ec9cfec8742"
      },
      "outputs": [
        {
          "output_type": "stream",
          "name": "stdout",
          "text": [
            "['LinearRegression'],[290036502443.49835],[0.3061532222319684],"
          ]
        }
      ],
      "source": [
        "for i in Algorithm, MSE_Score, R2_Score:\n",
        "    print(i,end=',')"
      ]
    },
    {
      "cell_type": "markdown",
      "id": "b0e65c86",
      "metadata": {
        "id": "b0e65c86"
      },
      "source": [
        "### You need to start with the baseline model Support Vector Regression\n",
        "\n",
        "- Step 1 : Call the Support Vector Regressor from sklearn library\n",
        "- Step 2 : make an object of SVR\n",
        "- Step 3 : fit the X_train and y_train dataframe into the object \n",
        "- Step 4 : Predict the output by passing the X_test Dataset into predict function\n",
        "\n",
        "\n",
        "\n",
        "\n",
        "- Note - Append the Algorithm name into the algorithm list for tracking purpose"
      ]
    },
    {
      "cell_type": "code",
      "execution_count": 100,
      "id": "ccb5de08",
      "metadata": {
        "id": "ccb5de08"
      },
      "outputs": [],
      "source": [
        "from sklearn import svm\n",
        "Algorithm.append('Support Vector Regressor')\n",
        "SVM_regressor = svm.SVR()\n",
        "SVM_regressor.fit(X_train, y_train)\n",
        "SVM_predicted= regressor.predict(X_test)"
      ]
    },
    {
      "cell_type": "markdown",
      "id": "zz9kcrViYt7e",
      "metadata": {
        "id": "zz9kcrViYt7e"
      },
      "source": [
        "### Check for the \n",
        "\n",
        "- Mean Square Error\n",
        "- R Square Error \n",
        "\n",
        "for \"y_test\" and \"predicted\" dataset and store those data inside respective list for comparison "
      ]
    },
    {
      "cell_type": "code",
      "execution_count": 101,
      "id": "5bb9db76",
      "metadata": {
        "id": "5bb9db76"
      },
      "outputs": [],
      "source": [
        "MSE_Score.append(mean_squared_error(y_test, SVM_predicted))\n",
        "R2_Score.append(r2_score(y_test, SVM_predicted))"
      ]
    },
    {
      "cell_type": "markdown",
      "id": "0YAxd8N9Y0hJ",
      "metadata": {
        "id": "0YAxd8N9Y0hJ"
      },
      "source": [
        "### Check the same for the Validation set also "
      ]
    },
    {
      "cell_type": "code",
      "execution_count": 102,
      "id": "d6ee71b1",
      "metadata": {
        "id": "d6ee71b1",
        "colab": {
          "base_uri": "https://localhost:8080/"
        },
        "outputId": "65d51540-79a3-4a3c-821f-7fbe29dff9ca"
      },
      "outputs": [
        {
          "output_type": "execute_result",
          "data": {
            "text/plain": [
              "563321.4769046089"
            ]
          },
          "metadata": {},
          "execution_count": 102
        }
      ],
      "source": [
        "SVM_predict_test= regressor.predict(X_val)\n",
        "mean_squared_error(y_val, SVM_predict_test, squared=False)"
      ]
    },
    {
      "cell_type": "markdown",
      "id": "eGcqS5EcY4BI",
      "metadata": {
        "id": "eGcqS5EcY4BI"
      },
      "source": [
        "### Display The Comparison Lists"
      ]
    },
    {
      "cell_type": "code",
      "execution_count": 103,
      "id": "aa72c1ec",
      "metadata": {
        "id": "aa72c1ec",
        "colab": {
          "base_uri": "https://localhost:8080/"
        },
        "outputId": "cb9dc5bf-3d5a-4738-b5d2-f8560935dd95"
      },
      "outputs": [
        {
          "output_type": "stream",
          "name": "stdout",
          "text": [
            "['LinearRegression', 'Support Vector Regressor'],[290036502443.49835, 290036502443.49835],[0.3061532222319684, 0.3061532222319684],"
          ]
        }
      ],
      "source": [
        "for i in Algorithm, MSE_Score, R2_Score:\n",
        "    print(i,end=',')"
      ]
    },
    {
      "cell_type": "markdown",
      "id": "dad18bb3",
      "metadata": {
        "id": "dad18bb3"
      },
      "source": [
        "### Your next model would be Decision Tree Regression\n",
        "\n",
        "- Step 1 : Call the Decision Tree Regressor from sklearn library\n",
        "- Step 2 : make an object of Decision Tree\n",
        "- Step 3 : fit the X_train and y_train dataframe into the object \n",
        "- Step 4 : Predict the output by passing the X_test Dataset into predict function\n",
        "\n",
        "\n",
        "\n",
        "\n",
        "- Note - Append the Algorithm name into the algorithm list for tracking purpose"
      ]
    },
    {
      "cell_type": "code",
      "execution_count": 104,
      "id": "1b6a51eb",
      "metadata": {
        "id": "1b6a51eb"
      },
      "outputs": [],
      "source": [
        "from sklearn.tree import DecisionTreeRegressor\n",
        "Algorithm.append('Decision Tree Regressor')\n",
        "regressor = DecisionTreeRegressor(random_state=0)\n",
        "regressor.fit(X_train, y_train)\n",
        "predicted= regressor.predict(X_test)"
      ]
    },
    {
      "cell_type": "markdown",
      "id": "AOzfgfeOZo3F",
      "metadata": {
        "id": "AOzfgfeOZo3F"
      },
      "source": [
        "### Check for the \n",
        "\n",
        "- Mean Square Error\n",
        "- R Square Error \n",
        "\n",
        "for y_test and predicted dataset and store those data inside respective list for comparison "
      ]
    },
    {
      "cell_type": "code",
      "execution_count": 105,
      "id": "776e6983",
      "metadata": {
        "id": "776e6983"
      },
      "outputs": [],
      "source": [
        "MSE_Score.append(mean_squared_error(y_test, predicted))\n",
        "R2_Score.append(r2_score(y_test, predicted))"
      ]
    },
    {
      "cell_type": "markdown",
      "id": "eI6d49DQZrhW",
      "metadata": {
        "id": "eI6d49DQZrhW"
      },
      "source": [
        "### Check the same for the Validation set also "
      ]
    },
    {
      "cell_type": "code",
      "execution_count": 106,
      "id": "155fb55c",
      "metadata": {
        "id": "155fb55c",
        "colab": {
          "base_uri": "https://localhost:8080/"
        },
        "outputId": "b96efbea-9e8d-45ea-dd61-e74306742ce6"
      },
      "outputs": [
        {
          "output_type": "execute_result",
          "data": {
            "text/plain": [
              "471719.2296710678"
            ]
          },
          "metadata": {},
          "execution_count": 106
        }
      ],
      "source": [
        "predict_test= regressor.predict(X_val)\n",
        "mean_squared_error(y_val, predict_test, squared=False)"
      ]
    },
    {
      "cell_type": "markdown",
      "id": "sbGXvBLQZw5E",
      "metadata": {
        "id": "sbGXvBLQZw5E"
      },
      "source": [
        "### Display The Comparison Lists"
      ]
    },
    {
      "cell_type": "code",
      "execution_count": 107,
      "id": "1d74d515",
      "metadata": {
        "id": "1d74d515",
        "colab": {
          "base_uri": "https://localhost:8080/"
        },
        "outputId": "3316a328-c1f4-4428-9c5d-8e02462b20e0"
      },
      "outputs": [
        {
          "output_type": "stream",
          "name": "stdout",
          "text": [
            "['LinearRegression', 'Support Vector Regressor', 'Decision Tree Regressor'],[290036502443.49835, 290036502443.49835, 180331045345.3076],[0.3061532222319684, 0.3061532222319684, 0.5685987326069161],"
          ]
        }
      ],
      "source": [
        "for i in Algorithm, MSE_Score, R2_Score:\n",
        "    print(i,end=',')"
      ]
    },
    {
      "cell_type": "markdown",
      "id": "4ae9979b",
      "metadata": {
        "id": "4ae9979b"
      },
      "source": [
        "### Your next model would be Random Forest Regression\n",
        "\n",
        "- Step 1 : Call the Random Forest Regressor from sklearn library\n",
        "- Step 2 : make an object of Random Forest\n",
        "- Step 3 : fit the X_train and y_train dataframe into the object \n",
        "- Step 4 : Predict the output by passing the X_test Dataset into predict function\n",
        "\n",
        "\n",
        "\n",
        "\n",
        "- Note - Append the Algorithm name into the algorithm list for tracking purpose"
      ]
    },
    {
      "cell_type": "code",
      "execution_count": 108,
      "id": "a69e476a",
      "metadata": {
        "id": "a69e476a"
      },
      "outputs": [],
      "source": [
        "from sklearn.ensemble import RandomForestRegressor\n",
        "Algorithm.append('Random Forest Regressor')\n",
        "regressor = RandomForestRegressor()\n",
        "regressor.fit(X_train, y_train)\n",
        "predicted= regressor.predict(X_test)"
      ]
    },
    {
      "cell_type": "markdown",
      "id": "XNcEJF-6anof",
      "metadata": {
        "id": "XNcEJF-6anof"
      },
      "source": [
        "### Check for the \n",
        "\n",
        "- Mean Square Error\n",
        "- R Square Error \n",
        "\n",
        "for y_test and predicted dataset and store those data inside respective list for comparison "
      ]
    },
    {
      "cell_type": "code",
      "execution_count": 109,
      "id": "826f63f4",
      "metadata": {
        "id": "826f63f4"
      },
      "outputs": [],
      "source": [
        "MSE_Score.append(mean_squared_error(y_test, predicted))\n",
        "R2_Score.append(r2_score(y_test, predicted))"
      ]
    },
    {
      "cell_type": "markdown",
      "id": "yMbyr9V4ati1",
      "metadata": {
        "id": "yMbyr9V4ati1"
      },
      "source": [
        "### Check the same for the Validation set also "
      ]
    },
    {
      "cell_type": "code",
      "execution_count": 110,
      "id": "55b9fb54",
      "metadata": {
        "id": "55b9fb54",
        "colab": {
          "base_uri": "https://localhost:8080/"
        },
        "outputId": "b2a6bc89-55d4-474c-b7f8-c87be17a6d76"
      },
      "outputs": [
        {
          "output_type": "execute_result",
          "data": {
            "text/plain": [
              "364443.53333062463"
            ]
          },
          "metadata": {},
          "execution_count": 110
        }
      ],
      "source": [
        "predict_test= regressor.predict(X_val)\n",
        "mean_squared_error(y_val, predict_test, squared=False)"
      ]
    },
    {
      "cell_type": "markdown",
      "id": "tiBawcCsaw_Z",
      "metadata": {
        "id": "tiBawcCsaw_Z"
      },
      "source": [
        "### Display The Comparison Lists\n"
      ]
    },
    {
      "cell_type": "code",
      "execution_count": 111,
      "id": "8277c13e",
      "metadata": {
        "id": "8277c13e",
        "colab": {
          "base_uri": "https://localhost:8080/"
        },
        "outputId": "a22e1b9c-8ffc-4c05-c76e-82a0e457398f"
      },
      "outputs": [
        {
          "output_type": "stream",
          "name": "stdout",
          "text": [
            "['LinearRegression', 'Support Vector Regressor', 'Decision Tree Regressor', 'Random Forest Regressor'],[290036502443.49835, 290036502443.49835, 180331045345.3076, 114053721051.04692],[0.3061532222319684, 0.3061532222319684, 0.5685987326069161, 0.7271522509166266],"
          ]
        }
      ],
      "source": [
        "for i in Algorithm, MSE_Score, R2_Score:\n",
        "    print(i,end=',')"
      ]
    },
    {
      "cell_type": "markdown",
      "id": "e6b21881",
      "metadata": {
        "id": "e6b21881"
      },
      "source": [
        "### The last but not the least model would be XGBoost or Extreme Gradient Boost Regression\n",
        "\n",
        "- Step 1 : Call the XGBoost Regressor from xgb library\n",
        "- Step 2 : make an object of Xgboost\n",
        "- Step 3 : fit the X_train and y_train dataframe into the object \n",
        "- Step 4 : Predict the output by passing the X_test Dataset into predict function\n",
        "\n",
        "\n",
        "\n",
        "\n",
        "- Note - Append the Algorithm name into the algorithm list for tracking purpose### Extreme Gradient Boost Regression\n",
        "- Note -  No need to change the code "
      ]
    },
    {
      "cell_type": "code",
      "execution_count": 112,
      "id": "705a38ec",
      "metadata": {
        "id": "705a38ec",
        "colab": {
          "base_uri": "https://localhost:8080/"
        },
        "outputId": "f0b1e788-5b53-4966-8d22-24639d749413"
      },
      "outputs": [
        {
          "output_type": "stream",
          "name": "stdout",
          "text": [
            "[09:15:49] WARNING: /workspace/src/objective/regression_obj.cu:152: reg:linear is now deprecated in favor of reg:squarederror.\n"
          ]
        }
      ],
      "source": [
        "import xgboost as xgb\n",
        "Algorithm.append('XGB Regressor')\n",
        "regressor = xgb.XGBRegressor()\n",
        "regressor.fit(X_train, y_train)\n",
        "predicted = regressor.predict(X_test)"
      ]
    },
    {
      "cell_type": "markdown",
      "id": "ierNZkb9bQDD",
      "metadata": {
        "id": "ierNZkb9bQDD"
      },
      "source": [
        "### Check for the \n",
        "\n",
        "- Mean Square Error\n",
        "- R Square Error \n",
        "\n",
        "for y_test and predicted dataset and store those data inside respective list for comparison "
      ]
    },
    {
      "cell_type": "code",
      "execution_count": 113,
      "id": "507a9d2f",
      "metadata": {
        "id": "507a9d2f"
      },
      "outputs": [],
      "source": [
        "MSE_Score.append(mean_squared_error(y_test, predicted))\n",
        "R2_Score.append(r2_score(y_test, predicted))"
      ]
    },
    {
      "cell_type": "markdown",
      "id": "84UZ2ojsbWaH",
      "metadata": {
        "id": "84UZ2ojsbWaH"
      },
      "source": [
        "### Check the same for the Validation set also "
      ]
    },
    {
      "cell_type": "code",
      "execution_count": 114,
      "id": "e78ac250",
      "metadata": {
        "id": "e78ac250",
        "colab": {
          "base_uri": "https://localhost:8080/"
        },
        "outputId": "aab26c5d-8e3f-4ef0-d07f-4257f6149bda"
      },
      "outputs": [
        {
          "output_type": "execute_result",
          "data": {
            "text/plain": [
              "395507.51976211823"
            ]
          },
          "metadata": {},
          "execution_count": 114
        }
      ],
      "source": [
        "predict_test= regressor.predict(X_val)\n",
        "mean_squared_error(y_val, predict_test, squared=False)"
      ]
    },
    {
      "cell_type": "markdown",
      "id": "9FJFyaVbbbAH",
      "metadata": {
        "id": "9FJFyaVbbbAH"
      },
      "source": [
        "### Display The Comparison Lists\n"
      ]
    },
    {
      "cell_type": "code",
      "execution_count": 115,
      "id": "f765ba35",
      "metadata": {
        "id": "f765ba35",
        "colab": {
          "base_uri": "https://localhost:8080/"
        },
        "outputId": "212eb2f1-ca80-42f9-b71f-5bc66f27329f"
      },
      "outputs": [
        {
          "output_type": "stream",
          "name": "stdout",
          "text": [
            "['LinearRegression', 'Support Vector Regressor', 'Decision Tree Regressor', 'Random Forest Regressor', 'XGB Regressor'],[290036502443.49835, 290036502443.49835, 180331045345.3076, 114053721051.04692, 144668233154.33127],[0.3061532222319684, 0.3061532222319684, 0.5685987326069161, 0.7271522509166266, 0.6539139502308626],"
          ]
        }
      ],
      "source": [
        "for i in Algorithm, MSE_Score, R2_Score:\n",
        "    print(i,end=',')"
      ]
    },
    {
      "cell_type": "markdown",
      "id": "a71bc90f",
      "metadata": {
        "id": "a71bc90f"
      },
      "source": [
        "## You need to make the comparison list into a comparison dataframe "
      ]
    },
    {
      "cell_type": "code",
      "execution_count": 116,
      "id": "ff5159a7",
      "metadata": {
        "id": "ff5159a7",
        "colab": {
          "base_uri": "https://localhost:8080/",
          "height": 206
        },
        "outputId": "5e9d0da3-5a54-4912-b10b-881ecf41c327"
      },
      "outputs": [
        {
          "output_type": "execute_result",
          "data": {
            "text/html": [
              "\n",
              "  <div id=\"df-707d4631-c4c9-4384-882a-76c8ce81daf6\">\n",
              "    <div class=\"colab-df-container\">\n",
              "      <div>\n",
              "<style scoped>\n",
              "    .dataframe tbody tr th:only-of-type {\n",
              "        vertical-align: middle;\n",
              "    }\n",
              "\n",
              "    .dataframe tbody tr th {\n",
              "        vertical-align: top;\n",
              "    }\n",
              "\n",
              "    .dataframe thead th {\n",
              "        text-align: right;\n",
              "    }\n",
              "</style>\n",
              "<table border=\"1\" class=\"dataframe\">\n",
              "  <thead>\n",
              "    <tr style=\"text-align: right;\">\n",
              "      <th></th>\n",
              "      <th>Algorithm</th>\n",
              "      <th>MSE_Score</th>\n",
              "      <th>R2_Score</th>\n",
              "    </tr>\n",
              "  </thead>\n",
              "  <tbody>\n",
              "    <tr>\n",
              "      <th>0</th>\n",
              "      <td>LinearRegression</td>\n",
              "      <td>2.900365e+11</td>\n",
              "      <td>0.306153</td>\n",
              "    </tr>\n",
              "    <tr>\n",
              "      <th>1</th>\n",
              "      <td>Support Vector Regressor</td>\n",
              "      <td>2.900365e+11</td>\n",
              "      <td>0.306153</td>\n",
              "    </tr>\n",
              "    <tr>\n",
              "      <th>2</th>\n",
              "      <td>Decision Tree Regressor</td>\n",
              "      <td>1.803310e+11</td>\n",
              "      <td>0.568599</td>\n",
              "    </tr>\n",
              "    <tr>\n",
              "      <th>3</th>\n",
              "      <td>Random Forest Regressor</td>\n",
              "      <td>1.140537e+11</td>\n",
              "      <td>0.727152</td>\n",
              "    </tr>\n",
              "    <tr>\n",
              "      <th>4</th>\n",
              "      <td>XGB Regressor</td>\n",
              "      <td>1.446682e+11</td>\n",
              "      <td>0.653914</td>\n",
              "    </tr>\n",
              "  </tbody>\n",
              "</table>\n",
              "</div>\n",
              "      <button class=\"colab-df-convert\" onclick=\"convertToInteractive('df-707d4631-c4c9-4384-882a-76c8ce81daf6')\"\n",
              "              title=\"Convert this dataframe to an interactive table.\"\n",
              "              style=\"display:none;\">\n",
              "        \n",
              "  <svg xmlns=\"http://www.w3.org/2000/svg\" height=\"24px\"viewBox=\"0 0 24 24\"\n",
              "       width=\"24px\">\n",
              "    <path d=\"M0 0h24v24H0V0z\" fill=\"none\"/>\n",
              "    <path d=\"M18.56 5.44l.94 2.06.94-2.06 2.06-.94-2.06-.94-.94-2.06-.94 2.06-2.06.94zm-11 1L8.5 8.5l.94-2.06 2.06-.94-2.06-.94L8.5 2.5l-.94 2.06-2.06.94zm10 10l.94 2.06.94-2.06 2.06-.94-2.06-.94-.94-2.06-.94 2.06-2.06.94z\"/><path d=\"M17.41 7.96l-1.37-1.37c-.4-.4-.92-.59-1.43-.59-.52 0-1.04.2-1.43.59L10.3 9.45l-7.72 7.72c-.78.78-.78 2.05 0 2.83L4 21.41c.39.39.9.59 1.41.59.51 0 1.02-.2 1.41-.59l7.78-7.78 2.81-2.81c.8-.78.8-2.07 0-2.86zM5.41 20L4 18.59l7.72-7.72 1.47 1.35L5.41 20z\"/>\n",
              "  </svg>\n",
              "      </button>\n",
              "      \n",
              "  <style>\n",
              "    .colab-df-container {\n",
              "      display:flex;\n",
              "      flex-wrap:wrap;\n",
              "      gap: 12px;\n",
              "    }\n",
              "\n",
              "    .colab-df-convert {\n",
              "      background-color: #E8F0FE;\n",
              "      border: none;\n",
              "      border-radius: 50%;\n",
              "      cursor: pointer;\n",
              "      display: none;\n",
              "      fill: #1967D2;\n",
              "      height: 32px;\n",
              "      padding: 0 0 0 0;\n",
              "      width: 32px;\n",
              "    }\n",
              "\n",
              "    .colab-df-convert:hover {\n",
              "      background-color: #E2EBFA;\n",
              "      box-shadow: 0px 1px 2px rgba(60, 64, 67, 0.3), 0px 1px 3px 1px rgba(60, 64, 67, 0.15);\n",
              "      fill: #174EA6;\n",
              "    }\n",
              "\n",
              "    [theme=dark] .colab-df-convert {\n",
              "      background-color: #3B4455;\n",
              "      fill: #D2E3FC;\n",
              "    }\n",
              "\n",
              "    [theme=dark] .colab-df-convert:hover {\n",
              "      background-color: #434B5C;\n",
              "      box-shadow: 0px 1px 3px 1px rgba(0, 0, 0, 0.15);\n",
              "      filter: drop-shadow(0px 1px 2px rgba(0, 0, 0, 0.3));\n",
              "      fill: #FFFFFF;\n",
              "    }\n",
              "  </style>\n",
              "\n",
              "      <script>\n",
              "        const buttonEl =\n",
              "          document.querySelector('#df-707d4631-c4c9-4384-882a-76c8ce81daf6 button.colab-df-convert');\n",
              "        buttonEl.style.display =\n",
              "          google.colab.kernel.accessAllowed ? 'block' : 'none';\n",
              "\n",
              "        async function convertToInteractive(key) {\n",
              "          const element = document.querySelector('#df-707d4631-c4c9-4384-882a-76c8ce81daf6');\n",
              "          const dataTable =\n",
              "            await google.colab.kernel.invokeFunction('convertToInteractive',\n",
              "                                                     [key], {});\n",
              "          if (!dataTable) return;\n",
              "\n",
              "          const docLinkHtml = 'Like what you see? Visit the ' +\n",
              "            '<a target=\"_blank\" href=https://colab.research.google.com/notebooks/data_table.ipynb>data table notebook</a>'\n",
              "            + ' to learn more about interactive tables.';\n",
              "          element.innerHTML = '';\n",
              "          dataTable['output_type'] = 'display_data';\n",
              "          await google.colab.output.renderOutput(dataTable, element);\n",
              "          const docLink = document.createElement('div');\n",
              "          docLink.innerHTML = docLinkHtml;\n",
              "          element.appendChild(docLink);\n",
              "        }\n",
              "      </script>\n",
              "    </div>\n",
              "  </div>\n",
              "  "
            ],
            "text/plain": [
              "                  Algorithm     MSE_Score  R2_Score\n",
              "0          LinearRegression  2.900365e+11  0.306153\n",
              "1  Support Vector Regressor  2.900365e+11  0.306153\n",
              "2   Decision Tree Regressor  1.803310e+11  0.568599\n",
              "3   Random Forest Regressor  1.140537e+11  0.727152\n",
              "4             XGB Regressor  1.446682e+11  0.653914"
            ]
          },
          "metadata": {},
          "execution_count": 116
        }
      ],
      "source": [
        "percentile_list = pd.DataFrame(\n",
        "    {'Algorithm': Algorithm,\n",
        "     'MSE_Score': MSE_Score,\n",
        "     'R2_Score': R2_Score\n",
        "    })\n",
        "percentile_list"
      ]
    },
    {
      "cell_type": "markdown",
      "id": "62e61c60",
      "metadata": {
        "id": "62e61c60"
      },
      "source": [
        "## Now from the Comparison table, you need to choose the best fit model\n",
        "\n",
        "- Step 1 - Fit X_train and y_train inside the model \n",
        "- Step 2 - Predict the X_test dataset\n",
        "- Step 3 - Predict the X_val dataset\n",
        "\n",
        "\n",
        "- Note - No need to change the code"
      ]
    },
    {
      "cell_type": "code",
      "execution_count": 117,
      "id": "3e07c258",
      "metadata": {
        "id": "3e07c258",
        "colab": {
          "base_uri": "https://localhost:8080/"
        },
        "outputId": "85364226-95dd-41e3-c17d-0db280bda058"
      },
      "outputs": [
        {
          "output_type": "stream",
          "name": "stdout",
          "text": [
            "[09:15:51] WARNING: /workspace/src/objective/regression_obj.cu:152: reg:linear is now deprecated in favor of reg:squarederror.\n"
          ]
        }
      ],
      "source": [
        "regressorfinal = xgb.XGBRegressor()\n",
        "regressorfinal.fit(X_train, y_train)\n",
        "predictedfinal = regressorfinal.predict(X_test)\n",
        "predict_testfinal = regressorfinal.predict(X_val)"
      ]
    },
    {
      "cell_type": "markdown",
      "id": "8e4df6c4",
      "metadata": {
        "id": "8e4df6c4"
      },
      "source": [
        "### Calculate the Mean Square Error for test dataset\n",
        "\n",
        "- Note - No need to change the code"
      ]
    },
    {
      "cell_type": "code",
      "execution_count": 118,
      "id": "5fb466d0",
      "metadata": {
        "id": "5fb466d0",
        "colab": {
          "base_uri": "https://localhost:8080/"
        },
        "outputId": "33332567-6399-4779-e1d5-178e1e1f56d4"
      },
      "outputs": [
        {
          "output_type": "execute_result",
          "data": {
            "text/plain": [
              "380352.7746110593"
            ]
          },
          "metadata": {},
          "execution_count": 118
        }
      ],
      "source": [
        "mean_squared_error(y_test,predictedfinal,squared=False)"
      ]
    },
    {
      "cell_type": "markdown",
      "id": "ce27f87f",
      "metadata": {
        "id": "ce27f87f"
      },
      "source": [
        "### Calculate the mean Square Error for validation dataset"
      ]
    },
    {
      "cell_type": "code",
      "execution_count": 119,
      "id": "b47978ea",
      "metadata": {
        "id": "b47978ea",
        "colab": {
          "base_uri": "https://localhost:8080/"
        },
        "outputId": "1f6ed236-cab5-466a-f925-55c4f81c034d"
      },
      "outputs": [
        {
          "output_type": "execute_result",
          "data": {
            "text/plain": [
              "380352.7746110593"
            ]
          },
          "metadata": {},
          "execution_count": 119
        }
      ],
      "source": [
        "mean_squared_error(y_test,predictedfinal,squared=False)"
      ]
    },
    {
      "cell_type": "markdown",
      "id": "30014dbd",
      "metadata": {
        "id": "30014dbd"
      },
      "source": [
        "### Calculate the R2 score for test"
      ]
    },
    {
      "cell_type": "code",
      "execution_count": 120,
      "id": "8a162737",
      "metadata": {
        "id": "8a162737",
        "colab": {
          "base_uri": "https://localhost:8080/"
        },
        "outputId": "ca0b7348-c6ad-40be-cc30-c1d75a6327ba"
      },
      "outputs": [
        {
          "output_type": "execute_result",
          "data": {
            "text/plain": [
              "0.6539139502308626"
            ]
          },
          "metadata": {},
          "execution_count": 120
        }
      ],
      "source": [
        "r2_score(y_test,predictedfinal)"
      ]
    },
    {
      "cell_type": "markdown",
      "id": "1c9853b0",
      "metadata": {
        "id": "1c9853b0"
      },
      "source": [
        "### Calculate the R2 score for Validation"
      ]
    },
    {
      "cell_type": "code",
      "execution_count": 121,
      "id": "1a6dc77c",
      "metadata": {
        "id": "1a6dc77c",
        "colab": {
          "base_uri": "https://localhost:8080/"
        },
        "outputId": "7b5eee82-4565-4bb2-af60-8fa47e48aa3f"
      },
      "outputs": [
        {
          "output_type": "execute_result",
          "data": {
            "text/plain": [
              "0.6577033063501634"
            ]
          },
          "metadata": {},
          "execution_count": 121
        }
      ],
      "source": [
        "r2_score(y_val,predict_testfinal)"
      ]
    },
    {
      "cell_type": "markdown",
      "id": "499522d9",
      "metadata": {
        "id": "499522d9"
      },
      "source": [
        "### Calculate the Accuracy for train Dataset "
      ]
    },
    {
      "cell_type": "code",
      "execution_count": 122,
      "id": "7a4f1ce8",
      "metadata": {
        "id": "7a4f1ce8",
        "colab": {
          "base_uri": "https://localhost:8080/"
        },
        "outputId": "35ad563b-92d2-43dc-dbe7-4297c6ee73d0"
      },
      "outputs": [
        {
          "output_type": "execute_result",
          "data": {
            "text/plain": [
              "0.7766436095406103"
            ]
          },
          "metadata": {},
          "execution_count": 122
        }
      ],
      "source": [
        "regressorfinal.score(X_train,y_train)"
      ]
    },
    {
      "cell_type": "markdown",
      "id": "12a1c921",
      "metadata": {
        "id": "12a1c921"
      },
      "source": [
        "### Calculate the accuracy for validation"
      ]
    },
    {
      "cell_type": "code",
      "execution_count": 123,
      "id": "d2579b4f",
      "metadata": {
        "id": "d2579b4f",
        "colab": {
          "base_uri": "https://localhost:8080/"
        },
        "outputId": "4810a4a9-a976-422f-ec92-4533fb48dbd5"
      },
      "outputs": [
        {
          "output_type": "execute_result",
          "data": {
            "text/plain": [
              "0.6577033063501634"
            ]
          },
          "metadata": {},
          "execution_count": 123
        }
      ],
      "source": [
        "regressorfinal.score(X_val,y_val)"
      ]
    },
    {
      "cell_type": "markdown",
      "id": "79b82e84",
      "metadata": {
        "id": "79b82e84"
      },
      "source": [
        "### Calculate the accuracy for test"
      ]
    },
    {
      "cell_type": "code",
      "execution_count": 124,
      "id": "f09e6431",
      "metadata": {
        "id": "f09e6431",
        "colab": {
          "base_uri": "https://localhost:8080/"
        },
        "outputId": "10fbe8db-29f5-4df1-e13c-35f284b1f5fd"
      },
      "outputs": [
        {
          "output_type": "execute_result",
          "data": {
            "text/plain": [
              "0.6539139502308626"
            ]
          },
          "metadata": {},
          "execution_count": 124
        }
      ],
      "source": [
        "regressorfinal.score(X_test,y_test)"
      ]
    },
    {
      "cell_type": "markdown",
      "id": "9488a5d9",
      "metadata": {
        "id": "9488a5d9"
      },
      "source": [
        "## Specify the reason behind choosing your machine learning model \n",
        "\n",
        "- Note : Provide your answer as a text here"
      ]
    },
    {
      "cell_type": "markdown",
      "source": [
        "The reason behind  for  choosing xgb  model are as follows\n",
        "XGB consists of a number of hyper-parameters that can be tuned .It is a primary advantage over gradient boosting machines.XGBoost has an in-built capability to handle missing values.\n",
        "It provides various intuitive features, such as parallelisation, distributed computing, cache optimisation, and more. "
      ],
      "metadata": {
        "id": "iyfyor9CLAc2"
      },
      "id": "iyfyor9CLAc2"
    },
    {
      "cell_type": "markdown",
      "id": "387a6519",
      "metadata": {
        "id": "387a6519"
      },
      "source": [
        "## Now you need to pass the Nulldata dataframe into this machine learning model\n",
        "\n",
        "#### In order to pass this Nulldata dataframe into the ML model, we need to perform the following\n",
        "\n",
        "- Step 1 : Label Encoding \n",
        "- Step 2 : Day, Month and Year extraction \n",
        "- Step 3 : Change all the column data type into int64 or float64\n",
        "- Step 4 : Need to drop the useless columns "
      ]
    },
    {
      "cell_type": "markdown",
      "id": "I7JuxAkdiAdI",
      "metadata": {
        "id": "I7JuxAkdiAdI"
      },
      "source": [
        "### Display the Nulldata "
      ]
    },
    {
      "cell_type": "code",
      "execution_count": 125,
      "id": "6d6a51d2",
      "metadata": {
        "id": "6d6a51d2",
        "colab": {
          "base_uri": "https://localhost:8080/",
          "height": 479
        },
        "outputId": "6562311d-c33b-4fcb-cedb-8b9ae360a605"
      },
      "outputs": [
        {
          "output_type": "execute_result",
          "data": {
            "text/html": [
              "\n",
              "  <div id=\"df-dca65f33-618b-42b1-8112-84087478232c\">\n",
              "    <div class=\"colab-df-container\">\n",
              "      <div>\n",
              "<style scoped>\n",
              "    .dataframe tbody tr th:only-of-type {\n",
              "        vertical-align: middle;\n",
              "    }\n",
              "\n",
              "    .dataframe tbody tr th {\n",
              "        vertical-align: top;\n",
              "    }\n",
              "\n",
              "    .dataframe thead th {\n",
              "        text-align: right;\n",
              "    }\n",
              "</style>\n",
              "<table border=\"1\" class=\"dataframe\">\n",
              "  <thead>\n",
              "    <tr style=\"text-align: right;\">\n",
              "      <th></th>\n",
              "      <th>business_code</th>\n",
              "      <th>cust_number</th>\n",
              "      <th>name_customer</th>\n",
              "      <th>clear_date</th>\n",
              "      <th>buisness_year</th>\n",
              "      <th>doc_id</th>\n",
              "      <th>posting_date</th>\n",
              "      <th>due_in_date</th>\n",
              "      <th>baseline_create_date</th>\n",
              "      <th>cust_payment_terms</th>\n",
              "      <th>converted_usd</th>\n",
              "    </tr>\n",
              "  </thead>\n",
              "  <tbody>\n",
              "    <tr>\n",
              "      <th>3</th>\n",
              "      <td>CA02</td>\n",
              "      <td>0140105686</td>\n",
              "      <td>SYSC llc</td>\n",
              "      <td>NaT</td>\n",
              "      <td>2020.0</td>\n",
              "      <td>2.960623e+09</td>\n",
              "      <td>2020-03-30</td>\n",
              "      <td>2020-04-10</td>\n",
              "      <td>2020-03-31</td>\n",
              "      <td>CA10</td>\n",
              "      <td>2309.790</td>\n",
              "    </tr>\n",
              "    <tr>\n",
              "      <th>7</th>\n",
              "      <td>U001</td>\n",
              "      <td>0200744019</td>\n",
              "      <td>TARG us</td>\n",
              "      <td>NaT</td>\n",
              "      <td>2020.0</td>\n",
              "      <td>1.930659e+09</td>\n",
              "      <td>2020-03-19</td>\n",
              "      <td>2020-04-03</td>\n",
              "      <td>2020-03-19</td>\n",
              "      <td>NAA8</td>\n",
              "      <td>11173.020</td>\n",
              "    </tr>\n",
              "    <tr>\n",
              "      <th>10</th>\n",
              "      <td>U001</td>\n",
              "      <td>0200418007</td>\n",
              "      <td>AM</td>\n",
              "      <td>NaT</td>\n",
              "      <td>2020.0</td>\n",
              "      <td>1.930611e+09</td>\n",
              "      <td>2020-03-11</td>\n",
              "      <td>2020-03-26</td>\n",
              "      <td>2020-03-11</td>\n",
              "      <td>NAA8</td>\n",
              "      <td>3525.590</td>\n",
              "    </tr>\n",
              "    <tr>\n",
              "      <th>14</th>\n",
              "      <td>U001</td>\n",
              "      <td>0200739534</td>\n",
              "      <td>OK systems</td>\n",
              "      <td>NaT</td>\n",
              "      <td>2020.0</td>\n",
              "      <td>1.930788e+09</td>\n",
              "      <td>2020-04-15</td>\n",
              "      <td>2020-04-30</td>\n",
              "      <td>2020-04-15</td>\n",
              "      <td>NAA8</td>\n",
              "      <td>121105.650</td>\n",
              "    </tr>\n",
              "    <tr>\n",
              "      <th>15</th>\n",
              "      <td>U001</td>\n",
              "      <td>0200353024</td>\n",
              "      <td>DECA corporation</td>\n",
              "      <td>NaT</td>\n",
              "      <td>2020.0</td>\n",
              "      <td>1.930817e+09</td>\n",
              "      <td>2020-04-23</td>\n",
              "      <td>2020-04-26</td>\n",
              "      <td>2020-04-16</td>\n",
              "      <td>NAM2</td>\n",
              "      <td>3726.060</td>\n",
              "    </tr>\n",
              "    <tr>\n",
              "      <th>22</th>\n",
              "      <td>U001</td>\n",
              "      <td>0200744019</td>\n",
              "      <td>TARG associates</td>\n",
              "      <td>NaT</td>\n",
              "      <td>2020.0</td>\n",
              "      <td>1.930676e+09</td>\n",
              "      <td>2020-03-21</td>\n",
              "      <td>2020-04-05</td>\n",
              "      <td>2020-03-21</td>\n",
              "      <td>NAA8</td>\n",
              "      <td>5893.010</td>\n",
              "    </tr>\n",
              "    <tr>\n",
              "      <th>25</th>\n",
              "      <td>CA02</td>\n",
              "      <td>0140106408</td>\n",
              "      <td>WAL-M corp</td>\n",
              "      <td>NaT</td>\n",
              "      <td>2020.0</td>\n",
              "      <td>2.960619e+09</td>\n",
              "      <td>2020-03-06</td>\n",
              "      <td>2020-03-16</td>\n",
              "      <td>2020-03-06</td>\n",
              "      <td>CA10</td>\n",
              "      <td>64982.589</td>\n",
              "    </tr>\n",
              "    <tr>\n",
              "      <th>27</th>\n",
              "      <td>U001</td>\n",
              "      <td>0200337148</td>\n",
              "      <td>COAS llc</td>\n",
              "      <td>NaT</td>\n",
              "      <td>2020.0</td>\n",
              "      <td>1.930592e+09</td>\n",
              "      <td>2020-03-02</td>\n",
              "      <td>2020-03-17</td>\n",
              "      <td>2020-03-02</td>\n",
              "      <td>NAA8</td>\n",
              "      <td>11380.830</td>\n",
              "    </tr>\n",
              "    <tr>\n",
              "      <th>35</th>\n",
              "      <td>U001</td>\n",
              "      <td>0200794332</td>\n",
              "      <td>COST associates</td>\n",
              "      <td>NaT</td>\n",
              "      <td>2020.0</td>\n",
              "      <td>1.930731e+09</td>\n",
              "      <td>2020-04-07</td>\n",
              "      <td>2020-04-22</td>\n",
              "      <td>2020-04-07</td>\n",
              "      <td>NAAX</td>\n",
              "      <td>3863.930</td>\n",
              "    </tr>\n",
              "    <tr>\n",
              "      <th>37</th>\n",
              "      <td>U001</td>\n",
              "      <td>0200794332</td>\n",
              "      <td>COST llc</td>\n",
              "      <td>NaT</td>\n",
              "      <td>2020.0</td>\n",
              "      <td>1.930804e+09</td>\n",
              "      <td>2020-04-23</td>\n",
              "      <td>2020-05-08</td>\n",
              "      <td>2020-04-23</td>\n",
              "      <td>NAAX</td>\n",
              "      <td>74453.010</td>\n",
              "    </tr>\n",
              "  </tbody>\n",
              "</table>\n",
              "</div>\n",
              "      <button class=\"colab-df-convert\" onclick=\"convertToInteractive('df-dca65f33-618b-42b1-8112-84087478232c')\"\n",
              "              title=\"Convert this dataframe to an interactive table.\"\n",
              "              style=\"display:none;\">\n",
              "        \n",
              "  <svg xmlns=\"http://www.w3.org/2000/svg\" height=\"24px\"viewBox=\"0 0 24 24\"\n",
              "       width=\"24px\">\n",
              "    <path d=\"M0 0h24v24H0V0z\" fill=\"none\"/>\n",
              "    <path d=\"M18.56 5.44l.94 2.06.94-2.06 2.06-.94-2.06-.94-.94-2.06-.94 2.06-2.06.94zm-11 1L8.5 8.5l.94-2.06 2.06-.94-2.06-.94L8.5 2.5l-.94 2.06-2.06.94zm10 10l.94 2.06.94-2.06 2.06-.94-2.06-.94-.94-2.06-.94 2.06-2.06.94z\"/><path d=\"M17.41 7.96l-1.37-1.37c-.4-.4-.92-.59-1.43-.59-.52 0-1.04.2-1.43.59L10.3 9.45l-7.72 7.72c-.78.78-.78 2.05 0 2.83L4 21.41c.39.39.9.59 1.41.59.51 0 1.02-.2 1.41-.59l7.78-7.78 2.81-2.81c.8-.78.8-2.07 0-2.86zM5.41 20L4 18.59l7.72-7.72 1.47 1.35L5.41 20z\"/>\n",
              "  </svg>\n",
              "      </button>\n",
              "      \n",
              "  <style>\n",
              "    .colab-df-container {\n",
              "      display:flex;\n",
              "      flex-wrap:wrap;\n",
              "      gap: 12px;\n",
              "    }\n",
              "\n",
              "    .colab-df-convert {\n",
              "      background-color: #E8F0FE;\n",
              "      border: none;\n",
              "      border-radius: 50%;\n",
              "      cursor: pointer;\n",
              "      display: none;\n",
              "      fill: #1967D2;\n",
              "      height: 32px;\n",
              "      padding: 0 0 0 0;\n",
              "      width: 32px;\n",
              "    }\n",
              "\n",
              "    .colab-df-convert:hover {\n",
              "      background-color: #E2EBFA;\n",
              "      box-shadow: 0px 1px 2px rgba(60, 64, 67, 0.3), 0px 1px 3px 1px rgba(60, 64, 67, 0.15);\n",
              "      fill: #174EA6;\n",
              "    }\n",
              "\n",
              "    [theme=dark] .colab-df-convert {\n",
              "      background-color: #3B4455;\n",
              "      fill: #D2E3FC;\n",
              "    }\n",
              "\n",
              "    [theme=dark] .colab-df-convert:hover {\n",
              "      background-color: #434B5C;\n",
              "      box-shadow: 0px 1px 3px 1px rgba(0, 0, 0, 0.15);\n",
              "      filter: drop-shadow(0px 1px 2px rgba(0, 0, 0, 0.3));\n",
              "      fill: #FFFFFF;\n",
              "    }\n",
              "  </style>\n",
              "\n",
              "      <script>\n",
              "        const buttonEl =\n",
              "          document.querySelector('#df-dca65f33-618b-42b1-8112-84087478232c button.colab-df-convert');\n",
              "        buttonEl.style.display =\n",
              "          google.colab.kernel.accessAllowed ? 'block' : 'none';\n",
              "\n",
              "        async function convertToInteractive(key) {\n",
              "          const element = document.querySelector('#df-dca65f33-618b-42b1-8112-84087478232c');\n",
              "          const dataTable =\n",
              "            await google.colab.kernel.invokeFunction('convertToInteractive',\n",
              "                                                     [key], {});\n",
              "          if (!dataTable) return;\n",
              "\n",
              "          const docLinkHtml = 'Like what you see? Visit the ' +\n",
              "            '<a target=\"_blank\" href=https://colab.research.google.com/notebooks/data_table.ipynb>data table notebook</a>'\n",
              "            + ' to learn more about interactive tables.';\n",
              "          element.innerHTML = '';\n",
              "          dataTable['output_type'] = 'display_data';\n",
              "          await google.colab.output.renderOutput(dataTable, element);\n",
              "          const docLink = document.createElement('div');\n",
              "          docLink.innerHTML = docLinkHtml;\n",
              "          element.appendChild(docLink);\n",
              "        }\n",
              "      </script>\n",
              "    </div>\n",
              "  </div>\n",
              "  "
            ],
            "text/plain": [
              "   business_code cust_number  ... cust_payment_terms converted_usd\n",
              "3           CA02  0140105686  ...               CA10      2309.790\n",
              "7           U001  0200744019  ...               NAA8     11173.020\n",
              "10          U001  0200418007  ...               NAA8      3525.590\n",
              "14          U001  0200739534  ...               NAA8    121105.650\n",
              "15          U001  0200353024  ...               NAM2      3726.060\n",
              "22          U001  0200744019  ...               NAA8      5893.010\n",
              "25          CA02  0140106408  ...               CA10     64982.589\n",
              "27          U001  0200337148  ...               NAA8     11380.830\n",
              "35          U001  0200794332  ...               NAAX      3863.930\n",
              "37          U001  0200794332  ...               NAAX     74453.010\n",
              "\n",
              "[10 rows x 11 columns]"
            ]
          },
          "metadata": {},
          "execution_count": 125
        }
      ],
      "source": [
        "nulldata.head(10)"
      ]
    },
    {
      "cell_type": "markdown",
      "id": "Vamx5xqtiHCH",
      "metadata": {
        "id": "Vamx5xqtiHCH"
      },
      "source": [
        "### Check for the number of rows and columns in the nulldata"
      ]
    },
    {
      "cell_type": "code",
      "execution_count": 126,
      "id": "59de1092",
      "metadata": {
        "id": "59de1092",
        "colab": {
          "base_uri": "https://localhost:8080/"
        },
        "outputId": "79758447-c9d0-4b81-d441-3d1c50437d83"
      },
      "outputs": [
        {
          "output_type": "execute_result",
          "data": {
            "text/plain": [
              "(9681, 11)"
            ]
          },
          "metadata": {},
          "execution_count": 126
        }
      ],
      "source": [
        "nulldata.shape"
      ]
    },
    {
      "cell_type": "markdown",
      "id": "BxzHNbBjpqXL",
      "metadata": {
        "id": "BxzHNbBjpqXL"
      },
      "source": [
        "### Check the Description and Information of the nulldata "
      ]
    },
    {
      "cell_type": "code",
      "execution_count": 127,
      "id": "a6294d29",
      "metadata": {
        "id": "a6294d29",
        "colab": {
          "base_uri": "https://localhost:8080/",
          "height": 300
        },
        "outputId": "cea4871b-3dc2-4293-ec61-c96bbe22d493"
      },
      "outputs": [
        {
          "output_type": "execute_result",
          "data": {
            "text/html": [
              "\n",
              "  <div id=\"df-699951f7-c4f9-4bf5-8f16-181178a53e56\">\n",
              "    <div class=\"colab-df-container\">\n",
              "      <div>\n",
              "<style scoped>\n",
              "    .dataframe tbody tr th:only-of-type {\n",
              "        vertical-align: middle;\n",
              "    }\n",
              "\n",
              "    .dataframe tbody tr th {\n",
              "        vertical-align: top;\n",
              "    }\n",
              "\n",
              "    .dataframe thead th {\n",
              "        text-align: right;\n",
              "    }\n",
              "</style>\n",
              "<table border=\"1\" class=\"dataframe\">\n",
              "  <thead>\n",
              "    <tr style=\"text-align: right;\">\n",
              "      <th></th>\n",
              "      <th>buisness_year</th>\n",
              "      <th>doc_id</th>\n",
              "      <th>converted_usd</th>\n",
              "    </tr>\n",
              "  </thead>\n",
              "  <tbody>\n",
              "    <tr>\n",
              "      <th>count</th>\n",
              "      <td>9681.0</td>\n",
              "      <td>9.681000e+03</td>\n",
              "      <td>9681.000000</td>\n",
              "    </tr>\n",
              "    <tr>\n",
              "      <th>mean</th>\n",
              "      <td>2020.0</td>\n",
              "      <td>2.006165e+09</td>\n",
              "      <td>32065.681125</td>\n",
              "    </tr>\n",
              "    <tr>\n",
              "      <th>std</th>\n",
              "      <td>0.0</td>\n",
              "      <td>2.673629e+08</td>\n",
              "      <td>35419.613688</td>\n",
              "    </tr>\n",
              "    <tr>\n",
              "      <th>min</th>\n",
              "      <td>2020.0</td>\n",
              "      <td>1.930535e+09</td>\n",
              "      <td>0.720000</td>\n",
              "    </tr>\n",
              "    <tr>\n",
              "      <th>25%</th>\n",
              "      <td>2020.0</td>\n",
              "      <td>1.930658e+09</td>\n",
              "      <td>5607.190000</td>\n",
              "    </tr>\n",
              "    <tr>\n",
              "      <th>50%</th>\n",
              "      <td>2020.0</td>\n",
              "      <td>1.930731e+09</td>\n",
              "      <td>19024.190000</td>\n",
              "    </tr>\n",
              "    <tr>\n",
              "      <th>75%</th>\n",
              "      <td>2020.0</td>\n",
              "      <td>1.930818e+09</td>\n",
              "      <td>47752.640000</td>\n",
              "    </tr>\n",
              "    <tr>\n",
              "      <th>max</th>\n",
              "      <td>2020.0</td>\n",
              "      <td>2.960636e+09</td>\n",
              "      <td>653644.800000</td>\n",
              "    </tr>\n",
              "  </tbody>\n",
              "</table>\n",
              "</div>\n",
              "      <button class=\"colab-df-convert\" onclick=\"convertToInteractive('df-699951f7-c4f9-4bf5-8f16-181178a53e56')\"\n",
              "              title=\"Convert this dataframe to an interactive table.\"\n",
              "              style=\"display:none;\">\n",
              "        \n",
              "  <svg xmlns=\"http://www.w3.org/2000/svg\" height=\"24px\"viewBox=\"0 0 24 24\"\n",
              "       width=\"24px\">\n",
              "    <path d=\"M0 0h24v24H0V0z\" fill=\"none\"/>\n",
              "    <path d=\"M18.56 5.44l.94 2.06.94-2.06 2.06-.94-2.06-.94-.94-2.06-.94 2.06-2.06.94zm-11 1L8.5 8.5l.94-2.06 2.06-.94-2.06-.94L8.5 2.5l-.94 2.06-2.06.94zm10 10l.94 2.06.94-2.06 2.06-.94-2.06-.94-.94-2.06-.94 2.06-2.06.94z\"/><path d=\"M17.41 7.96l-1.37-1.37c-.4-.4-.92-.59-1.43-.59-.52 0-1.04.2-1.43.59L10.3 9.45l-7.72 7.72c-.78.78-.78 2.05 0 2.83L4 21.41c.39.39.9.59 1.41.59.51 0 1.02-.2 1.41-.59l7.78-7.78 2.81-2.81c.8-.78.8-2.07 0-2.86zM5.41 20L4 18.59l7.72-7.72 1.47 1.35L5.41 20z\"/>\n",
              "  </svg>\n",
              "      </button>\n",
              "      \n",
              "  <style>\n",
              "    .colab-df-container {\n",
              "      display:flex;\n",
              "      flex-wrap:wrap;\n",
              "      gap: 12px;\n",
              "    }\n",
              "\n",
              "    .colab-df-convert {\n",
              "      background-color: #E8F0FE;\n",
              "      border: none;\n",
              "      border-radius: 50%;\n",
              "      cursor: pointer;\n",
              "      display: none;\n",
              "      fill: #1967D2;\n",
              "      height: 32px;\n",
              "      padding: 0 0 0 0;\n",
              "      width: 32px;\n",
              "    }\n",
              "\n",
              "    .colab-df-convert:hover {\n",
              "      background-color: #E2EBFA;\n",
              "      box-shadow: 0px 1px 2px rgba(60, 64, 67, 0.3), 0px 1px 3px 1px rgba(60, 64, 67, 0.15);\n",
              "      fill: #174EA6;\n",
              "    }\n",
              "\n",
              "    [theme=dark] .colab-df-convert {\n",
              "      background-color: #3B4455;\n",
              "      fill: #D2E3FC;\n",
              "    }\n",
              "\n",
              "    [theme=dark] .colab-df-convert:hover {\n",
              "      background-color: #434B5C;\n",
              "      box-shadow: 0px 1px 3px 1px rgba(0, 0, 0, 0.15);\n",
              "      filter: drop-shadow(0px 1px 2px rgba(0, 0, 0, 0.3));\n",
              "      fill: #FFFFFF;\n",
              "    }\n",
              "  </style>\n",
              "\n",
              "      <script>\n",
              "        const buttonEl =\n",
              "          document.querySelector('#df-699951f7-c4f9-4bf5-8f16-181178a53e56 button.colab-df-convert');\n",
              "        buttonEl.style.display =\n",
              "          google.colab.kernel.accessAllowed ? 'block' : 'none';\n",
              "\n",
              "        async function convertToInteractive(key) {\n",
              "          const element = document.querySelector('#df-699951f7-c4f9-4bf5-8f16-181178a53e56');\n",
              "          const dataTable =\n",
              "            await google.colab.kernel.invokeFunction('convertToInteractive',\n",
              "                                                     [key], {});\n",
              "          if (!dataTable) return;\n",
              "\n",
              "          const docLinkHtml = 'Like what you see? Visit the ' +\n",
              "            '<a target=\"_blank\" href=https://colab.research.google.com/notebooks/data_table.ipynb>data table notebook</a>'\n",
              "            + ' to learn more about interactive tables.';\n",
              "          element.innerHTML = '';\n",
              "          dataTable['output_type'] = 'display_data';\n",
              "          await google.colab.output.renderOutput(dataTable, element);\n",
              "          const docLink = document.createElement('div');\n",
              "          docLink.innerHTML = docLinkHtml;\n",
              "          element.appendChild(docLink);\n",
              "        }\n",
              "      </script>\n",
              "    </div>\n",
              "  </div>\n",
              "  "
            ],
            "text/plain": [
              "       buisness_year        doc_id  converted_usd\n",
              "count         9681.0  9.681000e+03    9681.000000\n",
              "mean          2020.0  2.006165e+09   32065.681125\n",
              "std              0.0  2.673629e+08   35419.613688\n",
              "min           2020.0  1.930535e+09       0.720000\n",
              "25%           2020.0  1.930658e+09    5607.190000\n",
              "50%           2020.0  1.930731e+09   19024.190000\n",
              "75%           2020.0  1.930818e+09   47752.640000\n",
              "max           2020.0  2.960636e+09  653644.800000"
            ]
          },
          "metadata": {},
          "execution_count": 127
        }
      ],
      "source": [
        "nulldata.describe()"
      ]
    },
    {
      "cell_type": "markdown",
      "id": "fe860d94",
      "metadata": {
        "id": "fe860d94"
      },
      "source": [
        "### Storing the Nulldata into a different dataset \n",
        "# for BACKUP"
      ]
    },
    {
      "cell_type": "code",
      "execution_count": 128,
      "id": "16352034",
      "metadata": {
        "id": "16352034"
      },
      "outputs": [],
      "source": [
        "nulldata1 = nulldata.copy()"
      ]
    },
    {
      "cell_type": "markdown",
      "id": "00f35b8c",
      "metadata": {
        "id": "00f35b8c"
      },
      "source": [
        "### Call the Label Encoder for Nulldata\n",
        "\n",
        "- Note - you are expected to fit \"business_code\" as it is a categorical variable\n",
        "- Note - No need to change the code"
      ]
    },
    {
      "cell_type": "code",
      "execution_count": 129,
      "id": "baf04b17",
      "metadata": {
        "id": "baf04b17",
        "colab": {
          "base_uri": "https://localhost:8080/"
        },
        "outputId": "9f6f6f82-2ce4-4583-c75b-decac041b1c9"
      },
      "outputs": [
        {
          "output_type": "stream",
          "name": "stderr",
          "text": [
            "/usr/local/lib/python3.7/dist-packages/ipykernel_launcher.py:4: SettingWithCopyWarning: \n",
            "A value is trying to be set on a copy of a slice from a DataFrame.\n",
            "Try using .loc[row_indexer,col_indexer] = value instead\n",
            "\n",
            "See the caveats in the documentation: https://pandas.pydata.org/pandas-docs/stable/user_guide/indexing.html#returning-a-view-versus-a-copy\n",
            "  after removing the cwd from sys.path.\n"
          ]
        }
      ],
      "source": [
        "from sklearn.preprocessing import LabelEncoder\n",
        "business_codern = LabelEncoder()\n",
        "business_codern.fit(nulldata['business_code'])\n",
        "nulldata['business_code_enc'] = business_codern.transform(nulldata['business_code'])"
      ]
    },
    {
      "cell_type": "markdown",
      "id": "ZCPBK9karIR-",
      "metadata": {
        "id": "ZCPBK9karIR-"
      },
      "source": [
        "### Now you need to manually replacing str values with numbers\n",
        "- Note - No need to change the code"
      ]
    },
    {
      "cell_type": "code",
      "execution_count": 130,
      "id": "c64924be",
      "metadata": {
        "id": "c64924be",
        "colab": {
          "base_uri": "https://localhost:8080/"
        },
        "outputId": "7ec9df64-b6ef-42e0-b813-ce52bb388a41"
      },
      "outputs": [
        {
          "output_type": "stream",
          "name": "stderr",
          "text": [
            "/usr/local/lib/python3.7/dist-packages/ipykernel_launcher.py:1: SettingWithCopyWarning: \n",
            "A value is trying to be set on a copy of a slice from a DataFrame.\n",
            "Try using .loc[row_indexer,col_indexer] = value instead\n",
            "\n",
            "See the caveats in the documentation: https://pandas.pydata.org/pandas-docs/stable/user_guide/indexing.html#returning-a-view-versus-a-copy\n",
            "  \"\"\"Entry point for launching an IPython kernel.\n"
          ]
        }
      ],
      "source": [
        "nulldata['cust_number'] = nulldata['cust_number'].str.replace('CCCA',\"1\").str.replace('CCU',\"2\").str.replace('CC',\"3\").astype(int)"
      ]
    },
    {
      "cell_type": "markdown",
      "id": "9a55f5f6",
      "metadata": {
        "id": "9a55f5f6"
      },
      "source": [
        "## You need to extract day, month and year from the \"clear_date\", \"posting_date\", \"due_in_date\", \"baseline_create_date\" columns\n",
        "\n",
        "\n",
        "##### 1.   Extract day from \"clear_date\" column and store it into 'day_of_cleardate'\n",
        "##### 2.   Extract month from \"clear_date\" column and store it into 'month_of_cleardate'\n",
        "##### 3.   Extract year from \"clear_date\" column and store it into 'year_of_cleardate'\n",
        "\n",
        "\n",
        "\n",
        "##### 4.   Extract day from \"posting_date\" column and store it into 'day_of_postingdate'\n",
        "##### 5.   Extract month from \"posting_date\" column and store it into 'month_of_postingdate'\n",
        "##### 6.   Extract year from \"posting_date\" column and store it into 'year_of_postingdate'\n",
        "\n",
        "\n",
        "\n",
        "\n",
        "##### 7.   Extract day from \"due_in_date\" column and store it into 'day_of_due'\n",
        "##### 8.   Extract month from \"due_in_date\" column and store it into 'month_of_due'\n",
        "##### 9.   Extract year from \"due_in_date\" column and store it into 'year_of_due'\n",
        "\n",
        "\n",
        "\n",
        "\n",
        "##### 10.   Extract day from \"baseline_create_date\" column and store it into 'day_of_createdate'\n",
        "##### 11.   Extract month from \"baseline_create_date\" column and store it into 'month_of_createdate'\n",
        "##### 12.   Extract year from \"baseline_create_date\" column and store it into 'year_of_createdate'\n",
        "\n",
        "\n",
        "\n",
        "\n",
        "- Note - You are supposed To use - \n",
        "\n",
        "*   dt.day\n",
        "*   dt.month\n",
        "*   dt.year"
      ]
    },
    {
      "cell_type": "code",
      "execution_count": 131,
      "id": "4166fbe4",
      "metadata": {
        "id": "4166fbe4",
        "colab": {
          "base_uri": "https://localhost:8080/"
        },
        "outputId": "13b58c48-6610-4cc0-c7aa-250a63ff9340"
      },
      "outputs": [
        {
          "output_type": "stream",
          "name": "stderr",
          "text": [
            "/usr/local/lib/python3.7/dist-packages/ipykernel_launcher.py:1: SettingWithCopyWarning: \n",
            "A value is trying to be set on a copy of a slice from a DataFrame.\n",
            "Try using .loc[row_indexer,col_indexer] = value instead\n",
            "\n",
            "See the caveats in the documentation: https://pandas.pydata.org/pandas-docs/stable/user_guide/indexing.html#returning-a-view-versus-a-copy\n",
            "  \"\"\"Entry point for launching an IPython kernel.\n",
            "/usr/local/lib/python3.7/dist-packages/ipykernel_launcher.py:2: SettingWithCopyWarning: \n",
            "A value is trying to be set on a copy of a slice from a DataFrame.\n",
            "Try using .loc[row_indexer,col_indexer] = value instead\n",
            "\n",
            "See the caveats in the documentation: https://pandas.pydata.org/pandas-docs/stable/user_guide/indexing.html#returning-a-view-versus-a-copy\n",
            "  \n",
            "/usr/local/lib/python3.7/dist-packages/ipykernel_launcher.py:3: SettingWithCopyWarning: \n",
            "A value is trying to be set on a copy of a slice from a DataFrame.\n",
            "Try using .loc[row_indexer,col_indexer] = value instead\n",
            "\n",
            "See the caveats in the documentation: https://pandas.pydata.org/pandas-docs/stable/user_guide/indexing.html#returning-a-view-versus-a-copy\n",
            "  This is separate from the ipykernel package so we can avoid doing imports until\n",
            "/usr/local/lib/python3.7/dist-packages/ipykernel_launcher.py:5: SettingWithCopyWarning: \n",
            "A value is trying to be set on a copy of a slice from a DataFrame.\n",
            "Try using .loc[row_indexer,col_indexer] = value instead\n",
            "\n",
            "See the caveats in the documentation: https://pandas.pydata.org/pandas-docs/stable/user_guide/indexing.html#returning-a-view-versus-a-copy\n",
            "  \"\"\"\n",
            "/usr/local/lib/python3.7/dist-packages/ipykernel_launcher.py:6: SettingWithCopyWarning: \n",
            "A value is trying to be set on a copy of a slice from a DataFrame.\n",
            "Try using .loc[row_indexer,col_indexer] = value instead\n",
            "\n",
            "See the caveats in the documentation: https://pandas.pydata.org/pandas-docs/stable/user_guide/indexing.html#returning-a-view-versus-a-copy\n",
            "  \n",
            "/usr/local/lib/python3.7/dist-packages/ipykernel_launcher.py:7: SettingWithCopyWarning: \n",
            "A value is trying to be set on a copy of a slice from a DataFrame.\n",
            "Try using .loc[row_indexer,col_indexer] = value instead\n",
            "\n",
            "See the caveats in the documentation: https://pandas.pydata.org/pandas-docs/stable/user_guide/indexing.html#returning-a-view-versus-a-copy\n",
            "  import sys\n",
            "/usr/local/lib/python3.7/dist-packages/ipykernel_launcher.py:9: SettingWithCopyWarning: \n",
            "A value is trying to be set on a copy of a slice from a DataFrame.\n",
            "Try using .loc[row_indexer,col_indexer] = value instead\n",
            "\n",
            "See the caveats in the documentation: https://pandas.pydata.org/pandas-docs/stable/user_guide/indexing.html#returning-a-view-versus-a-copy\n",
            "  if __name__ == '__main__':\n",
            "/usr/local/lib/python3.7/dist-packages/ipykernel_launcher.py:10: SettingWithCopyWarning: \n",
            "A value is trying to be set on a copy of a slice from a DataFrame.\n",
            "Try using .loc[row_indexer,col_indexer] = value instead\n",
            "\n",
            "See the caveats in the documentation: https://pandas.pydata.org/pandas-docs/stable/user_guide/indexing.html#returning-a-view-versus-a-copy\n",
            "  # Remove the CWD from sys.path while we load stuff.\n",
            "/usr/local/lib/python3.7/dist-packages/ipykernel_launcher.py:11: SettingWithCopyWarning: \n",
            "A value is trying to be set on a copy of a slice from a DataFrame.\n",
            "Try using .loc[row_indexer,col_indexer] = value instead\n",
            "\n",
            "See the caveats in the documentation: https://pandas.pydata.org/pandas-docs/stable/user_guide/indexing.html#returning-a-view-versus-a-copy\n",
            "  # This is added back by InteractiveShellApp.init_path()\n",
            "/usr/local/lib/python3.7/dist-packages/ipykernel_launcher.py:13: SettingWithCopyWarning: \n",
            "A value is trying to be set on a copy of a slice from a DataFrame.\n",
            "Try using .loc[row_indexer,col_indexer] = value instead\n",
            "\n",
            "See the caveats in the documentation: https://pandas.pydata.org/pandas-docs/stable/user_guide/indexing.html#returning-a-view-versus-a-copy\n",
            "  del sys.path[0]\n",
            "/usr/local/lib/python3.7/dist-packages/ipykernel_launcher.py:14: SettingWithCopyWarning: \n",
            "A value is trying to be set on a copy of a slice from a DataFrame.\n",
            "Try using .loc[row_indexer,col_indexer] = value instead\n",
            "\n",
            "See the caveats in the documentation: https://pandas.pydata.org/pandas-docs/stable/user_guide/indexing.html#returning-a-view-versus-a-copy\n",
            "  \n",
            "/usr/local/lib/python3.7/dist-packages/ipykernel_launcher.py:15: SettingWithCopyWarning: \n",
            "A value is trying to be set on a copy of a slice from a DataFrame.\n",
            "Try using .loc[row_indexer,col_indexer] = value instead\n",
            "\n",
            "See the caveats in the documentation: https://pandas.pydata.org/pandas-docs/stable/user_guide/indexing.html#returning-a-view-versus-a-copy\n",
            "  from ipykernel import kernelapp as app\n"
          ]
        }
      ],
      "source": [
        "nulldata['day_of_cleardate'] = nulldata['clear_date'].dt.day\n",
        "nulldata['month_of_cleardate'] = nulldata['clear_date'].dt.month\n",
        "nulldata['year_of_cleardate'] = nulldata['clear_date'].dt.year\n",
        "\n",
        "nulldata['day_of_postingdate'] = nulldata['posting_date'].dt.day\n",
        "nulldata['month_of_postingdate'] = nulldata['posting_date'].dt.month\n",
        "nulldata['year_of_postingdate'] = nulldata['posting_date'].dt.year\n",
        "\n",
        "nulldata['day_of_due'] = nulldata['due_in_date'].dt.day\n",
        "nulldata['month_of_due'] = nulldata['due_in_date'].dt.month\n",
        "nulldata['year_of_due'] = nulldata['due_in_date'].dt.year\n",
        "\n",
        "nulldata['day_of_createdate'] = nulldata['baseline_create_date'].dt.day\n",
        "nulldata['month_of_createdate'] = nulldata['baseline_create_date'].dt.month\n",
        "nulldata['year_of_createdate'] = nulldata['baseline_create_date'].dt.year"
      ]
    },
    {
      "cell_type": "markdown",
      "id": "QeHWJYrAvOC6",
      "metadata": {
        "id": "QeHWJYrAvOC6"
      },
      "source": [
        "### Use Label Encoder1 of all the following columns - \n",
        "- 'cust_payment_terms' and store into 'cust_payment_terms_enc'\n",
        "- 'business_code' and store into 'business_code_enc'\n",
        "- 'name_customer' and store into 'name_customer_enc'\n",
        "\n",
        "Note - No need to change the code"
      ]
    },
    {
      "cell_type": "code",
      "execution_count": 132,
      "id": "bac330e2",
      "metadata": {
        "id": "bac330e2",
        "colab": {
          "base_uri": "https://localhost:8080/"
        },
        "outputId": "74c1610a-e395-4c6b-ca14-18e3b12a5e28"
      },
      "outputs": [
        {
          "output_type": "stream",
          "name": "stderr",
          "text": [
            "/usr/local/lib/python3.7/dist-packages/ipykernel_launcher.py:1: SettingWithCopyWarning: \n",
            "A value is trying to be set on a copy of a slice from a DataFrame.\n",
            "Try using .loc[row_indexer,col_indexer] = value instead\n",
            "\n",
            "See the caveats in the documentation: https://pandas.pydata.org/pandas-docs/stable/user_guide/indexing.html#returning-a-view-versus-a-copy\n",
            "  \"\"\"Entry point for launching an IPython kernel.\n",
            "/usr/local/lib/python3.7/dist-packages/ipykernel_launcher.py:2: SettingWithCopyWarning: \n",
            "A value is trying to be set on a copy of a slice from a DataFrame.\n",
            "Try using .loc[row_indexer,col_indexer] = value instead\n",
            "\n",
            "See the caveats in the documentation: https://pandas.pydata.org/pandas-docs/stable/user_guide/indexing.html#returning-a-view-versus-a-copy\n",
            "  \n",
            "/usr/local/lib/python3.7/dist-packages/ipykernel_launcher.py:3: SettingWithCopyWarning: \n",
            "A value is trying to be set on a copy of a slice from a DataFrame.\n",
            "Try using .loc[row_indexer,col_indexer] = value instead\n",
            "\n",
            "See the caveats in the documentation: https://pandas.pydata.org/pandas-docs/stable/user_guide/indexing.html#returning-a-view-versus-a-copy\n",
            "  This is separate from the ipykernel package so we can avoid doing imports until\n"
          ]
        }
      ],
      "source": [
        "nulldata['cust_payment_terms_enc']=label_encoder1.transform(nulldata['cust_payment_terms'])\n",
        "nulldata['business_code_enc']=label_encoder1.transform(nulldata['business_code'])\n",
        "nulldata['name_customer_enc']=label_encoder.transform(nulldata['name_customer'])\n"
      ]
    },
    {
      "cell_type": "markdown",
      "id": "zD9I-XqQwC28",
      "metadata": {
        "id": "zD9I-XqQwC28"
      },
      "source": [
        "### Check for the datatypes of all the columns of Nulldata"
      ]
    },
    {
      "cell_type": "code",
      "execution_count": 133,
      "id": "d4f72517",
      "metadata": {
        "id": "d4f72517",
        "colab": {
          "base_uri": "https://localhost:8080/"
        },
        "outputId": "8e6257f3-8879-4639-ee27-5c87b606a467"
      },
      "outputs": [
        {
          "output_type": "execute_result",
          "data": {
            "text/plain": [
              "business_code                     object\n",
              "cust_number                        int64\n",
              "name_customer                     object\n",
              "clear_date                datetime64[ns]\n",
              "buisness_year                    float64\n",
              "doc_id                           float64\n",
              "posting_date              datetime64[ns]\n",
              "due_in_date               datetime64[ns]\n",
              "baseline_create_date      datetime64[ns]\n",
              "cust_payment_terms                object\n",
              "converted_usd                    float64\n",
              "business_code_enc                  int64\n",
              "day_of_cleardate                 float64\n",
              "month_of_cleardate               float64\n",
              "year_of_cleardate                float64\n",
              "day_of_postingdate                 int64\n",
              "month_of_postingdate               int64\n",
              "year_of_postingdate                int64\n",
              "day_of_due                         int64\n",
              "month_of_due                       int64\n",
              "year_of_due                        int64\n",
              "day_of_createdate                  int64\n",
              "month_of_createdate                int64\n",
              "year_of_createdate                 int64\n",
              "cust_payment_terms_enc             int64\n",
              "name_customer_enc                  int64\n",
              "dtype: object"
            ]
          },
          "metadata": {},
          "execution_count": 133
        }
      ],
      "source": [
        "nulldata.dtypes"
      ]
    },
    {
      "cell_type": "markdown",
      "id": "17cd5452",
      "metadata": {
        "id": "17cd5452"
      },
      "source": [
        "### Now you need to drop all the unnecessary columns - \n",
        "\n",
        "- 'business_code'\n",
        "- \"baseline_create_date\"\n",
        "- \"due_in_date\"\n",
        "- \"posting_date\"\n",
        "- \"name_customer\"\n",
        "- \"clear_date\"\n",
        "- \"cust_payment_terms\"\n",
        "- 'day_of_cleardate'\n",
        "- \"month_of_cleardate\"\n",
        "- \"year_of_cleardate\""
      ]
    },
    {
      "cell_type": "code",
      "execution_count": 134,
      "id": "d7c82076",
      "metadata": {
        "id": "d7c82076",
        "colab": {
          "base_uri": "https://localhost:8080/"
        },
        "outputId": "5466def6-94ea-4638-8259-9e4180fd6ca9"
      },
      "outputs": [
        {
          "output_type": "stream",
          "name": "stderr",
          "text": [
            "/usr/local/lib/python3.7/dist-packages/pandas/core/frame.py:4913: SettingWithCopyWarning: \n",
            "A value is trying to be set on a copy of a slice from a DataFrame\n",
            "\n",
            "See the caveats in the documentation: https://pandas.pydata.org/pandas-docs/stable/user_guide/indexing.html#returning-a-view-versus-a-copy\n",
            "  errors=errors,\n"
          ]
        }
      ],
      "source": [
        "nulldata.drop(['business_code',\n",
        "       \"baseline_create_date\",\n",
        "       \"due_in_date\",\n",
        "       \"posting_date\",\n",
        "       \"name_customer\",\n",
        "       \"clear_date\",\n",
        "       \"cust_payment_terms\",\n",
        "              \"month_of_cleardate\",\"year_of_cleardate\",\"day_of_cleardate\"],axis=1,inplace=True)"
      ]
    },
    {
      "cell_type": "markdown",
      "id": "Q_NCr9IPweVq",
      "metadata": {
        "id": "Q_NCr9IPweVq"
      },
      "source": [
        "### Check the information of the \"nulldata\" dataframe"
      ]
    },
    {
      "cell_type": "code",
      "execution_count": 135,
      "id": "4e7ffee0",
      "metadata": {
        "id": "4e7ffee0",
        "colab": {
          "base_uri": "https://localhost:8080/"
        },
        "outputId": "e290fd95-fe9e-4adc-e57b-a08ac8c0d243"
      },
      "outputs": [
        {
          "output_type": "stream",
          "name": "stdout",
          "text": [
            "<class 'pandas.core.frame.DataFrame'>\n",
            "Int64Index: 9681 entries, 3 to 49995\n",
            "Data columns (total 16 columns):\n",
            " #   Column                  Non-Null Count  Dtype  \n",
            "---  ------                  --------------  -----  \n",
            " 0   cust_number             9681 non-null   int64  \n",
            " 1   buisness_year           9681 non-null   float64\n",
            " 2   doc_id                  9681 non-null   float64\n",
            " 3   converted_usd           9681 non-null   float64\n",
            " 4   business_code_enc       9681 non-null   int64  \n",
            " 5   day_of_postingdate      9681 non-null   int64  \n",
            " 6   month_of_postingdate    9681 non-null   int64  \n",
            " 7   year_of_postingdate     9681 non-null   int64  \n",
            " 8   day_of_due              9681 non-null   int64  \n",
            " 9   month_of_due            9681 non-null   int64  \n",
            " 10  year_of_due             9681 non-null   int64  \n",
            " 11  day_of_createdate       9681 non-null   int64  \n",
            " 12  month_of_createdate     9681 non-null   int64  \n",
            " 13  year_of_createdate      9681 non-null   int64  \n",
            " 14  cust_payment_terms_enc  9681 non-null   int64  \n",
            " 15  name_customer_enc       9681 non-null   int64  \n",
            "dtypes: float64(3), int64(13)\n",
            "memory usage: 1.3 MB\n"
          ]
        }
      ],
      "source": [
        "nulldata.info()"
      ]
    },
    {
      "cell_type": "markdown",
      "id": "-XvjhWqmwi-C",
      "metadata": {
        "id": "-XvjhWqmwi-C"
      },
      "source": [
        "### Compare \"nulldata\" with the \"X_test\" dataframe \n",
        "\n",
        "- use info() method"
      ]
    },
    {
      "cell_type": "code",
      "execution_count": 136,
      "id": "02f4b62d",
      "metadata": {
        "id": "02f4b62d",
        "colab": {
          "base_uri": "https://localhost:8080/"
        },
        "outputId": "7606bf46-5b61-4a4d-c8ae-e721b1889f54"
      },
      "outputs": [
        {
          "output_type": "stream",
          "name": "stdout",
          "text": [
            "<class 'pandas.core.frame.DataFrame'>\n",
            "Int64Index: 9681 entries, 3 to 49995\n",
            "Data columns (total 16 columns):\n",
            " #   Column                  Non-Null Count  Dtype  \n",
            "---  ------                  --------------  -----  \n",
            " 0   cust_number             9681 non-null   int64  \n",
            " 1   buisness_year           9681 non-null   float64\n",
            " 2   doc_id                  9681 non-null   float64\n",
            " 3   converted_usd           9681 non-null   float64\n",
            " 4   business_code_enc       9681 non-null   int64  \n",
            " 5   day_of_postingdate      9681 non-null   int64  \n",
            " 6   month_of_postingdate    9681 non-null   int64  \n",
            " 7   year_of_postingdate     9681 non-null   int64  \n",
            " 8   day_of_due              9681 non-null   int64  \n",
            " 9   month_of_due            9681 non-null   int64  \n",
            " 10  year_of_due             9681 non-null   int64  \n",
            " 11  day_of_createdate       9681 non-null   int64  \n",
            " 12  month_of_createdate     9681 non-null   int64  \n",
            " 13  year_of_createdate      9681 non-null   int64  \n",
            " 14  cust_payment_terms_enc  9681 non-null   int64  \n",
            " 15  name_customer_enc       9681 non-null   int64  \n",
            "dtypes: float64(3), int64(13)\n",
            "memory usage: 1.3 MB\n"
          ]
        }
      ],
      "source": [
        "nulldata.info()"
      ]
    },
    {
      "cell_type": "code",
      "execution_count": 137,
      "id": "de14b463-5010-4a16-913f-a2c5db35546a",
      "metadata": {
        "colab": {
          "base_uri": "https://localhost:8080/"
        },
        "id": "de14b463-5010-4a16-913f-a2c5db35546a",
        "outputId": "5fa05254-dee9-4ebb-9ea3-1d9097329c98"
      },
      "outputs": [
        {
          "output_type": "stream",
          "name": "stdout",
          "text": [
            "<class 'pandas.core.frame.DataFrame'>\n",
            "Int64Index: 7832 entries, 2035 to 9934\n",
            "Data columns (total 16 columns):\n",
            " #   Column                  Non-Null Count  Dtype  \n",
            "---  ------                  --------------  -----  \n",
            " 0   cust_number             7832 non-null   int64  \n",
            " 1   buisness_year           7832 non-null   float64\n",
            " 2   doc_id                  7832 non-null   float64\n",
            " 3   converted_usd           7832 non-null   float64\n",
            " 4   business_code_enc       7832 non-null   int64  \n",
            " 5   name_customer_enc       7832 non-null   int64  \n",
            " 6   cust_payment_terms_enc  7832 non-null   int64  \n",
            " 7   day_of_postingdate      7832 non-null   int64  \n",
            " 8   month_of_postingdate    7832 non-null   int64  \n",
            " 9   year_of_postingdate     7832 non-null   int64  \n",
            " 10  day_of_createdate       7832 non-null   int64  \n",
            " 11  month_of_createdate     7832 non-null   int64  \n",
            " 12  year_of_createdate      7832 non-null   int64  \n",
            " 13  day_of_due              7832 non-null   int64  \n",
            " 14  month_of_due            7832 non-null   int64  \n",
            " 15  year_of_due             7832 non-null   int64  \n",
            "dtypes: float64(3), int64(13)\n",
            "memory usage: 1.0 MB\n"
          ]
        }
      ],
      "source": [
        "X_test.info()"
      ]
    },
    {
      "cell_type": "markdown",
      "id": "Us3ey-9zwqjq",
      "metadata": {
        "id": "Us3ey-9zwqjq"
      },
      "source": [
        "### You must have noticed that there is a mismatch in the column sequence while compairing the dataframes\n",
        "\n",
        "- Note - In order to fed into the machine learning model, you need to edit the sequence of \"nulldata\", similar to the \"X_test\" dataframe"
      ]
    },
    {
      "cell_type": "markdown",
      "id": "vduVNt1kxPW-",
      "metadata": {
        "id": "vduVNt1kxPW-"
      },
      "source": [
        "- Display all the columns of the X_test dataframe \n",
        "- Display all the columns of the Nulldata dataframe \n",
        "- Store the Nulldata with new sequence into a new dataframe \n",
        "\n",
        "\n",
        "- Note - The code is given below, no need to change "
      ]
    },
    {
      "cell_type": "code",
      "execution_count": 138,
      "id": "6729353e",
      "metadata": {
        "id": "6729353e",
        "colab": {
          "base_uri": "https://localhost:8080/"
        },
        "outputId": "9e4b59d6-39af-409c-fbfc-b7e7c0f31cf1"
      },
      "outputs": [
        {
          "output_type": "execute_result",
          "data": {
            "text/plain": [
              "Index(['cust_number', 'buisness_year', 'doc_id', 'converted_usd',\n",
              "       'business_code_enc', 'name_customer_enc', 'cust_payment_terms_enc',\n",
              "       'day_of_postingdate', 'month_of_postingdate', 'year_of_postingdate',\n",
              "       'day_of_createdate', 'month_of_createdate', 'year_of_createdate',\n",
              "       'day_of_due', 'month_of_due', 'year_of_due'],\n",
              "      dtype='object')"
            ]
          },
          "metadata": {},
          "execution_count": 138
        }
      ],
      "source": [
        "X_test.columns"
      ]
    },
    {
      "cell_type": "code",
      "execution_count": 139,
      "id": "47bd9c5e",
      "metadata": {
        "id": "47bd9c5e",
        "colab": {
          "base_uri": "https://localhost:8080/"
        },
        "outputId": "f3353361-2eb2-4380-d478-30be9e0f2be1"
      },
      "outputs": [
        {
          "output_type": "execute_result",
          "data": {
            "text/plain": [
              "Index(['cust_number', 'buisness_year', 'doc_id', 'converted_usd',\n",
              "       'business_code_enc', 'day_of_postingdate', 'month_of_postingdate',\n",
              "       'year_of_postingdate', 'day_of_due', 'month_of_due', 'year_of_due',\n",
              "       'day_of_createdate', 'month_of_createdate', 'year_of_createdate',\n",
              "       'cust_payment_terms_enc', 'name_customer_enc'],\n",
              "      dtype='object')"
            ]
          },
          "metadata": {},
          "execution_count": 139
        }
      ],
      "source": [
        "nulldata.columns"
      ]
    },
    {
      "cell_type": "code",
      "execution_count": 140,
      "id": "aa5a2103",
      "metadata": {
        "id": "aa5a2103"
      },
      "outputs": [],
      "source": [
        "nulldata2=nulldata[['cust_number', 'buisness_year', 'doc_id', 'converted_usd',\n",
        "       'business_code_enc', 'name_customer_enc', 'cust_payment_terms_enc',\n",
        "       'day_of_postingdate', 'month_of_postingdate', 'year_of_postingdate',\n",
        "       'day_of_createdate', 'month_of_createdate', 'year_of_createdate',\n",
        "       'day_of_due', 'month_of_due', 'year_of_due']]"
      ]
    },
    {
      "cell_type": "markdown",
      "id": "1dc8b021",
      "metadata": {
        "id": "1dc8b021"
      },
      "source": [
        "### Display the Final Dataset"
      ]
    },
    {
      "cell_type": "code",
      "execution_count": 141,
      "id": "2f39785a",
      "metadata": {
        "id": "2f39785a",
        "colab": {
          "base_uri": "https://localhost:8080/",
          "height": 270
        },
        "outputId": "eb77080a-7568-4f0a-dd88-66abe3f56777"
      },
      "outputs": [
        {
          "output_type": "execute_result",
          "data": {
            "text/html": [
              "\n",
              "  <div id=\"df-284f13c1-0dc3-4c0c-84fa-fbf5d03edd3b\">\n",
              "    <div class=\"colab-df-container\">\n",
              "      <div>\n",
              "<style scoped>\n",
              "    .dataframe tbody tr th:only-of-type {\n",
              "        vertical-align: middle;\n",
              "    }\n",
              "\n",
              "    .dataframe tbody tr th {\n",
              "        vertical-align: top;\n",
              "    }\n",
              "\n",
              "    .dataframe thead th {\n",
              "        text-align: right;\n",
              "    }\n",
              "</style>\n",
              "<table border=\"1\" class=\"dataframe\">\n",
              "  <thead>\n",
              "    <tr style=\"text-align: right;\">\n",
              "      <th></th>\n",
              "      <th>cust_number</th>\n",
              "      <th>buisness_year</th>\n",
              "      <th>doc_id</th>\n",
              "      <th>converted_usd</th>\n",
              "      <th>business_code_enc</th>\n",
              "      <th>name_customer_enc</th>\n",
              "      <th>cust_payment_terms_enc</th>\n",
              "      <th>day_of_postingdate</th>\n",
              "      <th>month_of_postingdate</th>\n",
              "      <th>year_of_postingdate</th>\n",
              "      <th>day_of_createdate</th>\n",
              "      <th>month_of_createdate</th>\n",
              "      <th>year_of_createdate</th>\n",
              "      <th>day_of_due</th>\n",
              "      <th>month_of_due</th>\n",
              "      <th>year_of_due</th>\n",
              "    </tr>\n",
              "  </thead>\n",
              "  <tbody>\n",
              "    <tr>\n",
              "      <th>3</th>\n",
              "      <td>140105686</td>\n",
              "      <td>2020.0</td>\n",
              "      <td>2.960623e+09</td>\n",
              "      <td>2309.79</td>\n",
              "      <td>66</td>\n",
              "      <td>2706</td>\n",
              "      <td>5</td>\n",
              "      <td>30</td>\n",
              "      <td>3</td>\n",
              "      <td>2020</td>\n",
              "      <td>31</td>\n",
              "      <td>3</td>\n",
              "      <td>2020</td>\n",
              "      <td>10</td>\n",
              "      <td>4</td>\n",
              "      <td>2020</td>\n",
              "    </tr>\n",
              "    <tr>\n",
              "      <th>7</th>\n",
              "      <td>200744019</td>\n",
              "      <td>2020.0</td>\n",
              "      <td>1.930659e+09</td>\n",
              "      <td>11173.02</td>\n",
              "      <td>66</td>\n",
              "      <td>2791</td>\n",
              "      <td>21</td>\n",
              "      <td>19</td>\n",
              "      <td>3</td>\n",
              "      <td>2020</td>\n",
              "      <td>19</td>\n",
              "      <td>3</td>\n",
              "      <td>2020</td>\n",
              "      <td>3</td>\n",
              "      <td>4</td>\n",
              "      <td>2020</td>\n",
              "    </tr>\n",
              "    <tr>\n",
              "      <th>10</th>\n",
              "      <td>200418007</td>\n",
              "      <td>2020.0</td>\n",
              "      <td>1.930611e+09</td>\n",
              "      <td>3525.59</td>\n",
              "      <td>66</td>\n",
              "      <td>88</td>\n",
              "      <td>21</td>\n",
              "      <td>11</td>\n",
              "      <td>3</td>\n",
              "      <td>2020</td>\n",
              "      <td>11</td>\n",
              "      <td>3</td>\n",
              "      <td>2020</td>\n",
              "      <td>26</td>\n",
              "      <td>3</td>\n",
              "      <td>2020</td>\n",
              "    </tr>\n",
              "    <tr>\n",
              "      <th>14</th>\n",
              "      <td>200739534</td>\n",
              "      <td>2020.0</td>\n",
              "      <td>1.930788e+09</td>\n",
              "      <td>121105.65</td>\n",
              "      <td>66</td>\n",
              "      <td>2012</td>\n",
              "      <td>21</td>\n",
              "      <td>15</td>\n",
              "      <td>4</td>\n",
              "      <td>2020</td>\n",
              "      <td>15</td>\n",
              "      <td>4</td>\n",
              "      <td>2020</td>\n",
              "      <td>30</td>\n",
              "      <td>4</td>\n",
              "      <td>2020</td>\n",
              "    </tr>\n",
              "    <tr>\n",
              "      <th>15</th>\n",
              "      <td>200353024</td>\n",
              "      <td>2020.0</td>\n",
              "      <td>1.930817e+09</td>\n",
              "      <td>3726.06</td>\n",
              "      <td>66</td>\n",
              "      <td>721</td>\n",
              "      <td>37</td>\n",
              "      <td>23</td>\n",
              "      <td>4</td>\n",
              "      <td>2020</td>\n",
              "      <td>16</td>\n",
              "      <td>4</td>\n",
              "      <td>2020</td>\n",
              "      <td>26</td>\n",
              "      <td>4</td>\n",
              "      <td>2020</td>\n",
              "    </tr>\n",
              "  </tbody>\n",
              "</table>\n",
              "</div>\n",
              "      <button class=\"colab-df-convert\" onclick=\"convertToInteractive('df-284f13c1-0dc3-4c0c-84fa-fbf5d03edd3b')\"\n",
              "              title=\"Convert this dataframe to an interactive table.\"\n",
              "              style=\"display:none;\">\n",
              "        \n",
              "  <svg xmlns=\"http://www.w3.org/2000/svg\" height=\"24px\"viewBox=\"0 0 24 24\"\n",
              "       width=\"24px\">\n",
              "    <path d=\"M0 0h24v24H0V0z\" fill=\"none\"/>\n",
              "    <path d=\"M18.56 5.44l.94 2.06.94-2.06 2.06-.94-2.06-.94-.94-2.06-.94 2.06-2.06.94zm-11 1L8.5 8.5l.94-2.06 2.06-.94-2.06-.94L8.5 2.5l-.94 2.06-2.06.94zm10 10l.94 2.06.94-2.06 2.06-.94-2.06-.94-.94-2.06-.94 2.06-2.06.94z\"/><path d=\"M17.41 7.96l-1.37-1.37c-.4-.4-.92-.59-1.43-.59-.52 0-1.04.2-1.43.59L10.3 9.45l-7.72 7.72c-.78.78-.78 2.05 0 2.83L4 21.41c.39.39.9.59 1.41.59.51 0 1.02-.2 1.41-.59l7.78-7.78 2.81-2.81c.8-.78.8-2.07 0-2.86zM5.41 20L4 18.59l7.72-7.72 1.47 1.35L5.41 20z\"/>\n",
              "  </svg>\n",
              "      </button>\n",
              "      \n",
              "  <style>\n",
              "    .colab-df-container {\n",
              "      display:flex;\n",
              "      flex-wrap:wrap;\n",
              "      gap: 12px;\n",
              "    }\n",
              "\n",
              "    .colab-df-convert {\n",
              "      background-color: #E8F0FE;\n",
              "      border: none;\n",
              "      border-radius: 50%;\n",
              "      cursor: pointer;\n",
              "      display: none;\n",
              "      fill: #1967D2;\n",
              "      height: 32px;\n",
              "      padding: 0 0 0 0;\n",
              "      width: 32px;\n",
              "    }\n",
              "\n",
              "    .colab-df-convert:hover {\n",
              "      background-color: #E2EBFA;\n",
              "      box-shadow: 0px 1px 2px rgba(60, 64, 67, 0.3), 0px 1px 3px 1px rgba(60, 64, 67, 0.15);\n",
              "      fill: #174EA6;\n",
              "    }\n",
              "\n",
              "    [theme=dark] .colab-df-convert {\n",
              "      background-color: #3B4455;\n",
              "      fill: #D2E3FC;\n",
              "    }\n",
              "\n",
              "    [theme=dark] .colab-df-convert:hover {\n",
              "      background-color: #434B5C;\n",
              "      box-shadow: 0px 1px 3px 1px rgba(0, 0, 0, 0.15);\n",
              "      filter: drop-shadow(0px 1px 2px rgba(0, 0, 0, 0.3));\n",
              "      fill: #FFFFFF;\n",
              "    }\n",
              "  </style>\n",
              "\n",
              "      <script>\n",
              "        const buttonEl =\n",
              "          document.querySelector('#df-284f13c1-0dc3-4c0c-84fa-fbf5d03edd3b button.colab-df-convert');\n",
              "        buttonEl.style.display =\n",
              "          google.colab.kernel.accessAllowed ? 'block' : 'none';\n",
              "\n",
              "        async function convertToInteractive(key) {\n",
              "          const element = document.querySelector('#df-284f13c1-0dc3-4c0c-84fa-fbf5d03edd3b');\n",
              "          const dataTable =\n",
              "            await google.colab.kernel.invokeFunction('convertToInteractive',\n",
              "                                                     [key], {});\n",
              "          if (!dataTable) return;\n",
              "\n",
              "          const docLinkHtml = 'Like what you see? Visit the ' +\n",
              "            '<a target=\"_blank\" href=https://colab.research.google.com/notebooks/data_table.ipynb>data table notebook</a>'\n",
              "            + ' to learn more about interactive tables.';\n",
              "          element.innerHTML = '';\n",
              "          dataTable['output_type'] = 'display_data';\n",
              "          await google.colab.output.renderOutput(dataTable, element);\n",
              "          const docLink = document.createElement('div');\n",
              "          docLink.innerHTML = docLinkHtml;\n",
              "          element.appendChild(docLink);\n",
              "        }\n",
              "      </script>\n",
              "    </div>\n",
              "  </div>\n",
              "  "
            ],
            "text/plain": [
              "    cust_number  buisness_year  ...  month_of_due  year_of_due\n",
              "3     140105686         2020.0  ...             4         2020\n",
              "7     200744019         2020.0  ...             4         2020\n",
              "10    200418007         2020.0  ...             3         2020\n",
              "14    200739534         2020.0  ...             4         2020\n",
              "15    200353024         2020.0  ...             4         2020\n",
              "\n",
              "[5 rows x 16 columns]"
            ]
          },
          "metadata": {},
          "execution_count": 141
        }
      ],
      "source": [
        "nulldata2.head()"
      ]
    },
    {
      "cell_type": "markdown",
      "id": "27b88c5a",
      "metadata": {
        "id": "27b88c5a"
      },
      "source": [
        "### Now you can pass this dataset into you final model and store it into \"final_result\""
      ]
    },
    {
      "cell_type": "code",
      "execution_count": 142,
      "id": "9e0b6388",
      "metadata": {
        "id": "9e0b6388"
      },
      "outputs": [],
      "source": [
        "final_result = regressorfinal.predict(nulldata2)"
      ]
    },
    {
      "cell_type": "markdown",
      "id": "9653d3c6",
      "metadata": {
        "id": "9653d3c6"
      },
      "source": [
        "### you need to make the final_result as dataframe, with a column name \"avg_delay\"\n",
        "\n",
        "- Note - No need to change the code"
      ]
    },
    {
      "cell_type": "code",
      "execution_count": 143,
      "id": "25ef814d",
      "metadata": {
        "id": "25ef814d"
      },
      "outputs": [],
      "source": [
        "final_result = pd.Series(final_result,name='avg_delay')"
      ]
    },
    {
      "cell_type": "markdown",
      "id": "C86staIhyf2C",
      "metadata": {
        "id": "C86staIhyf2C"
      },
      "source": [
        "### Display the \"avg_delay\" column"
      ]
    },
    {
      "cell_type": "code",
      "execution_count": 144,
      "id": "4fd46406",
      "metadata": {
        "id": "4fd46406",
        "colab": {
          "base_uri": "https://localhost:8080/"
        },
        "outputId": "fc0f2d59-b210-4c3e-c5fd-42ba53840898"
      },
      "outputs": [
        {
          "output_type": "execute_result",
          "data": {
            "text/plain": [
              "0       414607.718750\n",
              "1       233566.812500\n",
              "2        34237.519531\n",
              "3        94997.148438\n",
              "4      -317422.437500\n",
              "            ...      \n",
              "9676    104537.335938\n",
              "9677     -4034.850830\n",
              "9678   -277402.781250\n",
              "9679    152940.796875\n",
              "9680    -46339.941406\n",
              "Name: avg_delay, Length: 9681, dtype: float32"
            ]
          },
          "metadata": {},
          "execution_count": 144
        }
      ],
      "source": [
        "final_result"
      ]
    },
    {
      "cell_type": "markdown",
      "id": "44f71a7e",
      "metadata": {
        "id": "44f71a7e"
      },
      "source": [
        "### Now you need to merge this final_result dataframe with the BACKUP of \"nulldata\" Dataframe which we have created in earlier steps"
      ]
    },
    {
      "cell_type": "code",
      "execution_count": 145,
      "id": "e8f0969d",
      "metadata": {
        "id": "e8f0969d"
      },
      "outputs": [],
      "source": [
        "nulldata1.reset_index(drop=True,inplace=True)\n",
        "Final = nulldata1.merge(final_result , on = nulldata.index )"
      ]
    },
    {
      "cell_type": "markdown",
      "id": "G-hLtxXgy4GZ",
      "metadata": {
        "id": "G-hLtxXgy4GZ"
      },
      "source": [
        "### Display the \"Final\" dataframe "
      ]
    },
    {
      "cell_type": "code",
      "execution_count": 146,
      "id": "71fb4dc0",
      "metadata": {
        "id": "71fb4dc0",
        "colab": {
          "base_uri": "https://localhost:8080/",
          "height": 522
        },
        "outputId": "c71e5a9a-502c-4c01-e66a-b6c6c5cae6c7"
      },
      "outputs": [
        {
          "output_type": "execute_result",
          "data": {
            "text/html": [
              "\n",
              "  <div id=\"df-681f44ea-bd03-48db-9718-6dc8cddfbdf2\">\n",
              "    <div class=\"colab-df-container\">\n",
              "      <div>\n",
              "<style scoped>\n",
              "    .dataframe tbody tr th:only-of-type {\n",
              "        vertical-align: middle;\n",
              "    }\n",
              "\n",
              "    .dataframe tbody tr th {\n",
              "        vertical-align: top;\n",
              "    }\n",
              "\n",
              "    .dataframe thead th {\n",
              "        text-align: right;\n",
              "    }\n",
              "</style>\n",
              "<table border=\"1\" class=\"dataframe\">\n",
              "  <thead>\n",
              "    <tr style=\"text-align: right;\">\n",
              "      <th></th>\n",
              "      <th>key_0</th>\n",
              "      <th>business_code</th>\n",
              "      <th>cust_number</th>\n",
              "      <th>name_customer</th>\n",
              "      <th>clear_date</th>\n",
              "      <th>buisness_year</th>\n",
              "      <th>doc_id</th>\n",
              "      <th>posting_date</th>\n",
              "      <th>due_in_date</th>\n",
              "      <th>baseline_create_date</th>\n",
              "      <th>cust_payment_terms</th>\n",
              "      <th>converted_usd</th>\n",
              "      <th>avg_delay</th>\n",
              "    </tr>\n",
              "  </thead>\n",
              "  <tbody>\n",
              "    <tr>\n",
              "      <th>0</th>\n",
              "      <td>3</td>\n",
              "      <td>CA02</td>\n",
              "      <td>0140105686</td>\n",
              "      <td>SYSC llc</td>\n",
              "      <td>NaT</td>\n",
              "      <td>2020.0</td>\n",
              "      <td>2.960623e+09</td>\n",
              "      <td>2020-03-30</td>\n",
              "      <td>2020-04-10</td>\n",
              "      <td>2020-03-31</td>\n",
              "      <td>CA10</td>\n",
              "      <td>2309.79</td>\n",
              "      <td>414607.718750</td>\n",
              "    </tr>\n",
              "    <tr>\n",
              "      <th>1</th>\n",
              "      <td>7</td>\n",
              "      <td>U001</td>\n",
              "      <td>0200744019</td>\n",
              "      <td>TARG us</td>\n",
              "      <td>NaT</td>\n",
              "      <td>2020.0</td>\n",
              "      <td>1.930659e+09</td>\n",
              "      <td>2020-03-19</td>\n",
              "      <td>2020-04-03</td>\n",
              "      <td>2020-03-19</td>\n",
              "      <td>NAA8</td>\n",
              "      <td>11173.02</td>\n",
              "      <td>233566.812500</td>\n",
              "    </tr>\n",
              "    <tr>\n",
              "      <th>2</th>\n",
              "      <td>10</td>\n",
              "      <td>U001</td>\n",
              "      <td>0200418007</td>\n",
              "      <td>AM</td>\n",
              "      <td>NaT</td>\n",
              "      <td>2020.0</td>\n",
              "      <td>1.930611e+09</td>\n",
              "      <td>2020-03-11</td>\n",
              "      <td>2020-03-26</td>\n",
              "      <td>2020-03-11</td>\n",
              "      <td>NAA8</td>\n",
              "      <td>3525.59</td>\n",
              "      <td>34237.519531</td>\n",
              "    </tr>\n",
              "    <tr>\n",
              "      <th>3</th>\n",
              "      <td>14</td>\n",
              "      <td>U001</td>\n",
              "      <td>0200739534</td>\n",
              "      <td>OK systems</td>\n",
              "      <td>NaT</td>\n",
              "      <td>2020.0</td>\n",
              "      <td>1.930788e+09</td>\n",
              "      <td>2020-04-15</td>\n",
              "      <td>2020-04-30</td>\n",
              "      <td>2020-04-15</td>\n",
              "      <td>NAA8</td>\n",
              "      <td>121105.65</td>\n",
              "      <td>94997.148438</td>\n",
              "    </tr>\n",
              "    <tr>\n",
              "      <th>4</th>\n",
              "      <td>15</td>\n",
              "      <td>U001</td>\n",
              "      <td>0200353024</td>\n",
              "      <td>DECA corporation</td>\n",
              "      <td>NaT</td>\n",
              "      <td>2020.0</td>\n",
              "      <td>1.930817e+09</td>\n",
              "      <td>2020-04-23</td>\n",
              "      <td>2020-04-26</td>\n",
              "      <td>2020-04-16</td>\n",
              "      <td>NAM2</td>\n",
              "      <td>3726.06</td>\n",
              "      <td>-317422.437500</td>\n",
              "    </tr>\n",
              "    <tr>\n",
              "      <th>...</th>\n",
              "      <td>...</td>\n",
              "      <td>...</td>\n",
              "      <td>...</td>\n",
              "      <td>...</td>\n",
              "      <td>...</td>\n",
              "      <td>...</td>\n",
              "      <td>...</td>\n",
              "      <td>...</td>\n",
              "      <td>...</td>\n",
              "      <td>...</td>\n",
              "      <td>...</td>\n",
              "      <td>...</td>\n",
              "      <td>...</td>\n",
              "    </tr>\n",
              "    <tr>\n",
              "      <th>9676</th>\n",
              "      <td>49975</td>\n",
              "      <td>U001</td>\n",
              "      <td>0200769623</td>\n",
              "      <td>WAL-MAR in</td>\n",
              "      <td>NaT</td>\n",
              "      <td>2020.0</td>\n",
              "      <td>1.930625e+09</td>\n",
              "      <td>2020-03-10</td>\n",
              "      <td>2020-03-25</td>\n",
              "      <td>2020-03-10</td>\n",
              "      <td>NAH4</td>\n",
              "      <td>13114.99</td>\n",
              "      <td>104537.335938</td>\n",
              "    </tr>\n",
              "    <tr>\n",
              "      <th>9677</th>\n",
              "      <td>49980</td>\n",
              "      <td>U001</td>\n",
              "      <td>0200769623</td>\n",
              "      <td>WAL-MAR corporation</td>\n",
              "      <td>NaT</td>\n",
              "      <td>2020.0</td>\n",
              "      <td>1.930851e+09</td>\n",
              "      <td>2020-05-03</td>\n",
              "      <td>2020-05-18</td>\n",
              "      <td>2020-05-03</td>\n",
              "      <td>NAH4</td>\n",
              "      <td>8899.71</td>\n",
              "      <td>-4034.850830</td>\n",
              "    </tr>\n",
              "    <tr>\n",
              "      <th>9678</th>\n",
              "      <td>49982</td>\n",
              "      <td>U001</td>\n",
              "      <td>0200148860</td>\n",
              "      <td>DOLLA co</td>\n",
              "      <td>NaT</td>\n",
              "      <td>2020.0</td>\n",
              "      <td>1.930638e+09</td>\n",
              "      <td>2020-03-11</td>\n",
              "      <td>2020-03-26</td>\n",
              "      <td>2020-03-11</td>\n",
              "      <td>NAA8</td>\n",
              "      <td>4967.06</td>\n",
              "      <td>-277402.781250</td>\n",
              "    </tr>\n",
              "    <tr>\n",
              "      <th>9679</th>\n",
              "      <td>49992</td>\n",
              "      <td>U001</td>\n",
              "      <td>0200900909</td>\n",
              "      <td>SYSCO co</td>\n",
              "      <td>NaT</td>\n",
              "      <td>2020.0</td>\n",
              "      <td>1.930702e+09</td>\n",
              "      <td>2020-03-25</td>\n",
              "      <td>2020-04-09</td>\n",
              "      <td>2020-03-25</td>\n",
              "      <td>NAA8</td>\n",
              "      <td>1998.64</td>\n",
              "      <td>152940.796875</td>\n",
              "    </tr>\n",
              "    <tr>\n",
              "      <th>9680</th>\n",
              "      <td>49995</td>\n",
              "      <td>U001</td>\n",
              "      <td>0200561861</td>\n",
              "      <td>CO corporation</td>\n",
              "      <td>NaT</td>\n",
              "      <td>2020.0</td>\n",
              "      <td>1.930797e+09</td>\n",
              "      <td>2020-04-21</td>\n",
              "      <td>2020-05-06</td>\n",
              "      <td>2020-04-21</td>\n",
              "      <td>NAA8</td>\n",
              "      <td>3187.86</td>\n",
              "      <td>-46339.941406</td>\n",
              "    </tr>\n",
              "  </tbody>\n",
              "</table>\n",
              "<p>9681 rows × 13 columns</p>\n",
              "</div>\n",
              "      <button class=\"colab-df-convert\" onclick=\"convertToInteractive('df-681f44ea-bd03-48db-9718-6dc8cddfbdf2')\"\n",
              "              title=\"Convert this dataframe to an interactive table.\"\n",
              "              style=\"display:none;\">\n",
              "        \n",
              "  <svg xmlns=\"http://www.w3.org/2000/svg\" height=\"24px\"viewBox=\"0 0 24 24\"\n",
              "       width=\"24px\">\n",
              "    <path d=\"M0 0h24v24H0V0z\" fill=\"none\"/>\n",
              "    <path d=\"M18.56 5.44l.94 2.06.94-2.06 2.06-.94-2.06-.94-.94-2.06-.94 2.06-2.06.94zm-11 1L8.5 8.5l.94-2.06 2.06-.94-2.06-.94L8.5 2.5l-.94 2.06-2.06.94zm10 10l.94 2.06.94-2.06 2.06-.94-2.06-.94-.94-2.06-.94 2.06-2.06.94z\"/><path d=\"M17.41 7.96l-1.37-1.37c-.4-.4-.92-.59-1.43-.59-.52 0-1.04.2-1.43.59L10.3 9.45l-7.72 7.72c-.78.78-.78 2.05 0 2.83L4 21.41c.39.39.9.59 1.41.59.51 0 1.02-.2 1.41-.59l7.78-7.78 2.81-2.81c.8-.78.8-2.07 0-2.86zM5.41 20L4 18.59l7.72-7.72 1.47 1.35L5.41 20z\"/>\n",
              "  </svg>\n",
              "      </button>\n",
              "      \n",
              "  <style>\n",
              "    .colab-df-container {\n",
              "      display:flex;\n",
              "      flex-wrap:wrap;\n",
              "      gap: 12px;\n",
              "    }\n",
              "\n",
              "    .colab-df-convert {\n",
              "      background-color: #E8F0FE;\n",
              "      border: none;\n",
              "      border-radius: 50%;\n",
              "      cursor: pointer;\n",
              "      display: none;\n",
              "      fill: #1967D2;\n",
              "      height: 32px;\n",
              "      padding: 0 0 0 0;\n",
              "      width: 32px;\n",
              "    }\n",
              "\n",
              "    .colab-df-convert:hover {\n",
              "      background-color: #E2EBFA;\n",
              "      box-shadow: 0px 1px 2px rgba(60, 64, 67, 0.3), 0px 1px 3px 1px rgba(60, 64, 67, 0.15);\n",
              "      fill: #174EA6;\n",
              "    }\n",
              "\n",
              "    [theme=dark] .colab-df-convert {\n",
              "      background-color: #3B4455;\n",
              "      fill: #D2E3FC;\n",
              "    }\n",
              "\n",
              "    [theme=dark] .colab-df-convert:hover {\n",
              "      background-color: #434B5C;\n",
              "      box-shadow: 0px 1px 3px 1px rgba(0, 0, 0, 0.15);\n",
              "      filter: drop-shadow(0px 1px 2px rgba(0, 0, 0, 0.3));\n",
              "      fill: #FFFFFF;\n",
              "    }\n",
              "  </style>\n",
              "\n",
              "      <script>\n",
              "        const buttonEl =\n",
              "          document.querySelector('#df-681f44ea-bd03-48db-9718-6dc8cddfbdf2 button.colab-df-convert');\n",
              "        buttonEl.style.display =\n",
              "          google.colab.kernel.accessAllowed ? 'block' : 'none';\n",
              "\n",
              "        async function convertToInteractive(key) {\n",
              "          const element = document.querySelector('#df-681f44ea-bd03-48db-9718-6dc8cddfbdf2');\n",
              "          const dataTable =\n",
              "            await google.colab.kernel.invokeFunction('convertToInteractive',\n",
              "                                                     [key], {});\n",
              "          if (!dataTable) return;\n",
              "\n",
              "          const docLinkHtml = 'Like what you see? Visit the ' +\n",
              "            '<a target=\"_blank\" href=https://colab.research.google.com/notebooks/data_table.ipynb>data table notebook</a>'\n",
              "            + ' to learn more about interactive tables.';\n",
              "          element.innerHTML = '';\n",
              "          dataTable['output_type'] = 'display_data';\n",
              "          await google.colab.output.renderOutput(dataTable, element);\n",
              "          const docLink = document.createElement('div');\n",
              "          docLink.innerHTML = docLinkHtml;\n",
              "          element.appendChild(docLink);\n",
              "        }\n",
              "      </script>\n",
              "    </div>\n",
              "  </div>\n",
              "  "
            ],
            "text/plain": [
              "      key_0 business_code  ... converted_usd      avg_delay\n",
              "0         3          CA02  ...       2309.79  414607.718750\n",
              "1         7          U001  ...      11173.02  233566.812500\n",
              "2        10          U001  ...       3525.59   34237.519531\n",
              "3        14          U001  ...     121105.65   94997.148438\n",
              "4        15          U001  ...       3726.06 -317422.437500\n",
              "...     ...           ...  ...           ...            ...\n",
              "9676  49975          U001  ...      13114.99  104537.335938\n",
              "9677  49980          U001  ...       8899.71   -4034.850830\n",
              "9678  49982          U001  ...       4967.06 -277402.781250\n",
              "9679  49992          U001  ...       1998.64  152940.796875\n",
              "9680  49995          U001  ...       3187.86  -46339.941406\n",
              "\n",
              "[9681 rows x 13 columns]"
            ]
          },
          "metadata": {},
          "execution_count": 146
        }
      ],
      "source": [
        "Final"
      ]
    },
    {
      "cell_type": "markdown",
      "id": "4sc27Uz-y-0O",
      "metadata": {
        "id": "4sc27Uz-y-0O"
      },
      "source": [
        "### Check for the Number of Rows and Columns in your \"Final\" dataframe "
      ]
    },
    {
      "cell_type": "code",
      "execution_count": 147,
      "id": "5iUXOIhzy_HR",
      "metadata": {
        "id": "5iUXOIhzy_HR",
        "colab": {
          "base_uri": "https://localhost:8080/"
        },
        "outputId": "0866c25d-38eb-48bc-b609-9bcdcab9d111"
      },
      "outputs": [
        {
          "output_type": "execute_result",
          "data": {
            "text/plain": [
              "(9681, 13)"
            ]
          },
          "metadata": {},
          "execution_count": 147
        }
      ],
      "source": [
        "Final.shape"
      ]
    },
    {
      "cell_type": "markdown",
      "id": "48886d2c",
      "metadata": {
        "id": "48886d2c"
      },
      "source": [
        "### Now, you need to do convert the below fields back into date and time format \n",
        "\n",
        "- Convert \"due_in_date\" into datetime format\n",
        "- Convert \"avg_delay\" into datetime format\n",
        "- Create a new column \"clear_date\" and store the sum of \"due_in_date\" and \"avg_delay\"\n",
        "- display the new \"clear_date\" column\n",
        "- Note - Code is given below, no need to change "
      ]
    },
    {
      "cell_type": "code",
      "execution_count": 148,
      "id": "243abc2d",
      "metadata": {
        "id": "243abc2d"
      },
      "outputs": [],
      "source": [
        "Final['clear_date'] = pd.to_datetime(Final['due_in_date']) + pd.to_timedelta(Final['avg_delay'], unit='s')"
      ]
    },
    {
      "cell_type": "markdown",
      "id": "9QcX_fAjIkYR",
      "metadata": {
        "id": "9QcX_fAjIkYR"
      },
      "source": [
        "### Display the \"clear_date\" column"
      ]
    },
    {
      "cell_type": "code",
      "execution_count": 149,
      "id": "740e1486",
      "metadata": {
        "id": "740e1486"
      },
      "outputs": [],
      "source": [
        "Final['clear_date'] = pd.to_datetime(Final['due_in_date']) + pd.to_timedelta(Final['avg_delay'], unit='s')"
      ]
    },
    {
      "cell_type": "markdown",
      "id": "MSkNLq6-z7rZ",
      "metadata": {
        "id": "MSkNLq6-z7rZ"
      },
      "source": [
        "### Convert the average delay into number of days format \n",
        "\n",
        "- Note - Formula = avg_delay//(24 * 3600)\n",
        "- Note - full code is given for this, no need to change "
      ]
    },
    {
      "cell_type": "code",
      "execution_count": 150,
      "id": "ce6b618a",
      "metadata": {
        "id": "ce6b618a"
      },
      "outputs": [],
      "source": [
        "Final['avg_delay'] = Final.apply(lambda row: row.avg_delay//(24 * 3600), axis = 1)"
      ]
    },
    {
      "cell_type": "markdown",
      "id": "wbBBZPjP0W7o",
      "metadata": {
        "id": "wbBBZPjP0W7o"
      },
      "source": [
        "### Display the \"avg_delay\" column "
      ]
    },
    {
      "cell_type": "code",
      "execution_count": 151,
      "id": "a494982f",
      "metadata": {
        "id": "a494982f",
        "scrolled": true,
        "colab": {
          "base_uri": "https://localhost:8080/"
        },
        "outputId": "66f152c0-1a11-49c4-926d-ea515abc574f"
      },
      "outputs": [
        {
          "output_type": "execute_result",
          "data": {
            "text/plain": [
              "0       4.0\n",
              "1       2.0\n",
              "2       0.0\n",
              "3       1.0\n",
              "4      -4.0\n",
              "       ... \n",
              "9676    1.0\n",
              "9677   -1.0\n",
              "9678   -4.0\n",
              "9679    1.0\n",
              "9680   -1.0\n",
              "Name: avg_delay, Length: 9681, dtype: float64"
            ]
          },
          "metadata": {},
          "execution_count": 151
        }
      ],
      "source": [
        "Final['avg_delay']"
      ]
    },
    {
      "cell_type": "markdown",
      "id": "815d8811",
      "metadata": {
        "id": "815d8811"
      },
      "source": [
        "### Now you need to convert average delay column into bucket\n",
        "\n",
        "- Need to perform binning \n",
        "- create a list of bins i.e. bins= [0,15,30,45,60,100]\n",
        "- create a list of labels i.e. labels = ['0-15','16-30','31-45','46-60','Greatar than 60']\n",
        "- perform binning by using cut() function from \"Final\" dataframe\n",
        "\n",
        "\n",
        "- Please fill up the first two rows of the code"
      ]
    },
    {
      "cell_type": "code",
      "execution_count": 152,
      "id": "c797e4b5",
      "metadata": {
        "id": "c797e4b5"
      },
      "outputs": [],
      "source": [
        "bins= [0,15,30,45,60,100]\n",
        "labels =['0-15','16-30','31-45','46-60','Greatar than 60']\n",
        "Final['Aging Bucket'] = pd.cut(Final['avg_delay'], bins=bins, labels=labels, right=False)"
      ]
    },
    {
      "cell_type": "markdown",
      "id": "1c35725f",
      "metadata": {
        "id": "1c35725f"
      },
      "source": [
        "### Now you need to drop \"key_0\" and \"avg_delay\" columns from the \"Final\" Dataframe"
      ]
    },
    {
      "cell_type": "code",
      "execution_count": 153,
      "id": "b31bc6a3",
      "metadata": {
        "id": "b31bc6a3"
      },
      "outputs": [],
      "source": [
        "Final.drop(['key_0','avg_delay'],axis=1,inplace=True)"
      ]
    },
    {
      "cell_type": "markdown",
      "id": "Ui-tyIvU0-5u",
      "metadata": {
        "id": "Ui-tyIvU0-5u"
      },
      "source": [
        "### Display the count of each categoty of new \"Aging Bucket\" column "
      ]
    },
    {
      "cell_type": "code",
      "execution_count": 154,
      "id": "a6e16218",
      "metadata": {
        "id": "a6e16218",
        "colab": {
          "base_uri": "https://localhost:8080/"
        },
        "outputId": "7f2b0094-3c27-4aff-f4ff-3699744a8603"
      },
      "outputs": [
        {
          "output_type": "execute_result",
          "data": {
            "text/plain": [
              "0-15               5681\n",
              "31-45                66\n",
              "16-30                 7\n",
              "46-60                 5\n",
              "Greatar than 60       0\n",
              "Name: Aging Bucket, dtype: int64"
            ]
          },
          "metadata": {},
          "execution_count": 154
        }
      ],
      "source": [
        "counts = Final[\"Aging Bucket\"].value_counts()\n",
        "counts"
      ]
    },
    {
      "cell_type": "markdown",
      "id": "kgYegy551GKJ",
      "metadata": {
        "id": "kgYegy551GKJ"
      },
      "source": [
        "### Display your final dataset with aging buckets "
      ]
    },
    {
      "cell_type": "code",
      "execution_count": 155,
      "id": "c4bc87ec",
      "metadata": {
        "id": "c4bc87ec",
        "colab": {
          "base_uri": "https://localhost:8080/",
          "height": 679
        },
        "outputId": "0cbed494-023e-40ce-e9cf-68c88b679fc2"
      },
      "outputs": [
        {
          "output_type": "execute_result",
          "data": {
            "text/html": [
              "\n",
              "  <div id=\"df-bdd32b9b-722f-4c40-aaa9-1beccecab70b\">\n",
              "    <div class=\"colab-df-container\">\n",
              "      <div>\n",
              "<style scoped>\n",
              "    .dataframe tbody tr th:only-of-type {\n",
              "        vertical-align: middle;\n",
              "    }\n",
              "\n",
              "    .dataframe tbody tr th {\n",
              "        vertical-align: top;\n",
              "    }\n",
              "\n",
              "    .dataframe thead th {\n",
              "        text-align: right;\n",
              "    }\n",
              "</style>\n",
              "<table border=\"1\" class=\"dataframe\">\n",
              "  <thead>\n",
              "    <tr style=\"text-align: right;\">\n",
              "      <th></th>\n",
              "      <th>business_code</th>\n",
              "      <th>cust_number</th>\n",
              "      <th>name_customer</th>\n",
              "      <th>clear_date</th>\n",
              "      <th>buisness_year</th>\n",
              "      <th>doc_id</th>\n",
              "      <th>posting_date</th>\n",
              "      <th>due_in_date</th>\n",
              "      <th>baseline_create_date</th>\n",
              "      <th>cust_payment_terms</th>\n",
              "      <th>converted_usd</th>\n",
              "      <th>Aging Bucket</th>\n",
              "    </tr>\n",
              "  </thead>\n",
              "  <tbody>\n",
              "    <tr>\n",
              "      <th>0</th>\n",
              "      <td>CA02</td>\n",
              "      <td>0140105686</td>\n",
              "      <td>SYSC llc</td>\n",
              "      <td>2020-04-14 19:10:07.718750000</td>\n",
              "      <td>2020.0</td>\n",
              "      <td>2.960623e+09</td>\n",
              "      <td>2020-03-30</td>\n",
              "      <td>2020-04-10</td>\n",
              "      <td>2020-03-31</td>\n",
              "      <td>CA10</td>\n",
              "      <td>2309.79</td>\n",
              "      <td>0-15</td>\n",
              "    </tr>\n",
              "    <tr>\n",
              "      <th>1</th>\n",
              "      <td>U001</td>\n",
              "      <td>0200744019</td>\n",
              "      <td>TARG us</td>\n",
              "      <td>2020-04-05 16:52:46.812500000</td>\n",
              "      <td>2020.0</td>\n",
              "      <td>1.930659e+09</td>\n",
              "      <td>2020-03-19</td>\n",
              "      <td>2020-04-03</td>\n",
              "      <td>2020-03-19</td>\n",
              "      <td>NAA8</td>\n",
              "      <td>11173.02</td>\n",
              "      <td>0-15</td>\n",
              "    </tr>\n",
              "    <tr>\n",
              "      <th>2</th>\n",
              "      <td>U001</td>\n",
              "      <td>0200418007</td>\n",
              "      <td>AM</td>\n",
              "      <td>2020-03-26 09:30:37.519531250</td>\n",
              "      <td>2020.0</td>\n",
              "      <td>1.930611e+09</td>\n",
              "      <td>2020-03-11</td>\n",
              "      <td>2020-03-26</td>\n",
              "      <td>2020-03-11</td>\n",
              "      <td>NAA8</td>\n",
              "      <td>3525.59</td>\n",
              "      <td>0-15</td>\n",
              "    </tr>\n",
              "    <tr>\n",
              "      <th>3</th>\n",
              "      <td>U001</td>\n",
              "      <td>0200739534</td>\n",
              "      <td>OK systems</td>\n",
              "      <td>2020-05-01 02:23:17.148437500</td>\n",
              "      <td>2020.0</td>\n",
              "      <td>1.930788e+09</td>\n",
              "      <td>2020-04-15</td>\n",
              "      <td>2020-04-30</td>\n",
              "      <td>2020-04-15</td>\n",
              "      <td>NAA8</td>\n",
              "      <td>121105.65</td>\n",
              "      <td>0-15</td>\n",
              "    </tr>\n",
              "    <tr>\n",
              "      <th>4</th>\n",
              "      <td>U001</td>\n",
              "      <td>0200353024</td>\n",
              "      <td>DECA corporation</td>\n",
              "      <td>2020-04-22 07:49:37.562500000</td>\n",
              "      <td>2020.0</td>\n",
              "      <td>1.930817e+09</td>\n",
              "      <td>2020-04-23</td>\n",
              "      <td>2020-04-26</td>\n",
              "      <td>2020-04-16</td>\n",
              "      <td>NAM2</td>\n",
              "      <td>3726.06</td>\n",
              "      <td>NaN</td>\n",
              "    </tr>\n",
              "    <tr>\n",
              "      <th>...</th>\n",
              "      <td>...</td>\n",
              "      <td>...</td>\n",
              "      <td>...</td>\n",
              "      <td>...</td>\n",
              "      <td>...</td>\n",
              "      <td>...</td>\n",
              "      <td>...</td>\n",
              "      <td>...</td>\n",
              "      <td>...</td>\n",
              "      <td>...</td>\n",
              "      <td>...</td>\n",
              "      <td>...</td>\n",
              "    </tr>\n",
              "    <tr>\n",
              "      <th>9676</th>\n",
              "      <td>U001</td>\n",
              "      <td>0200769623</td>\n",
              "      <td>WAL-MAR in</td>\n",
              "      <td>2020-03-26 05:02:17.335937500</td>\n",
              "      <td>2020.0</td>\n",
              "      <td>1.930625e+09</td>\n",
              "      <td>2020-03-10</td>\n",
              "      <td>2020-03-25</td>\n",
              "      <td>2020-03-10</td>\n",
              "      <td>NAH4</td>\n",
              "      <td>13114.99</td>\n",
              "      <td>0-15</td>\n",
              "    </tr>\n",
              "    <tr>\n",
              "      <th>9677</th>\n",
              "      <td>U001</td>\n",
              "      <td>0200769623</td>\n",
              "      <td>WAL-MAR corporation</td>\n",
              "      <td>2020-05-17 22:52:45.149169922</td>\n",
              "      <td>2020.0</td>\n",
              "      <td>1.930851e+09</td>\n",
              "      <td>2020-05-03</td>\n",
              "      <td>2020-05-18</td>\n",
              "      <td>2020-05-03</td>\n",
              "      <td>NAH4</td>\n",
              "      <td>8899.71</td>\n",
              "      <td>NaN</td>\n",
              "    </tr>\n",
              "    <tr>\n",
              "      <th>9678</th>\n",
              "      <td>U001</td>\n",
              "      <td>0200148860</td>\n",
              "      <td>DOLLA co</td>\n",
              "      <td>2020-03-22 18:56:37.218750000</td>\n",
              "      <td>2020.0</td>\n",
              "      <td>1.930638e+09</td>\n",
              "      <td>2020-03-11</td>\n",
              "      <td>2020-03-26</td>\n",
              "      <td>2020-03-11</td>\n",
              "      <td>NAA8</td>\n",
              "      <td>4967.06</td>\n",
              "      <td>NaN</td>\n",
              "    </tr>\n",
              "    <tr>\n",
              "      <th>9679</th>\n",
              "      <td>U001</td>\n",
              "      <td>0200900909</td>\n",
              "      <td>SYSCO co</td>\n",
              "      <td>2020-04-10 18:29:00.796875000</td>\n",
              "      <td>2020.0</td>\n",
              "      <td>1.930702e+09</td>\n",
              "      <td>2020-03-25</td>\n",
              "      <td>2020-04-09</td>\n",
              "      <td>2020-03-25</td>\n",
              "      <td>NAA8</td>\n",
              "      <td>1998.64</td>\n",
              "      <td>0-15</td>\n",
              "    </tr>\n",
              "    <tr>\n",
              "      <th>9680</th>\n",
              "      <td>U001</td>\n",
              "      <td>0200561861</td>\n",
              "      <td>CO corporation</td>\n",
              "      <td>2020-05-05 11:07:40.058593750</td>\n",
              "      <td>2020.0</td>\n",
              "      <td>1.930797e+09</td>\n",
              "      <td>2020-04-21</td>\n",
              "      <td>2020-05-06</td>\n",
              "      <td>2020-04-21</td>\n",
              "      <td>NAA8</td>\n",
              "      <td>3187.86</td>\n",
              "      <td>NaN</td>\n",
              "    </tr>\n",
              "  </tbody>\n",
              "</table>\n",
              "<p>9681 rows × 12 columns</p>\n",
              "</div>\n",
              "      <button class=\"colab-df-convert\" onclick=\"convertToInteractive('df-bdd32b9b-722f-4c40-aaa9-1beccecab70b')\"\n",
              "              title=\"Convert this dataframe to an interactive table.\"\n",
              "              style=\"display:none;\">\n",
              "        \n",
              "  <svg xmlns=\"http://www.w3.org/2000/svg\" height=\"24px\"viewBox=\"0 0 24 24\"\n",
              "       width=\"24px\">\n",
              "    <path d=\"M0 0h24v24H0V0z\" fill=\"none\"/>\n",
              "    <path d=\"M18.56 5.44l.94 2.06.94-2.06 2.06-.94-2.06-.94-.94-2.06-.94 2.06-2.06.94zm-11 1L8.5 8.5l.94-2.06 2.06-.94-2.06-.94L8.5 2.5l-.94 2.06-2.06.94zm10 10l.94 2.06.94-2.06 2.06-.94-2.06-.94-.94-2.06-.94 2.06-2.06.94z\"/><path d=\"M17.41 7.96l-1.37-1.37c-.4-.4-.92-.59-1.43-.59-.52 0-1.04.2-1.43.59L10.3 9.45l-7.72 7.72c-.78.78-.78 2.05 0 2.83L4 21.41c.39.39.9.59 1.41.59.51 0 1.02-.2 1.41-.59l7.78-7.78 2.81-2.81c.8-.78.8-2.07 0-2.86zM5.41 20L4 18.59l7.72-7.72 1.47 1.35L5.41 20z\"/>\n",
              "  </svg>\n",
              "      </button>\n",
              "      \n",
              "  <style>\n",
              "    .colab-df-container {\n",
              "      display:flex;\n",
              "      flex-wrap:wrap;\n",
              "      gap: 12px;\n",
              "    }\n",
              "\n",
              "    .colab-df-convert {\n",
              "      background-color: #E8F0FE;\n",
              "      border: none;\n",
              "      border-radius: 50%;\n",
              "      cursor: pointer;\n",
              "      display: none;\n",
              "      fill: #1967D2;\n",
              "      height: 32px;\n",
              "      padding: 0 0 0 0;\n",
              "      width: 32px;\n",
              "    }\n",
              "\n",
              "    .colab-df-convert:hover {\n",
              "      background-color: #E2EBFA;\n",
              "      box-shadow: 0px 1px 2px rgba(60, 64, 67, 0.3), 0px 1px 3px 1px rgba(60, 64, 67, 0.15);\n",
              "      fill: #174EA6;\n",
              "    }\n",
              "\n",
              "    [theme=dark] .colab-df-convert {\n",
              "      background-color: #3B4455;\n",
              "      fill: #D2E3FC;\n",
              "    }\n",
              "\n",
              "    [theme=dark] .colab-df-convert:hover {\n",
              "      background-color: #434B5C;\n",
              "      box-shadow: 0px 1px 3px 1px rgba(0, 0, 0, 0.15);\n",
              "      filter: drop-shadow(0px 1px 2px rgba(0, 0, 0, 0.3));\n",
              "      fill: #FFFFFF;\n",
              "    }\n",
              "  </style>\n",
              "\n",
              "      <script>\n",
              "        const buttonEl =\n",
              "          document.querySelector('#df-bdd32b9b-722f-4c40-aaa9-1beccecab70b button.colab-df-convert');\n",
              "        buttonEl.style.display =\n",
              "          google.colab.kernel.accessAllowed ? 'block' : 'none';\n",
              "\n",
              "        async function convertToInteractive(key) {\n",
              "          const element = document.querySelector('#df-bdd32b9b-722f-4c40-aaa9-1beccecab70b');\n",
              "          const dataTable =\n",
              "            await google.colab.kernel.invokeFunction('convertToInteractive',\n",
              "                                                     [key], {});\n",
              "          if (!dataTable) return;\n",
              "\n",
              "          const docLinkHtml = 'Like what you see? Visit the ' +\n",
              "            '<a target=\"_blank\" href=https://colab.research.google.com/notebooks/data_table.ipynb>data table notebook</a>'\n",
              "            + ' to learn more about interactive tables.';\n",
              "          element.innerHTML = '';\n",
              "          dataTable['output_type'] = 'display_data';\n",
              "          await google.colab.output.renderOutput(dataTable, element);\n",
              "          const docLink = document.createElement('div');\n",
              "          docLink.innerHTML = docLinkHtml;\n",
              "          element.appendChild(docLink);\n",
              "        }\n",
              "      </script>\n",
              "    </div>\n",
              "  </div>\n",
              "  "
            ],
            "text/plain": [
              "     business_code cust_number  ... converted_usd Aging Bucket\n",
              "0             CA02  0140105686  ...       2309.79         0-15\n",
              "1             U001  0200744019  ...      11173.02         0-15\n",
              "2             U001  0200418007  ...       3525.59         0-15\n",
              "3             U001  0200739534  ...     121105.65         0-15\n",
              "4             U001  0200353024  ...       3726.06          NaN\n",
              "...            ...         ...  ...           ...          ...\n",
              "9676          U001  0200769623  ...      13114.99         0-15\n",
              "9677          U001  0200769623  ...       8899.71          NaN\n",
              "9678          U001  0200148860  ...       4967.06          NaN\n",
              "9679          U001  0200900909  ...       1998.64         0-15\n",
              "9680          U001  0200561861  ...       3187.86          NaN\n",
              "\n",
              "[9681 rows x 12 columns]"
            ]
          },
          "metadata": {},
          "execution_count": 155
        }
      ],
      "source": [
        "Final"
      ]
    },
    {
      "cell_type": "markdown",
      "id": "Ji7AoDCB1L_x",
      "metadata": {
        "id": "Ji7AoDCB1L_x"
      },
      "source": [
        "### Store this dataframe into the .csv format"
      ]
    },
    {
      "cell_type": "code",
      "execution_count": 156,
      "id": "727d0b8d",
      "metadata": {
        "id": "727d0b8d"
      },
      "outputs": [],
      "source": [
        "Final.to_csv('HRC20142W_POOJA_BHARDWAJ')"
      ]
    },
    {
      "cell_type": "markdown",
      "id": "FK0fabl61SkC",
      "metadata": {
        "id": "FK0fabl61SkC"
      },
      "source": [
        "# END OF THE PROJECT"
      ]
    }
  ],
  "metadata": {
    "colab": {
      "collapsed_sections": [
        "62633a84"
      ],
      "name": "HRC20142W_POOJA_BHARDWAJ_PREDICTION.ipynb",
      "provenance": []
    },
    "kernelspec": {
      "display_name": "Python 3",
      "language": "python",
      "name": "python3"
    },
    "language_info": {
      "codemirror_mode": {
        "name": "ipython",
        "version": 3
      },
      "file_extension": ".py",
      "mimetype": "text/x-python",
      "name": "python",
      "nbconvert_exporter": "python",
      "pygments_lexer": "ipython3",
      "version": "3.9.2"
    }
  },
  "nbformat": 4,
  "nbformat_minor": 5
}
